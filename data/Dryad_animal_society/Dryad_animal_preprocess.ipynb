{
 "cells": [
  {
   "cell_type": "code",
   "execution_count": 1,
   "id": "floppy-emission",
   "metadata": {},
   "outputs": [
    {
     "name": "stderr",
     "output_type": "stream",
     "text": [
      "2021-12-15 11:32:19.329569: I tensorflow/core/platform/cpu_feature_guard.cc:151] This TensorFlow binary is optimized with oneAPI Deep Neural Network Library (oneDNN) to use the following CPU instructions in performance-critical operations:  AVX2 AVX512F FMA\n",
      "To enable them in other operations, rebuild TensorFlow with the appropriate compiler flags.\n",
      "2021-12-15 11:32:23.596683: I tensorflow/core/common_runtime/gpu/gpu_device.cc:1525] Created device /job:localhost/replica:0/task:0/device:GPU:0 with 557 MB memory:  -> device: 0, name: Tesla T4, pci bus id: 0000:18:00.0, compute capability: 7.5\n",
      "2021-12-15 11:32:23.598545: I tensorflow/core/common_runtime/gpu/gpu_device.cc:1525] Created device /job:localhost/replica:0/task:0/device:GPU:1 with 13524 MB memory:  -> device: 1, name: Tesla T4, pci bus id: 0000:19:00.0, compute capability: 7.5\n",
      "2021-12-15 11:32:23.600092: I tensorflow/core/common_runtime/gpu/gpu_device.cc:1525] Created device /job:localhost/replica:0/task:0/device:GPU:2 with 13524 MB memory:  -> device: 2, name: Tesla T4, pci bus id: 0000:35:00.0, compute capability: 7.5\n",
      "2021-12-15 11:32:23.601588: I tensorflow/core/common_runtime/gpu/gpu_device.cc:1525] Created device /job:localhost/replica:0/task:0/device:GPU:3 with 13524 MB memory:  -> device: 3, name: Tesla T4, pci bus id: 0000:36:00.0, compute capability: 7.5\n",
      "2021-12-15 11:32:23.603086: I tensorflow/core/common_runtime/gpu/gpu_device.cc:1525] Created device /job:localhost/replica:0/task:0/device:GPU:4 with 13524 MB memory:  -> device: 4, name: Tesla T4, pci bus id: 0000:e7:00.0, compute capability: 7.5\n",
      "2021-12-15 11:32:23.604665: I tensorflow/core/common_runtime/gpu/gpu_device.cc:1525] Created device /job:localhost/replica:0/task:0/device:GPU:5 with 13524 MB memory:  -> device: 5, name: Tesla T4, pci bus id: 0000:e8:00.0, compute capability: 7.5\n",
      "2021-12-15 11:32:23.606155: I tensorflow/core/common_runtime/gpu/gpu_device.cc:1525] Created device /job:localhost/replica:0/task:0/device:GPU:6 with 13524 MB memory:  -> device: 6, name: Tesla T4, pci bus id: 0000:f4:00.0, compute capability: 7.5\n",
      "2021-12-15 11:32:23.607644: I tensorflow/core/common_runtime/gpu/gpu_device.cc:1525] Created device /job:localhost/replica:0/task:0/device:GPU:7 with 13524 MB memory:  -> device: 7, name: Tesla T4, pci bus id: 0000:f5:00.0, compute capability: 7.5\n"
     ]
    }
   ],
   "source": [
    "import sys\n",
    "sys.path.append('../../src/')\n",
    "\n",
    "import pandas as pd\n",
    "import numpy as np\n",
    "import networkx as nx\n",
    "import scipy.sparse as sp\n",
    "from stellargraph import StellarDiGraph\n",
    "\n",
    "from extract_network import extract_network"
   ]
  },
  {
   "cell_type": "code",
   "execution_count": 25,
   "id": "everyday-hypothetical",
   "metadata": {},
   "outputs": [],
   "source": [
    "data = pd.read_csv('./aggXquarter.txt',delimiter = \"\\t\")\n",
    "folder_name = './'"
   ]
  },
  {
   "cell_type": "code",
   "execution_count": 26,
   "id": "complicated-marsh",
   "metadata": {
    "scrolled": true
   },
   "outputs": [
    {
     "data": {
      "text/html": [
       "<div>\n",
       "<style scoped>\n",
       "    .dataframe tbody tr th:only-of-type {\n",
       "        vertical-align: middle;\n",
       "    }\n",
       "\n",
       "    .dataframe tbody tr th {\n",
       "        vertical-align: top;\n",
       "    }\n",
       "\n",
       "    .dataframe thead th {\n",
       "        text-align: right;\n",
       "    }\n",
       "</style>\n",
       "<table border=\"1\" class=\"dataframe\">\n",
       "  <thead>\n",
       "    <tr style=\"text-align: right;\">\n",
       "      <th></th>\n",
       "      <th>group</th>\n",
       "      <th>study.quarter</th>\n",
       "      <th>actor</th>\n",
       "      <th>target</th>\n",
       "      <th>number.wins</th>\n",
       "    </tr>\n",
       "  </thead>\n",
       "  <tbody>\n",
       "    <tr>\n",
       "      <th>0</th>\n",
       "      <td>G1</td>\n",
       "      <td>1</td>\n",
       "      <td>bbb</td>\n",
       "      <td>rgn</td>\n",
       "      <td>1</td>\n",
       "    </tr>\n",
       "    <tr>\n",
       "      <th>1</th>\n",
       "      <td>G1</td>\n",
       "      <td>1</td>\n",
       "      <td>bgn</td>\n",
       "      <td>bng</td>\n",
       "      <td>2</td>\n",
       "    </tr>\n",
       "    <tr>\n",
       "      <th>2</th>\n",
       "      <td>G1</td>\n",
       "      <td>1</td>\n",
       "      <td>bgn</td>\n",
       "      <td>ggg</td>\n",
       "      <td>4</td>\n",
       "    </tr>\n",
       "    <tr>\n",
       "      <th>3</th>\n",
       "      <td>G1</td>\n",
       "      <td>1</td>\n",
       "      <td>bgn</td>\n",
       "      <td>grr</td>\n",
       "      <td>1</td>\n",
       "    </tr>\n",
       "    <tr>\n",
       "      <th>4</th>\n",
       "      <td>G1</td>\n",
       "      <td>1</td>\n",
       "      <td>bgn</td>\n",
       "      <td>nrb</td>\n",
       "      <td>3</td>\n",
       "    </tr>\n",
       "    <tr>\n",
       "      <th>...</th>\n",
       "      <td>...</td>\n",
       "      <td>...</td>\n",
       "      <td>...</td>\n",
       "      <td>...</td>\n",
       "      <td>...</td>\n",
       "    </tr>\n",
       "    <tr>\n",
       "      <th>955</th>\n",
       "      <td>G2</td>\n",
       "      <td>4</td>\n",
       "      <td>rnr</td>\n",
       "      <td>ngg</td>\n",
       "      <td>1</td>\n",
       "    </tr>\n",
       "    <tr>\n",
       "      <th>956</th>\n",
       "      <td>G2</td>\n",
       "      <td>4</td>\n",
       "      <td>rnr</td>\n",
       "      <td>ngn</td>\n",
       "      <td>1</td>\n",
       "    </tr>\n",
       "    <tr>\n",
       "      <th>957</th>\n",
       "      <td>G2</td>\n",
       "      <td>4</td>\n",
       "      <td>rnr</td>\n",
       "      <td>nnb</td>\n",
       "      <td>2</td>\n",
       "    </tr>\n",
       "    <tr>\n",
       "      <th>958</th>\n",
       "      <td>G2</td>\n",
       "      <td>4</td>\n",
       "      <td>rnr</td>\n",
       "      <td>nnr</td>\n",
       "      <td>2</td>\n",
       "    </tr>\n",
       "    <tr>\n",
       "      <th>959</th>\n",
       "      <td>G2</td>\n",
       "      <td>4</td>\n",
       "      <td>rnr</td>\n",
       "      <td>nrn</td>\n",
       "      <td>1</td>\n",
       "    </tr>\n",
       "  </tbody>\n",
       "</table>\n",
       "<p>960 rows × 5 columns</p>\n",
       "</div>"
      ],
      "text/plain": [
       "    group  study.quarter actor target  number.wins\n",
       "0      G1              1   bbb    rgn            1\n",
       "1      G1              1   bgn    bng            2\n",
       "2      G1              1   bgn    ggg            4\n",
       "3      G1              1   bgn    grr            1\n",
       "4      G1              1   bgn    nrb            3\n",
       "..    ...            ...   ...    ...          ...\n",
       "955    G2              4   rnr    ngg            1\n",
       "956    G2              4   rnr    ngn            1\n",
       "957    G2              4   rnr    nnb            2\n",
       "958    G2              4   rnr    nnr            2\n",
       "959    G2              4   rnr    nrn            1\n",
       "\n",
       "[960 rows x 5 columns]"
      ]
     },
     "execution_count": 26,
     "metadata": {},
     "output_type": "execute_result"
    }
   ],
   "source": [
    "data"
   ]
  },
  {
   "cell_type": "code",
   "execution_count": 27,
   "id": "rough-image",
   "metadata": {},
   "outputs": [],
   "source": [
    "data = data.dropna(subset=['number.wins'])"
   ]
  },
  {
   "cell_type": "code",
   "execution_count": 28,
   "id": "colored-north",
   "metadata": {},
   "outputs": [
    {
     "data": {
      "text/html": [
       "<div>\n",
       "<style scoped>\n",
       "    .dataframe tbody tr th:only-of-type {\n",
       "        vertical-align: middle;\n",
       "    }\n",
       "\n",
       "    .dataframe tbody tr th {\n",
       "        vertical-align: top;\n",
       "    }\n",
       "\n",
       "    .dataframe thead th {\n",
       "        text-align: right;\n",
       "    }\n",
       "</style>\n",
       "<table border=\"1\" class=\"dataframe\">\n",
       "  <thead>\n",
       "    <tr style=\"text-align: right;\">\n",
       "      <th></th>\n",
       "      <th>group</th>\n",
       "      <th>study.quarter</th>\n",
       "      <th>actor</th>\n",
       "      <th>target</th>\n",
       "      <th>number.wins</th>\n",
       "    </tr>\n",
       "  </thead>\n",
       "  <tbody>\n",
       "    <tr>\n",
       "      <th>0</th>\n",
       "      <td>G1</td>\n",
       "      <td>1</td>\n",
       "      <td>bbb</td>\n",
       "      <td>rgn</td>\n",
       "      <td>1</td>\n",
       "    </tr>\n",
       "    <tr>\n",
       "      <th>1</th>\n",
       "      <td>G1</td>\n",
       "      <td>1</td>\n",
       "      <td>bgn</td>\n",
       "      <td>bng</td>\n",
       "      <td>2</td>\n",
       "    </tr>\n",
       "    <tr>\n",
       "      <th>2</th>\n",
       "      <td>G1</td>\n",
       "      <td>1</td>\n",
       "      <td>bgn</td>\n",
       "      <td>ggg</td>\n",
       "      <td>4</td>\n",
       "    </tr>\n",
       "    <tr>\n",
       "      <th>3</th>\n",
       "      <td>G1</td>\n",
       "      <td>1</td>\n",
       "      <td>bgn</td>\n",
       "      <td>grr</td>\n",
       "      <td>1</td>\n",
       "    </tr>\n",
       "    <tr>\n",
       "      <th>4</th>\n",
       "      <td>G1</td>\n",
       "      <td>1</td>\n",
       "      <td>bgn</td>\n",
       "      <td>nrb</td>\n",
       "      <td>3</td>\n",
       "    </tr>\n",
       "    <tr>\n",
       "      <th>...</th>\n",
       "      <td>...</td>\n",
       "      <td>...</td>\n",
       "      <td>...</td>\n",
       "      <td>...</td>\n",
       "      <td>...</td>\n",
       "    </tr>\n",
       "    <tr>\n",
       "      <th>955</th>\n",
       "      <td>G2</td>\n",
       "      <td>4</td>\n",
       "      <td>rnr</td>\n",
       "      <td>ngg</td>\n",
       "      <td>1</td>\n",
       "    </tr>\n",
       "    <tr>\n",
       "      <th>956</th>\n",
       "      <td>G2</td>\n",
       "      <td>4</td>\n",
       "      <td>rnr</td>\n",
       "      <td>ngn</td>\n",
       "      <td>1</td>\n",
       "    </tr>\n",
       "    <tr>\n",
       "      <th>957</th>\n",
       "      <td>G2</td>\n",
       "      <td>4</td>\n",
       "      <td>rnr</td>\n",
       "      <td>nnb</td>\n",
       "      <td>2</td>\n",
       "    </tr>\n",
       "    <tr>\n",
       "      <th>958</th>\n",
       "      <td>G2</td>\n",
       "      <td>4</td>\n",
       "      <td>rnr</td>\n",
       "      <td>nnr</td>\n",
       "      <td>2</td>\n",
       "    </tr>\n",
       "    <tr>\n",
       "      <th>959</th>\n",
       "      <td>G2</td>\n",
       "      <td>4</td>\n",
       "      <td>rnr</td>\n",
       "      <td>nrn</td>\n",
       "      <td>1</td>\n",
       "    </tr>\n",
       "  </tbody>\n",
       "</table>\n",
       "<p>960 rows × 5 columns</p>\n",
       "</div>"
      ],
      "text/plain": [
       "    group  study.quarter actor target  number.wins\n",
       "0      G1              1   bbb    rgn            1\n",
       "1      G1              1   bgn    bng            2\n",
       "2      G1              1   bgn    ggg            4\n",
       "3      G1              1   bgn    grr            1\n",
       "4      G1              1   bgn    nrb            3\n",
       "..    ...            ...   ...    ...          ...\n",
       "955    G2              4   rnr    ngg            1\n",
       "956    G2              4   rnr    ngn            1\n",
       "957    G2              4   rnr    nnb            2\n",
       "958    G2              4   rnr    nnr            2\n",
       "959    G2              4   rnr    nrn            1\n",
       "\n",
       "[960 rows x 5 columns]"
      ]
     },
     "execution_count": 28,
     "metadata": {},
     "output_type": "execute_result"
    }
   ],
   "source": [
    "data"
   ]
  },
  {
   "cell_type": "code",
   "execution_count": 29,
   "id": "interstate-france",
   "metadata": {},
   "outputs": [],
   "source": [
    "df = data[['actor', 'target', 'number.wins']]"
   ]
  },
  {
   "cell_type": "code",
   "execution_count": 30,
   "id": "grave-election",
   "metadata": {},
   "outputs": [],
   "source": [
    "df.columns = ['source', 'target', 'weight']"
   ]
  },
  {
   "cell_type": "code",
   "execution_count": 31,
   "id": "contained-triumph",
   "metadata": {},
   "outputs": [],
   "source": [
    "graph = StellarDiGraph(edges=df)"
   ]
  },
  {
   "cell_type": "code",
   "execution_count": 32,
   "id": "equivalent-cargo",
   "metadata": {},
   "outputs": [
    {
     "name": "stdout",
     "output_type": "stream",
     "text": [
      "StellarDiGraph: Directed multigraph\n",
      " Nodes: 40, Edges: 960\n",
      "\n",
      " Node types:\n",
      "  default: [40]\n",
      "    Features: none\n",
      "    Edge types: default-default->default\n",
      "\n",
      " Edge types:\n",
      "    default-default->default: [960]\n",
      "        Weights: range=[1, 39], mean=2.47187, std=2.93219\n",
      "        Features: none\n"
     ]
    }
   ],
   "source": [
    "print(graph.info())"
   ]
  },
  {
   "cell_type": "code",
   "execution_count": 33,
   "id": "immune-enforcement",
   "metadata": {},
   "outputs": [],
   "source": [
    "adj = graph.to_adjacency_matrix(weighted=True)"
   ]
  },
  {
   "cell_type": "code",
   "execution_count": 11,
   "id": "outdoor-bouquet",
   "metadata": {},
   "outputs": [
    {
     "data": {
      "text/plain": [
       "<40x40 sparse matrix of type '<class 'numpy.int64'>'\n",
       "\twith 421 stored elements in Compressed Sparse Row format>"
      ]
     },
     "execution_count": 11,
     "metadata": {},
     "output_type": "execute_result"
    }
   ],
   "source": [
    "adj"
   ]
  },
  {
   "cell_type": "code",
   "execution_count": 13,
   "id": "coral-species",
   "metadata": {},
   "outputs": [
    {
     "data": {
      "text/plain": [
       "<40x40 sparse matrix of type '<class 'numpy.int64'>'\n",
       "\twith 674 stored elements in Compressed Sparse Row format>"
      ]
     },
     "execution_count": 13,
     "metadata": {},
     "output_type": "execute_result"
    }
   ],
   "source": [
    "adj-adj.transpose()"
   ]
  },
  {
   "cell_type": "code",
   "execution_count": 14,
   "id": "imported-madness",
   "metadata": {},
   "outputs": [
    {
     "data": {
      "text/plain": [
       "62"
      ]
     },
     "execution_count": 14,
     "metadata": {},
     "output_type": "execute_result"
    }
   ],
   "source": [
    "adj.max()"
   ]
  },
  {
   "cell_type": "code",
   "execution_count": 15,
   "id": "solid-columbus",
   "metadata": {},
   "outputs": [
    {
     "data": {
      "text/plain": [
       "0"
      ]
     },
     "execution_count": 15,
     "metadata": {},
     "output_type": "execute_result"
    }
   ],
   "source": [
    "adj.min()"
   ]
  },
  {
   "cell_type": "code",
   "execution_count": 16,
   "id": "tamil-frontier",
   "metadata": {},
   "outputs": [
    {
     "data": {
      "text/html": [
       "<div>\n",
       "<style scoped>\n",
       "    .dataframe tbody tr th:only-of-type {\n",
       "        vertical-align: middle;\n",
       "    }\n",
       "\n",
       "    .dataframe tbody tr th {\n",
       "        vertical-align: top;\n",
       "    }\n",
       "\n",
       "    .dataframe thead th {\n",
       "        text-align: right;\n",
       "    }\n",
       "</style>\n",
       "<table border=\"1\" class=\"dataframe\">\n",
       "  <thead>\n",
       "    <tr style=\"text-align: right;\">\n",
       "      <th></th>\n",
       "      <th>source</th>\n",
       "      <th>target</th>\n",
       "      <th>weight</th>\n",
       "    </tr>\n",
       "  </thead>\n",
       "  <tbody>\n",
       "    <tr>\n",
       "      <th>0</th>\n",
       "      <td>bbb</td>\n",
       "      <td>rgn</td>\n",
       "      <td>1</td>\n",
       "    </tr>\n",
       "    <tr>\n",
       "      <th>1</th>\n",
       "      <td>bgn</td>\n",
       "      <td>bng</td>\n",
       "      <td>2</td>\n",
       "    </tr>\n",
       "    <tr>\n",
       "      <th>2</th>\n",
       "      <td>bgn</td>\n",
       "      <td>ggg</td>\n",
       "      <td>4</td>\n",
       "    </tr>\n",
       "    <tr>\n",
       "      <th>3</th>\n",
       "      <td>bgn</td>\n",
       "      <td>grr</td>\n",
       "      <td>1</td>\n",
       "    </tr>\n",
       "    <tr>\n",
       "      <th>4</th>\n",
       "      <td>bgn</td>\n",
       "      <td>nrb</td>\n",
       "      <td>3</td>\n",
       "    </tr>\n",
       "    <tr>\n",
       "      <th>...</th>\n",
       "      <td>...</td>\n",
       "      <td>...</td>\n",
       "      <td>...</td>\n",
       "    </tr>\n",
       "    <tr>\n",
       "      <th>955</th>\n",
       "      <td>rnr</td>\n",
       "      <td>ngg</td>\n",
       "      <td>1</td>\n",
       "    </tr>\n",
       "    <tr>\n",
       "      <th>956</th>\n",
       "      <td>rnr</td>\n",
       "      <td>ngn</td>\n",
       "      <td>1</td>\n",
       "    </tr>\n",
       "    <tr>\n",
       "      <th>957</th>\n",
       "      <td>rnr</td>\n",
       "      <td>nnb</td>\n",
       "      <td>2</td>\n",
       "    </tr>\n",
       "    <tr>\n",
       "      <th>958</th>\n",
       "      <td>rnr</td>\n",
       "      <td>nnr</td>\n",
       "      <td>2</td>\n",
       "    </tr>\n",
       "    <tr>\n",
       "      <th>959</th>\n",
       "      <td>rnr</td>\n",
       "      <td>nrn</td>\n",
       "      <td>1</td>\n",
       "    </tr>\n",
       "  </tbody>\n",
       "</table>\n",
       "<p>960 rows × 3 columns</p>\n",
       "</div>"
      ],
      "text/plain": [
       "    source target  weight\n",
       "0      bbb    rgn       1\n",
       "1      bgn    bng       2\n",
       "2      bgn    ggg       4\n",
       "3      bgn    grr       1\n",
       "4      bgn    nrb       3\n",
       "..     ...    ...     ...\n",
       "955    rnr    ngg       1\n",
       "956    rnr    ngn       1\n",
       "957    rnr    nnb       2\n",
       "958    rnr    nnr       2\n",
       "959    rnr    nrn       1\n",
       "\n",
       "[960 rows x 3 columns]"
      ]
     },
     "execution_count": 16,
     "metadata": {},
     "output_type": "execute_result"
    }
   ],
   "source": [
    "df"
   ]
  },
  {
   "cell_type": "code",
   "execution_count": 37,
   "id": "special-processing",
   "metadata": {},
   "outputs": [],
   "source": [
    "node_list = list(graph.nodes())"
   ]
  },
  {
   "cell_type": "code",
   "execution_count": 38,
   "id": "aware-pepper",
   "metadata": {},
   "outputs": [
    {
     "name": "stdout",
     "output_type": "stream",
     "text": [
      "40\n",
      "21\n"
     ]
    }
   ],
   "source": [
    "print(len(node_list))\n",
    "adj, node_list = extract_network(adj, np.array(node_list), lowest_degree=1)\n",
    "print(len(node_list))"
   ]
  },
  {
   "cell_type": "code",
   "execution_count": 39,
   "id": "df3bcf3a",
   "metadata": {},
   "outputs": [],
   "source": [
    "np.save(folder_name+'node_list', node_list)\n",
    "sp.save_npz(folder_name+'adj', adj)"
   ]
  },
  {
   "cell_type": "code",
   "execution_count": null,
   "id": "aaee6a88",
   "metadata": {},
   "outputs": [],
   "source": []
  }
 ],
 "metadata": {
  "kernelspec": {
   "display_name": "Python 3",
   "language": "python",
   "name": "python3"
  },
  "language_info": {
   "codemirror_mode": {
    "name": "ipython",
    "version": 3
   },
   "file_extension": ".py",
   "mimetype": "text/x-python",
   "name": "python",
   "nbconvert_exporter": "python",
   "pygments_lexer": "ipython3",
   "version": "3.6.9"
  }
 },
 "nbformat": 4,
 "nbformat_minor": 5
}
