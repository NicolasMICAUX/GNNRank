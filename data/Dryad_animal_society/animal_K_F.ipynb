{
 "cells": [
  {
   "cell_type": "code",
   "execution_count": 1,
   "id": "floppy-emission",
   "metadata": {},
   "outputs": [],
   "source": [
    "import numpy as np\n",
    "import scipy.sparse as sp\n",
    "import matplotlib.pyplot as plt\n",
    "import scipy.sparse.linalg"
   ]
  },
  {
   "cell_type": "code",
   "execution_count": 2,
   "id": "identified-genius",
   "metadata": {},
   "outputs": [],
   "source": [
    "def sqrtinvdiag(M):\n",
    "    \"\"\"Inverts and square-roots a positive diagonal matrix.\n",
    "    Args:\n",
    "        M (csc matrix): matrix to invert\n",
    "    Returns:\n",
    "        scipy sparse matrix of inverted square-root of diagonal\n",
    "    \"\"\"\n",
    "\n",
    "    d = M.diagonal()\n",
    "    dd = [1 / max(np.sqrt(x), 1 / 999999999) for x in d]\n",
    "\n",
    "    return sp.dia_matrix((dd, [0]), shape=(len(d), len(d))).tocsc()"
   ]
  },
  {
   "cell_type": "code",
   "execution_count": 5,
   "id": "comparative-winter",
   "metadata": {},
   "outputs": [
    {
     "name": "stdout",
     "output_type": "stream",
     "text": [
      "[1 3 2 0 4 7 8 6 5]\n",
      "[0.10025431 0.15874452 0.10815721 0.11630745 0.07455014 0.0226713\n",
      " 0.03118985 0.04406377 0.03325026]\n"
     ]
    },
    {
     "name": "stderr",
     "output_type": "stream",
     "text": [
      "/home/ubuntu/anaconda3/envs/py37/lib/python3.7/site-packages/ipykernel_launcher.py:12: RuntimeWarning: divide by zero encountered in true_divide\n",
      "  if sys.path[0] == '':\n"
     ]
    },
    {
     "data": {
      "image/png": "[encoded data removed]",
      "text/plain": [
       "<Figure size 432x288 with 1 Axes>"
      ]
     },
     "metadata": {
      "needs_background": "light"
     },
     "output_type": "display_data"
    }
   ],
   "source": [
    "adj = sp.load_npz('./adj.npz')\n",
    "A = adj.tocsc()\n",
    "D_out = sp.diags(A.transpose().sum(\n",
    "    axis=0).tolist(), [0]).tocsc()\n",
    "D_in = sp.diags(A.sum(axis=0).tolist(), [0]).tocsc()\n",
    "Dbar = (D_in + D_out)\n",
    "d = sqrtinvdiag(Dbar)\n",
    "normA = d * A * d\n",
    "size = A.shape[0]\n",
    "H = (A-A.transpose()) * 1j\n",
    "H_abs = np.abs(H)\n",
    "D_abs_inv = sp.diags(1/np.array(H_abs.sum(1))[:, 0])\n",
    "D_abs_inv.data[np.isinf(D_abs_inv.data)] = 0.0\n",
    "H_rw = D_abs_inv.dot(H)\n",
    "_, s, _ = sp.linalg.svds(H_rw, 10)\n",
    "eigens = s[list(np.arange(9,-1,-1))]\n",
    "eigengaps = eigens[:-1] - eigens[1:]\n",
    "print(np.argsort(-eigengaps))\n",
    "print(eigengaps)\n",
    "plt.plot(eigens)\n",
    "plt.show()\n",
    "# choose K = 3"
   ]
  },
  {
   "cell_type": "code",
   "execution_count": 6,
   "id": "dress-antenna",
   "metadata": {},
   "outputs": [
    {
     "data": {
      "text/plain": [
       "<21x21 sparse matrix of type '<class 'numpy.int64'>'\n",
       "\twith 193 stored elements in Compressed Sparse Row format>"
      ]
     },
     "execution_count": 6,
     "metadata": {},
     "output_type": "execute_result"
    }
   ],
   "source": [
    "adj"
   ]
  },
  {
   "cell_type": "code",
   "execution_count": 7,
   "id": "patent-album",
   "metadata": {},
   "outputs": [
    {
     "data": {
      "image/png": "[encoded data removed]",
      "text/plain": [
       "<Figure size 288x288 with 1 Axes>"
      ]
     },
     "metadata": {
      "needs_background": "light"
     },
     "output_type": "display_data"
    },
    {
     "data": {
      "text/plain": [
       "3"
      ]
     },
     "execution_count": 7,
     "metadata": {},
     "output_type": "execute_result"
    }
   ],
   "source": [
    "import sklearn.cluster as sl\n",
    "import torch\n",
    "import matplotlib.pyplot as plt\n",
    "\n",
    "num_clusters = 3\n",
    "u, s, vt = sp.linalg.svds(H_rw, num_clusters)\n",
    "features_SVD = np.concatenate((np.real(u), np.imag(u)), axis=1)\n",
    "labels = sl.KMeans(n_clusters=num_clusters).fit_predict(features_SVD)\n",
    "A = torch.FloatTensor(A.toarray())\n",
    "P = torch.zeros(labels.shape[0], num_clusters).to(A.device)\n",
    "for k in range(num_clusters):\n",
    "    P[labels == k, k] = 1\n",
    "flow_mat = np.ones([num_clusters, num_clusters])*0.5\n",
    "for k in range(num_clusters-1):\n",
    "    for l in range(k+1, num_clusters):\n",
    "        w_kl = torch.matmul(P[:, k], torch.matmul(A, P[:, l])).item()\n",
    "        w_lk = torch.matmul(P[:, l], torch.matmul(A, P[:, k])).item()\n",
    "        if (w_kl + w_lk) > 0:\n",
    "            flow_mat[k, l] = w_kl/(w_kl + w_lk)\n",
    "            flow_mat[l, k] = w_lk/(w_kl + w_lk)\n",
    "plt.matshow(flow_mat)\n",
    "plt.show()\n",
    "np.sum(flow_mat>0.9)"
   ]
  },
  {
   "cell_type": "code",
   "execution_count": null,
   "id": "round-hammer",
   "metadata": {},
   "outputs": [],
   "source": []
  }
 ],
 "metadata": {
  "kernelspec": {
   "display_name": "Python 3 (ipykernel)",
   "language": "python",
   "name": "python3"
  },
  "language_info": {
   "codemirror_mode": {
    "name": "ipython",
    "version": 3
   },
   "file_extension": ".py",
   "mimetype": "text/x-python",
   "name": "python",
   "nbconvert_exporter": "python",
   "pygments_lexer": "ipython3",
   "version": "3.7.11"
  }
 },
 "nbformat": 4,
 "nbformat_minor": 5
}
