{
 "cells": [
  {
   "cell_type": "code",
   "execution_count": 1,
   "metadata": {},
   "outputs": [],
   "source": [
    "import scipy.sparse as sp\n",
    "import numpy as np"
   ]
  },
  {
   "cell_type": "code",
   "execution_count": 13,
   "metadata": {},
   "outputs": [],
   "source": [
    "def dataset_info(dataset, A, K, d, return_values=False):\n",
    "    num_nodes = A.shape[0]\n",
    "    num_edges = len(A.nonzero()[0])\n",
    "    density = num_edges/(num_nodes*(num_nodes-1))\n",
    "    weighted = False\n",
    "    if A.max() > 1:\n",
    "        weighted = True\n",
    "    undirected_num = len((A.multiply(A.transpose())).nonzero()[0])\n",
    "    undirected_percentage = 100*undirected_num/num_edges\n",
    "    \n",
    "    print('\\\\textit{'+dataset+'}'+'&{}&{}&{:.2e}&{}&{:.2f}&{}&{}\\\\\\\\'.format(num_nodes,num_edges,density, \n",
    "                                                    undirected_num, undirected_percentage, K, d))\n",
    "    if return_values:\n",
    "        return num_nodes,num_edges,density, undirected_num, undirected_percentage, K, d\n",
    "    else:\n",
    "        return"
   ]
  },
  {
   "cell_type": "code",
   "execution_count": 14,
   "metadata": {},
   "outputs": [
    {
     "name": "stdout",
     "output_type": "stream",
     "text": [
      "\\textit{HeadToHead}&602&5010&1.38e-02&464&9.26&48&32\\\\\n",
      "\\textit{Football(2009-2010)}&20&215&5.66e-01&78&36.28&9&8\\\\\n",
      "\\textit{Basketball(2009)}&347&4155&3.46e-02&1046&25.17&20&16\\\\\n",
      "\\textit{Finer\\_Football(2009-2010)}&20&380&1.00e+00&380&100.00&9&8\\\\\n",
      "\\textit{Finer\\_Basketball(2009)}&347&7478&6.23e-02&7478&100.00&20&16\\\\\n",
      "\\textit{Dryad\\_animal\\_society}&21&193&4.60e-01&64&33.16&3&8\\\\\n",
      "\\textit{finance}&1315&1729225&1.00e+00&1729225&100.00&20&64\\\\\n",
      "\\textit{Faculty:Business}&113&1787&1.41e-01&0&0.00&5&16\\\\\n",
      "\\textit{Faculty:ComputerScience}&206&1407&3.33e-02&0&0.00&9&16\\\\\n",
      "\\textit{Faculty:History}&145&1204&5.77e-02&0&0.00&12&16\\\\\n"
     ]
    }
   ],
   "source": [
    "dataset_info('HeadToHead',sp.load_npz('Halo2BetaData/HeadToHeadadj.npz'), 48,32)\n",
    "dataset_info('Football(2009-2010)',sp.load_npz('Football_data_England_Premier_League/England_2009_2010adj.npz'), 9, 8)\n",
    "dataset_info('Basketball(2009)',sp.load_npz('Basketball_temporal/2009adj.npz'), 20, 16)\n",
    "dataset_info('Finer\\_Football(2009-2010)',sp.load_npz('Football_data_England_Premier_League/finerEngland_2009_2010adj.npz'), 9, 8)\n",
    "dataset_info('Finer\\_Basketball(2009)',sp.load_npz('Basketball_temporal/finer2009adj.npz'),20, 16)\n",
    "dataset_info('Dryad\\_animal\\_society',sp.load_npz('Dryad_animal_society/adj.npz'), 3, 8)\n",
    "dataset_info('finance',sp.load_npz('finance/adj.npz'),20,64)\n",
    "for K, sector in zip([5,9,12],['Business', 'ComputerScience', 'History']):\n",
    "    dataset_info('Faculty:'+sector,sp.load_npz('FacultyHiringNetworks/'+sector+'/'+sector+'_FM_Full_adj.npz'), K, 16)"
   ]
  },
  {
   "cell_type": "code",
   "execution_count": 15,
   "metadata": {},
   "outputs": [
    {
     "name": "stdout",
     "output_type": "stream",
     "text": [
      "\\textit{Basketball (1985)}&282&2904&3.66e-02&998&34.37&20&16\\\\\n",
      "\\textit{Basketball finer (1985)}&282&4814&6.08e-02&4814&100.00&20&16\\\\\n",
      "\\textit{Basketball (1986)}&283&2937&3.68e-02&1014&34.53&20&16\\\\\n",
      "\\textit{Basketball finer (1986)}&283&4862&6.09e-02&4862&100.00&20&16\\\\\n",
      "\\textit{Basketball (1987)}&290&3045&3.63e-02&1012&33.23&20&16\\\\\n",
      "\\textit{Basketball finer (1987)}&290&5088&6.07e-02&5088&100.00&20&16\\\\\n",
      "\\textit{Basketball (1988)}&290&3099&3.70e-02&1034&33.37&20&16\\\\\n",
      "\\textit{Basketball finer (1988)}&290&5170&6.17e-02&5170&100.00&20&16\\\\\n",
      "\\textit{Basketball (1989)}&293&3162&3.70e-02&1014&32.07&20&16\\\\\n",
      "\\textit{Basketball finer (1989)}&293&5318&6.22e-02&5318&100.00&20&16\\\\\n",
      "\\textit{Basketball (1990)}&292&3192&3.76e-02&1042&32.64&20&16\\\\\n",
      "\\textit{Basketball finer (1990)}&292&5350&6.30e-02&5350&100.00&20&16\\\\\n",
      "\\textit{Basketball (1991)}&295&3218&3.71e-02&1018&31.63&20&16\\\\\n",
      "\\textit{Basketball finer (1991)}&295&5420&6.25e-02&5420&100.00&20&16\\\\\n",
      "\\textit{Basketball (1992)}&298&3238&3.66e-02&1036&32.00&20&16\\\\\n",
      "\\textit{Basketball finer (1992)}&298&5444&6.15e-02&5444&100.00&20&16\\\\\n",
      "\\textit{Basketball (1993)}&298&3088&3.49e-02&1024&33.16&20&16\\\\\n",
      "\\textit{Basketball finer (1993)}&298&5160&5.83e-02&5160&100.00&20&16\\\\\n",
      "\\textit{Basketball (1994)}&301&3144&3.48e-02&1044&33.21&20&16\\\\\n",
      "\\textit{Basketball finer (1994)}&301&5252&5.82e-02&5252&100.00&20&16\\\\\n",
      "\\textit{Basketball (1995)}&302&3182&3.50e-02&1034&32.50&20&16\\\\\n",
      "\\textit{Basketball finer (1995)}&302&5336&5.87e-02&5336&100.00&20&16\\\\\n",
      "\\textit{Basketball (1996)}&305&3256&3.51e-02&1026&31.51&20&16\\\\\n",
      "\\textit{Basketball finer (1996)}&305&5498&5.93e-02&5498&100.00&20&16\\\\\n",
      "\\textit{Basketball (1997)}&305&3333&3.59e-02&1044&31.32&20&16\\\\\n",
      "\\textit{Basketball finer (1997)}&305&5628&6.07e-02&5628&100.00&20&16\\\\\n",
      "\\textit{Basketball (1998)}&306&3321&3.56e-02&966&29.09&20&16\\\\\n",
      "\\textit{Basketball finer (1998)}&306&5684&6.09e-02&5684&100.00&20&16\\\\\n",
      "\\textit{Basketball (1999)}&310&3385&3.53e-02&998&29.48&20&16\\\\\n",
      "\\textit{Basketball finer (1999)}&310&5788&6.04e-02&5788&100.00&20&16\\\\\n",
      "\\textit{Basketball (2000)}&318&3475&3.45e-02&852&24.52&20&16\\\\\n",
      "\\textit{Basketball finer (2000)}&318&6274&6.22e-02&6274&100.00&20&16\\\\\n",
      "\\textit{Basketball (2001)}&318&3405&3.38e-02&904&26.55&20&16\\\\\n",
      "\\textit{Basketball finer (2001)}&318&6116&6.07e-02&6116&100.00&20&16\\\\\n",
      "\\textit{Basketball (2002)}&321&3505&3.41e-02&976&27.85&20&16\\\\\n",
      "\\textit{Basketball finer (2002)}&321&6192&6.03e-02&6192&100.00&20&16\\\\\n",
      "\\textit{Basketball (2003)}&327&3560&3.34e-02&954&26.80&20&16\\\\\n",
      "\\textit{Basketball finer (2003)}&327&6356&5.96e-02&6356&100.00&20&16\\\\\n",
      "\\textit{Basketball (2004)}&326&3527&3.33e-02&952&26.99&20&16\\\\\n",
      "\\textit{Basketball finer (2004)}&326&6316&5.96e-02&6316&100.00&20&16\\\\\n",
      "\\textit{Basketball (2005)}&330&3622&3.34e-02&946&26.12&20&16\\\\\n",
      "\\textit{Basketball finer (2005)}&330&6476&5.96e-02&6476&100.00&20&16\\\\\n",
      "\\textit{Basketball (2006)}&334&3695&3.32e-02&924&25.01&20&16\\\\\n",
      "\\textit{Basketball finer (2006)}&334&6680&6.01e-02&6680&100.00&20&16\\\\\n",
      "\\textit{Basketball (2007)}&336&3974&3.53e-02&976&24.56&20&16\\\\\n",
      "\\textit{Basketball finer (2007)}&336&7186&6.38e-02&7186&100.00&20&16\\\\\n",
      "\\textit{Basketball (2008)}&342&4051&3.47e-02&972&23.99&20&16\\\\\n",
      "\\textit{Basketball finer (2008)}&342&7386&6.33e-02&7386&100.00&20&16\\\\\n",
      "\\textit{Basketball (2009)}&347&4155&3.46e-02&1046&25.17&20&16\\\\\n",
      "\\textit{Basketball finer (2009)}&347&7478&6.23e-02&7478&100.00&20&16\\\\\n",
      "\\textit{Basketball (2010)}&347&4133&3.44e-02&916&22.16&20&16\\\\\n",
      "\\textit{Basketball finer (2010)}&347&7538&6.28e-02&7538&100.00&20&16\\\\\n",
      "\\textit{Basketball (2011)}&345&4086&3.44e-02&950&23.25&20&16\\\\\n",
      "\\textit{Basketball finer (2011)}&345&7504&6.32e-02&7504&100.00&20&16\\\\\n",
      "\\textit{Basketball (2012)}&345&4126&3.48e-02&950&23.02&20&16\\\\\n",
      "\\textit{Basketball finer (2012)}&345&7580&6.39e-02&7580&100.00&20&16\\\\\n",
      "\\textit{Basketball (2013)}&347&4153&3.46e-02&960&23.12&20&16\\\\\n",
      "\\textit{Basketball finer (2013)}&347&7616&6.34e-02&7616&100.00&20&16\\\\\n",
      "\\textit{Basketball (2014)}&351&4196&3.42e-02&1008&24.02&20&16\\\\\n",
      "\\textit{Basketball finer (2014)}&351&7650&6.23e-02&7650&100.00&20&16\\\\\n",
      "[3.16133333e+02 3.50556667e+03 3.51439707e-02 9.86333333e+02\n",
      " 2.85744368e+01 2.00000000e+01 1.60000000e+01]\n",
      "[3.16133333e+02 6.13866667e+03 6.12285937e-02 6.13866667e+03\n",
      " 1.00000000e+02 2.00000000e+01 1.60000000e+01]\n"
     ]
    }
   ],
   "source": [
    "res = np.zeros((30, 7))\n",
    "res_finer = res.copy()\n",
    "for season in range(1985, 2015):\n",
    "    res[season-1985] = dataset_info('Basketball ('+str(season)+')', \\\n",
    "                                  sp.load_npz('Basketball_temporal/'+str(season)+'adj.npz'), 20, 16, True)\n",
    "    res_finer[season-1985] = dataset_info('Basketball finer ('+str(season)+')', \\\n",
    "                                  sp.load_npz('Basketball_temporal/finer'+str(season)+'adj.npz'), 20, 16, True)\n",
    "print(res.mean(axis=0))\n",
    "print(res_finer.mean(axis=0))"
   ]
  },
  {
   "cell_type": "code",
   "execution_count": 16,
   "metadata": {},
   "outputs": [
    {
     "name": "stdout",
     "output_type": "stream",
     "text": [
      "\\textit{Football (2009)}&20&215&5.66e-01&78&36.28&9&8\\\\\n",
      "\\textit{Football finer (2009)}&20&380&1.00e+00&380&100.00&9&8\\\\\n",
      "\\textit{Football (2010)}&20&219&5.76e-01&86&39.27&9&8\\\\\n",
      "\\textit{Football finer (2010)}&20&380&1.00e+00&380&100.00&9&8\\\\\n",
      "\\textit{Football (2011)}&20&226&5.95e-01&92&40.71&9&8\\\\\n",
      "\\textit{Football finer (2011)}&20&380&1.00e+00&380&100.00&9&8\\\\\n",
      "\\textit{Football (2012)}&20&216&5.68e-01&86&39.81&9&8\\\\\n",
      "\\textit{Football finer (2012)}&20&380&1.00e+00&380&100.00&9&8\\\\\n",
      "\\textit{Football (2013)}&20&222&5.84e-01&82&36.94&9&8\\\\\n",
      "\\textit{Football finer (2013)}&20&380&1.00e+00&380&100.00&9&8\\\\\n",
      "\\textit{Football (2014)}&20&107&2.82e-01&0&0.00&9&8\\\\\n",
      "\\textit{Football finer (2014)}&20&300&7.89e-01&300&100.00&9&8\\\\\n",
      "[ 20.         200.83333333   0.52850877  70.66666667  32.16803209\n",
      "   9.           8.        ]\n",
      "[ 20.         366.66666667   0.96491228 366.66666667 100.\n",
      "   9.           8.        ]\n"
     ]
    }
   ],
   "source": [
    "res = np.zeros((6, 7))\n",
    "res_finer = res.copy()\n",
    "for season in range(2009, 2015):\n",
    "    res[season-2009] = dataset_info('Football ('+str(season)+')', \\\n",
    "                                  sp.load_npz('Football_data_England_Premier_League/England_'+str(season)+'_'+str(season+1)+'adj.npz'), 9,8, True)\n",
    "    res_finer[season-2009] = dataset_info('Football finer ('+str(season)+')', \\\n",
    "                                  sp.load_npz('Football_data_England_Premier_League/finerEngland_'+str(season)+'_'+str(season+1)+'adj.npz'), 9,8, True)\n",
    "print(res.mean(axis=0))\n",
    "print(res_finer.mean(axis=0))"
   ]
  },
  {
   "cell_type": "code",
   "execution_count": null,
   "metadata": {},
   "outputs": [],
   "source": []
  }
 ],
 "metadata": {
  "kernelspec": {
   "display_name": "Python 3 (ipykernel)",
   "language": "python",
   "name": "python3"
  },
  "language_info": {
   "codemirror_mode": {
    "name": "ipython",
    "version": 3
   },
   "file_extension": ".py",
   "mimetype": "text/x-python",
   "name": "python",
   "nbconvert_exporter": "python",
   "pygments_lexer": "ipython3",
   "version": "3.7.11"
  }
 },
 "nbformat": 4,
 "nbformat_minor": 2
}
