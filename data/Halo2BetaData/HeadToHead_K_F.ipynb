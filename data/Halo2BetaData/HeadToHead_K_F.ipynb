{
 "cells": [
  {
   "cell_type": "code",
   "execution_count": 1,
   "id": "typical-petite",
   "metadata": {},
   "outputs": [],
   "source": [
    "import numpy as np\n",
    "import scipy.sparse as sp\n",
    "import matplotlib.pyplot as plt\n",
    "import scipy.sparse.linalg\n",
    "import torch\n",
    "import sklearn.cluster as sl"
   ]
  },
  {
   "cell_type": "code",
   "execution_count": 2,
   "id": "bronze-musician",
   "metadata": {},
   "outputs": [],
   "source": [
    "def sqrtinvdiag(M):\n",
    "    \"\"\"Inverts and square-roots a positive diagonal matrix.\n",
    "    Args:\n",
    "        M (csc matrix): matrix to invert\n",
    "    Returns:\n",
    "        scipy sparse matrix of inverted square-root of diagonal\n",
    "    \"\"\"\n",
    "\n",
    "    d = M.diagonal()\n",
    "    dd = [1 / max(np.sqrt(x), 1 / 999999999) for x in d]\n",
    "\n",
    "    return sp.dia_matrix((dd, [0]), shape=(len(d), len(d))).tocsc()"
   ]
  },
  {
   "cell_type": "code",
   "execution_count": 3,
   "id": "false-optics",
   "metadata": {},
   "outputs": [
    {
     "data": {
      "text/plain": [
       "<602x602 sparse matrix of type '<class 'numpy.float32'>'\n",
       "\twith 5010 stored elements in Compressed Sparse Row format>"
      ]
     },
     "execution_count": 3,
     "metadata": {},
     "output_type": "execute_result"
    }
   ],
   "source": [
    "adj = sp.load_npz('./HeadToHeadadj.npz')\n",
    "adj"
   ]
  },
  {
   "cell_type": "code",
   "execution_count": 4,
   "id": "experimental-antique",
   "metadata": {},
   "outputs": [
    {
     "name": "stdout",
     "output_type": "stream",
     "text": [
      "[ 2 46  8  7  0 48 14  6  4 47 51 66  9 10 26 12 21 68 52 53  5 78 74 63\n",
      " 50 81  3 65 24 61 76 13 29 77 25 58 22 84 64 41 34 33 54 91 86 11 72 49\n",
      " 83 44 67 97 55 39 16 71 36 27 19 17 82 20 18 45 60 75 15  1 89 69 57 79\n",
      " 28 62 98 31 43 95 38 85 73 32 23 94 88 37 96 92 90 40 56 70 87 35 59 42\n",
      " 30 80 93]\n",
      "[0.02649832 0.00407946 0.11665535 0.0087676  0.02099872 0.01004565\n",
      " 0.02221191 0.02873552 0.03574371 0.01589835 0.01477158 0.00585258\n",
      " 0.01237106 0.00797021 0.02270877 0.00419533 0.00528622 0.00500023\n",
      " 0.00459039 0.00518012 0.00468564 0.01124406 0.00693095 0.00228834\n",
      " 0.00861645 0.00722599 0.01386786 0.00521314 0.00361741 0.00743294\n",
      " 0.00103188 0.00353038 0.00230777 0.00614703 0.00615406 0.00128043\n",
      " 0.00522566 0.00180233 0.00293624 0.00532734 0.00161326 0.00619721\n",
      " 0.00107849 0.00299418 0.00564593 0.00455487 0.05138212 0.01994699\n",
      " 0.02323198 0.00582349 0.00931531 0.01815391 0.0102511  0.01006413\n",
      " 0.00601572 0.00551409 0.00157982 0.0038442  0.0071944  0.00126439\n",
      " 0.00451982 0.00844431 0.00359166 0.00936383 0.0064857  0.00869447\n",
      " 0.01728171 0.00558466 0.01060438 0.00393319 0.00155002 0.00527442\n",
      " 0.00582427 0.00232875 0.00984645 0.00426674 0.00813502 0.00736958\n",
      " 0.00993204 0.00373769 0.00096077 0.00894207 0.00497574 0.00565928\n",
      " 0.00666159 0.00235325 0.00587279 0.00149721 0.00183511 0.00401545\n",
      " 0.00171715 0.00591063 0.00174934 0.0008474  0.00218385 0.00296807\n",
      " 0.00176132 0.00553203 0.00356078]\n"
     ]
    },
    {
     "data": {
      "image/png": "[encoded data removed]",
      "text/plain": [
       "<Figure size 432x288 with 1 Axes>"
      ]
     },
     "metadata": {
      "needs_background": "light"
     },
     "output_type": "display_data"
    }
   ],
   "source": [
    "A = adj.tocsc()\n",
    "D_out = sp.diags(A.transpose().sum(\n",
    "    axis=0).tolist(), [0]).tocsc()\n",
    "D_in = sp.diags(A.sum(axis=0).tolist(), [0]).tocsc()\n",
    "Dbar = (D_in + D_out)\n",
    "d = sqrtinvdiag(Dbar)\n",
    "normA = d * A * d\n",
    "size = A.shape[0]\n",
    "H = (A-A.transpose()) * 1j\n",
    "H_abs = np.abs(H)\n",
    "D_abs_inv = sp.diags(1/np.array(H_abs.sum(1))[:, 0])\n",
    "D_abs_inv.data[np.isinf(D_abs_inv.data)] = 0.0\n",
    "H_rw = D_abs_inv.dot(H)\n",
    "_, s, _ = sp.linalg.svds(H_rw, 100)\n",
    "eigens = s[list(np.arange(99,-1,-1))]\n",
    "eigengaps = eigens[:-1] - eigens[1:]\n",
    "print(np.argsort(-eigengaps))\n",
    "print(eigengaps)\n",
    "plt.plot(eigens)\n",
    "plt.show()\n",
    "# choose K = 48"
   ]
  },
  {
   "cell_type": "code",
   "execution_count": 5,
   "id": "demonstrated-pixel",
   "metadata": {},
   "outputs": [
    {
     "data": {
      "image/png": "[encoded data removed]",
      "text/plain": [
       "<Figure size 288x288 with 1 Axes>"
      ]
     },
     "metadata": {
      "needs_background": "light"
     },
     "output_type": "display_data"
    },
    {
     "data": {
      "text/plain": [
       "39"
      ]
     },
     "execution_count": 5,
     "metadata": {},
     "output_type": "execute_result"
    }
   ],
   "source": [
    "num_clusters = 48\n",
    "u, s, vt = sp.linalg.svds(H_rw, num_clusters)\n",
    "features_SVD = np.concatenate((np.real(u), np.imag(u)), axis=1)\n",
    "labels = sl.KMeans(n_clusters=num_clusters).fit_predict(features_SVD)\n",
    "A = torch.FloatTensor(A.toarray())\n",
    "P = torch.zeros(labels.shape[0], num_clusters).to(A.device)\n",
    "for k in range(num_clusters):\n",
    "    P[labels == k, k] = 1\n",
    "flow_mat = np.ones([num_clusters, num_clusters])*0.5\n",
    "for k in range(num_clusters-1):\n",
    "    for l in range(k+1, num_clusters):\n",
    "        w_kl = torch.matmul(P[:, k], torch.matmul(A, P[:, l])).item()\n",
    "        w_lk = torch.matmul(P[:, l], torch.matmul(A, P[:, k])).item()\n",
    "        if (w_kl + w_lk) > 0:\n",
    "            flow_mat[k, l] = w_kl/(w_kl + w_lk)\n",
    "            flow_mat[l, k] = w_lk/(w_kl + w_lk)\n",
    "plt.matshow(flow_mat)\n",
    "plt.show()\n",
    "np.sum(flow_mat>0.9)"
   ]
  },
  {
   "cell_type": "code",
   "execution_count": null,
   "id": "activated-equation",
   "metadata": {},
   "outputs": [],
   "source": []
  }
 ],
 "metadata": {
  "kernelspec": {
   "display_name": "Python 3",
   "language": "python",
   "name": "python3"
  },
  "language_info": {
   "codemirror_mode": {
    "name": "ipython",
    "version": 3
   },
   "file_extension": ".py",
   "mimetype": "text/x-python",
   "name": "python",
   "nbconvert_exporter": "python",
   "pygments_lexer": "ipython3",
   "version": "3.6.13"
  }
 },
 "nbformat": 4,
 "nbformat_minor": 5
}
