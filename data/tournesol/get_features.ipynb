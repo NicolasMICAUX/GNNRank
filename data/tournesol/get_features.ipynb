{
 "cells": [
  {
   "cell_type": "code",
   "execution_count": 25,
   "metadata": {
    "collapsed": true
   },
   "outputs": [],
   "source": [
    "import os\n",
    "import requests\n",
    "import pandas as pd\n",
    "import numpy as np\n",
    "import pickle\n",
    "\n",
    "CRITERIA = [\n",
    "    \"largely_recommended\",\n",
    "    \"reliability\",\n",
    "    \"importance\",\n",
    "    \"engaging\",\n",
    "    \"pedagogy\",\n",
    "    \"layman_friendly\",\n",
    "    \"entertaining_relaxing\",\n",
    "    \"better_habits\",\n",
    "    \"diversity_inclusion\",\n",
    "    \"backfire_risk\",\n",
    "]\n",
    "\n",
    "def get_score(row, crit):\n",
    "    for item in row[\"criteria_scores\"]:\n",
    "        if item[\"criteria\"] == crit:\n",
    "            return item[\"score\"]\n",
    "\n",
    "true_scores_path = \"./true_scores.feather\"\n",
    "\n",
    "def api_get_tournesol_scores():\n",
    "    \"\"\"Get a dataframe with all videos from tournesol..\"\"\"\n",
    "    if os.path.exists(true_scores_path):\n",
    "        return pd.read_feather(true_scores_path)\n",
    "    else:\n",
    "        response = requests.get(\n",
    "            f\"https://api.tournesol.app/video/?limit=20000&unsafe=true\"\n",
    "        ).json()\n",
    "        df = pd.DataFrame.from_dict(response[\"results\"])\n",
    "\n",
    "        for crit in CRITERIA:\n",
    "            df[crit] = df.apply(lambda x: get_score(x, crit), axis=1)\n",
    "\n",
    "        # keep only columns [uid, publication_date, views, language,duration,largely_recommended,reliability,importance,engaging,pedagogy,layman_friendly,entertaining_relaxing,better_habits,diversity_inclusion,backfire_risk]\n",
    "        # i.e., drop ['name', 'description', 'uploader', 'video_id', rating_n_ratings,rating_n_contributors, criteria_scores]\n",
    "\n",
    "        df = df.drop(['name', 'description', 'uploader', 'video_id', 'rating_n_ratings', 'rating_n_contributors', 'criteria_scores'], axis=1)\n",
    "\n",
    "        df.to_feather(true_scores_path)\n",
    "        return df"
   ]
  },
  {
   "cell_type": "code",
   "execution_count": 26,
   "outputs": [],
   "source": [
    "df = api_get_tournesol_scores()"
   ],
   "metadata": {
    "collapsed": false
   }
  },
  {
   "cell_type": "code",
   "execution_count": 27,
   "outputs": [
    {
     "data": {
      "text/plain": "                  uid      publication_date       views language  duration  \\\n0      yt:WPPPFqsECz0  2019-12-08T13:30:01Z  14053105.0       en     601.0   \n1      yt:XhRbt3R41hs  2022-09-21T14:35:27Z      7387.0       fr     897.0   \n2      yt:F1Hq8eVOMHs  2021-11-30T15:01:34Z   7277893.0       en     728.0   \n3      yt:CHoXZO7WFDA  2022-09-09T16:00:15Z       906.0       fr    1351.0   \n4      yt:cebFWOlx848  2016-07-21T14:00:03Z   3558310.0       en     505.0   \n...               ...                   ...         ...      ...       ...   \n19606  yt:Qrbw7ippuD0            2022-01-01      4078.0       fr     461.0   \n19607  yt:_CSMVQXyjU4            2022-02-06      2442.0       en     116.0   \n19608  yt:-VdXi2LMPyE            2021-12-19     62743.0       fr     794.0   \n19609  yt:WzvnHbTH0v8            2020-09-08    914540.0       fr     675.0   \n19610  yt:AondCPrWkAk            2023-02-14      2290.0       fr     535.0   \n\n       tournesol_score  largely_recommended  reliability  importance  \\\n0            66.701176            66.701176    35.970920   59.795943   \n1            75.456470            75.456470    64.325034   67.152979   \n2            73.130258            73.130258    47.169886   71.973155   \n3            60.085803            60.085803    27.077277   57.981589   \n4            54.353129            54.353129    32.474433   48.056419   \n...                ...                  ...          ...         ...   \n19606       -58.647835           -58.647835   -60.127642  -47.304960   \n19607       -72.111964           -72.111964    15.595034  -71.013476   \n19608       -70.022193           -70.022193   -58.061254  -69.487782   \n19609       -58.029473           -58.029473   -62.468430  -52.826996   \n19610       -55.616277           -55.616277   -62.289825  -57.791014   \n\n        engaging   pedagogy  layman_friendly  entertaining_relaxing  \\\n0      20.566453  59.321214        73.192768              40.141001   \n1      34.519085  52.753667        41.522293               3.831615   \n2      26.669174  65.454968        71.308568              61.440627   \n3      59.007726  14.919222        39.300481              15.246405   \n4      36.660664  41.422048        55.370706              57.519469   \n...          ...        ...              ...                    ...   \n19606 -29.625536 -63.358527       -28.352092             -53.621938   \n19607 -71.872018 -61.107881       -64.946550             -58.393954   \n19608 -53.109897 -65.016206       -58.251880             -47.178260   \n19609 -59.885927 -64.478566       -48.061383             -55.069572   \n19610 -52.502642 -59.400799       -58.708802             -57.460418   \n\n       better_habits  diversity_inclusion  backfire_risk  \n0          75.161422            35.165539      56.291224  \n1          75.355569            57.935965       8.088080  \n2          79.391979            10.774976     -43.828059  \n3          50.907638            55.404859      44.785123  \n4          64.168029           -25.580968      44.967269  \n...              ...                  ...            ...  \n19606     -53.105238           -56.787566     -51.500229  \n19607     -68.187890           -63.848142     -13.396379  \n19608     -69.889333           -30.211972     -13.005777  \n19609     -57.099281           -44.136548     -58.824974  \n19610     -56.880305           -61.925131     -52.542597  \n\n[19611 rows x 16 columns]",
      "text/html": "<div>\n<style scoped>\n    .dataframe tbody tr th:only-of-type {\n        vertical-align: middle;\n    }\n\n    .dataframe tbody tr th {\n        vertical-align: top;\n    }\n\n    .dataframe thead th {\n        text-align: right;\n    }\n</style>\n<table border=\"1\" class=\"dataframe\">\n  <thead>\n    <tr style=\"text-align: right;\">\n      <th></th>\n      <th>uid</th>\n      <th>publication_date</th>\n      <th>views</th>\n      <th>language</th>\n      <th>duration</th>\n      <th>tournesol_score</th>\n      <th>largely_recommended</th>\n      <th>reliability</th>\n      <th>importance</th>\n      <th>engaging</th>\n      <th>pedagogy</th>\n      <th>layman_friendly</th>\n      <th>entertaining_relaxing</th>\n      <th>better_habits</th>\n      <th>diversity_inclusion</th>\n      <th>backfire_risk</th>\n    </tr>\n  </thead>\n  <tbody>\n    <tr>\n      <th>0</th>\n      <td>yt:WPPPFqsECz0</td>\n      <td>2019-12-08T13:30:01Z</td>\n      <td>14053105.0</td>\n      <td>en</td>\n      <td>601.0</td>\n      <td>66.701176</td>\n      <td>66.701176</td>\n      <td>35.970920</td>\n      <td>59.795943</td>\n      <td>20.566453</td>\n      <td>59.321214</td>\n      <td>73.192768</td>\n      <td>40.141001</td>\n      <td>75.161422</td>\n      <td>35.165539</td>\n      <td>56.291224</td>\n    </tr>\n    <tr>\n      <th>1</th>\n      <td>yt:XhRbt3R41hs</td>\n      <td>2022-09-21T14:35:27Z</td>\n      <td>7387.0</td>\n      <td>fr</td>\n      <td>897.0</td>\n      <td>75.456470</td>\n      <td>75.456470</td>\n      <td>64.325034</td>\n      <td>67.152979</td>\n      <td>34.519085</td>\n      <td>52.753667</td>\n      <td>41.522293</td>\n      <td>3.831615</td>\n      <td>75.355569</td>\n      <td>57.935965</td>\n      <td>8.088080</td>\n    </tr>\n    <tr>\n      <th>2</th>\n      <td>yt:F1Hq8eVOMHs</td>\n      <td>2021-11-30T15:01:34Z</td>\n      <td>7277893.0</td>\n      <td>en</td>\n      <td>728.0</td>\n      <td>73.130258</td>\n      <td>73.130258</td>\n      <td>47.169886</td>\n      <td>71.973155</td>\n      <td>26.669174</td>\n      <td>65.454968</td>\n      <td>71.308568</td>\n      <td>61.440627</td>\n      <td>79.391979</td>\n      <td>10.774976</td>\n      <td>-43.828059</td>\n    </tr>\n    <tr>\n      <th>3</th>\n      <td>yt:CHoXZO7WFDA</td>\n      <td>2022-09-09T16:00:15Z</td>\n      <td>906.0</td>\n      <td>fr</td>\n      <td>1351.0</td>\n      <td>60.085803</td>\n      <td>60.085803</td>\n      <td>27.077277</td>\n      <td>57.981589</td>\n      <td>59.007726</td>\n      <td>14.919222</td>\n      <td>39.300481</td>\n      <td>15.246405</td>\n      <td>50.907638</td>\n      <td>55.404859</td>\n      <td>44.785123</td>\n    </tr>\n    <tr>\n      <th>4</th>\n      <td>yt:cebFWOlx848</td>\n      <td>2016-07-21T14:00:03Z</td>\n      <td>3558310.0</td>\n      <td>en</td>\n      <td>505.0</td>\n      <td>54.353129</td>\n      <td>54.353129</td>\n      <td>32.474433</td>\n      <td>48.056419</td>\n      <td>36.660664</td>\n      <td>41.422048</td>\n      <td>55.370706</td>\n      <td>57.519469</td>\n      <td>64.168029</td>\n      <td>-25.580968</td>\n      <td>44.967269</td>\n    </tr>\n    <tr>\n      <th>...</th>\n      <td>...</td>\n      <td>...</td>\n      <td>...</td>\n      <td>...</td>\n      <td>...</td>\n      <td>...</td>\n      <td>...</td>\n      <td>...</td>\n      <td>...</td>\n      <td>...</td>\n      <td>...</td>\n      <td>...</td>\n      <td>...</td>\n      <td>...</td>\n      <td>...</td>\n      <td>...</td>\n    </tr>\n    <tr>\n      <th>19606</th>\n      <td>yt:Qrbw7ippuD0</td>\n      <td>2022-01-01</td>\n      <td>4078.0</td>\n      <td>fr</td>\n      <td>461.0</td>\n      <td>-58.647835</td>\n      <td>-58.647835</td>\n      <td>-60.127642</td>\n      <td>-47.304960</td>\n      <td>-29.625536</td>\n      <td>-63.358527</td>\n      <td>-28.352092</td>\n      <td>-53.621938</td>\n      <td>-53.105238</td>\n      <td>-56.787566</td>\n      <td>-51.500229</td>\n    </tr>\n    <tr>\n      <th>19607</th>\n      <td>yt:_CSMVQXyjU4</td>\n      <td>2022-02-06</td>\n      <td>2442.0</td>\n      <td>en</td>\n      <td>116.0</td>\n      <td>-72.111964</td>\n      <td>-72.111964</td>\n      <td>15.595034</td>\n      <td>-71.013476</td>\n      <td>-71.872018</td>\n      <td>-61.107881</td>\n      <td>-64.946550</td>\n      <td>-58.393954</td>\n      <td>-68.187890</td>\n      <td>-63.848142</td>\n      <td>-13.396379</td>\n    </tr>\n    <tr>\n      <th>19608</th>\n      <td>yt:-VdXi2LMPyE</td>\n      <td>2021-12-19</td>\n      <td>62743.0</td>\n      <td>fr</td>\n      <td>794.0</td>\n      <td>-70.022193</td>\n      <td>-70.022193</td>\n      <td>-58.061254</td>\n      <td>-69.487782</td>\n      <td>-53.109897</td>\n      <td>-65.016206</td>\n      <td>-58.251880</td>\n      <td>-47.178260</td>\n      <td>-69.889333</td>\n      <td>-30.211972</td>\n      <td>-13.005777</td>\n    </tr>\n    <tr>\n      <th>19609</th>\n      <td>yt:WzvnHbTH0v8</td>\n      <td>2020-09-08</td>\n      <td>914540.0</td>\n      <td>fr</td>\n      <td>675.0</td>\n      <td>-58.029473</td>\n      <td>-58.029473</td>\n      <td>-62.468430</td>\n      <td>-52.826996</td>\n      <td>-59.885927</td>\n      <td>-64.478566</td>\n      <td>-48.061383</td>\n      <td>-55.069572</td>\n      <td>-57.099281</td>\n      <td>-44.136548</td>\n      <td>-58.824974</td>\n    </tr>\n    <tr>\n      <th>19610</th>\n      <td>yt:AondCPrWkAk</td>\n      <td>2023-02-14</td>\n      <td>2290.0</td>\n      <td>fr</td>\n      <td>535.0</td>\n      <td>-55.616277</td>\n      <td>-55.616277</td>\n      <td>-62.289825</td>\n      <td>-57.791014</td>\n      <td>-52.502642</td>\n      <td>-59.400799</td>\n      <td>-58.708802</td>\n      <td>-57.460418</td>\n      <td>-56.880305</td>\n      <td>-61.925131</td>\n      <td>-52.542597</td>\n    </tr>\n  </tbody>\n</table>\n<p>19611 rows × 16 columns</p>\n</div>"
     },
     "execution_count": 27,
     "metadata": {},
     "output_type": "execute_result"
    }
   ],
   "source": [
    "df"
   ],
   "metadata": {
    "collapsed": false
   }
  },
  {
   "cell_type": "code",
   "execution_count": 28,
   "outputs": [],
   "source": [
    "# import numpy as np\n",
    "# from youtube_dl import YoutubeDL\n",
    "# from pandarallel import pandarallel\n",
    "#\n",
    "# metadata_path = \"./true_scores_metadata.feather\"\n",
    "# if os.path.isfile(metadata_path):\n",
    "#     df = pd.read_feather(metadata_path)\n",
    "# else:\n",
    "#     # pas la bonne librairie (trouver une librairie de multi-threading !) pcq ma tâche est IO-bound.\n",
    "#     pandarallel.initialize(nb_workers=20, progress_bar=True)\n",
    "#\n",
    "#     def convert_yt_id_to_url(yt_id):\n",
    "#         \"\"\"convert 'yt:WPPPFqsECz0' to 'https://www.youtube.com/watch?v=WPPPFqsECz0'\"\"\"\n",
    "#         if yt_id.startswith(\"yt:\"):\n",
    "#             return f\"https://www.youtube.com/watch?v={yt_id[3:]}\"\n",
    "#         else:\n",
    "#             raise ValueError(f\"{yt_id} is not a valid youtube id\")\n",
    "#\n",
    "#     def extract_info(uid, ydl):\n",
    "#         try:\n",
    "#             info_dict = ydl.extract_info(convert_yt_id_to_url(uid), download=False)\n",
    "#         except:\n",
    "#             print(f\"uid={uid}\")\n",
    "#             return '', [], np.nan\n",
    "#         return info_dict['categories'][0], info_dict['tags'], info_dict['like_count']\n",
    "#\n",
    "#     ydl_opts = {\n",
    "#         'quiet': True,\n",
    "#         'ignoreerrors': False,  # ABSURDE : POUR QUE LES ERREURS N'INTERROMPT PAS LE PROCESSUS, IL FAUT DIRE IGNORE_ERRORS = FALSE !?!?\n",
    "#     }\n",
    "#     with YoutubeDL(ydl_opts) as ydl:\n",
    "#         idx = df['category'].isna() & df['tags'].isna() if 'category' in df.columns else ~df['uid'].isna()\n",
    "#         results = df[idx].parallel_apply(lambda x: extract_info(x['uid'], ydl), axis=1)\n",
    "#         df.loc[idx, ['category']] = [r[0] for r in results]\n",
    "#         df.loc[idx, ['tags']] = [r[1] for r in results]\n",
    "#         df.loc[idx, ['like_count']] = [r[2] for r in results]\n",
    "#     df.to_feather(metadata_path)\n",
    "#\n",
    "# # todo : nb d'abonnés de la chaîne, nb de commentaires.\n",
    "# todo : this code no more working"
   ],
   "metadata": {
    "collapsed": false
   }
  },
  {
   "cell_type": "markdown",
   "source": [
    "# Features"
   ],
   "metadata": {
    "collapsed": false
   }
  },
  {
   "cell_type": "code",
   "execution_count": null,
   "outputs": [],
   "source": [
    "# convert date to nb of monthes since 1970\n",
    "df['date'] = pd.to_datetime(df['publication_date'].str[:10]).apply(lambda x: x - pd.to_datetime('1970-01-01')) / np.timedelta64(1, 'M')\n",
    "df['date'] = df['date'].astype(float)\n",
    "df = df.drop(columns=['publication_date'])\n",
    "df['uid'] = df['uid'].str[3:]"
   ],
   "metadata": {
    "collapsed": false
   }
  },
  {
   "cell_type": "code",
   "execution_count": 33,
   "outputs": [
    {
     "name": "stderr",
     "output_type": "stream",
     "text": [
      "/tmp/ipykernel_59030/4239905091.py:10: SettingWithCopyWarning: \n",
      "A value is trying to be set on a copy of a slice from a DataFrame.\n",
      "Try using .loc[row_indexer,col_indexer] = value instead\n",
      "\n",
      "See the caveats in the documentation: https://pandas.pydata.org/pandas-docs/stable/user_guide/indexing.html#returning-a-view-versus-a-copy\n",
      "  df_criteria['index'] = df_criteria['uid'].apply(lambda x: video_ids[x])\n",
      "/tmp/ipykernel_59030/4239905091.py:10: SettingWithCopyWarning: \n",
      "A value is trying to be set on a copy of a slice from a DataFrame.\n",
      "Try using .loc[row_indexer,col_indexer] = value instead\n",
      "\n",
      "See the caveats in the documentation: https://pandas.pydata.org/pandas-docs/stable/user_guide/indexing.html#returning-a-view-versus-a-copy\n",
      "  df_criteria['index'] = df_criteria['uid'].apply(lambda x: video_ids[x])\n",
      "/tmp/ipykernel_59030/4239905091.py:10: SettingWithCopyWarning: \n",
      "A value is trying to be set on a copy of a slice from a DataFrame.\n",
      "Try using .loc[row_indexer,col_indexer] = value instead\n",
      "\n",
      "See the caveats in the documentation: https://pandas.pydata.org/pandas-docs/stable/user_guide/indexing.html#returning-a-view-versus-a-copy\n",
      "  df_criteria['index'] = df_criteria['uid'].apply(lambda x: video_ids[x])\n",
      "/tmp/ipykernel_59030/4239905091.py:10: SettingWithCopyWarning: \n",
      "A value is trying to be set on a copy of a slice from a DataFrame.\n",
      "Try using .loc[row_indexer,col_indexer] = value instead\n",
      "\n",
      "See the caveats in the documentation: https://pandas.pydata.org/pandas-docs/stable/user_guide/indexing.html#returning-a-view-versus-a-copy\n",
      "  df_criteria['index'] = df_criteria['uid'].apply(lambda x: video_ids[x])\n",
      "/tmp/ipykernel_59030/4239905091.py:10: SettingWithCopyWarning: \n",
      "A value is trying to be set on a copy of a slice from a DataFrame.\n",
      "Try using .loc[row_indexer,col_indexer] = value instead\n",
      "\n",
      "See the caveats in the documentation: https://pandas.pydata.org/pandas-docs/stable/user_guide/indexing.html#returning-a-view-versus-a-copy\n",
      "  df_criteria['index'] = df_criteria['uid'].apply(lambda x: video_ids[x])\n",
      "/tmp/ipykernel_59030/4239905091.py:10: SettingWithCopyWarning: \n",
      "A value is trying to be set on a copy of a slice from a DataFrame.\n",
      "Try using .loc[row_indexer,col_indexer] = value instead\n",
      "\n",
      "See the caveats in the documentation: https://pandas.pydata.org/pandas-docs/stable/user_guide/indexing.html#returning-a-view-versus-a-copy\n",
      "  df_criteria['index'] = df_criteria['uid'].apply(lambda x: video_ids[x])\n",
      "/tmp/ipykernel_59030/4239905091.py:10: SettingWithCopyWarning: \n",
      "A value is trying to be set on a copy of a slice from a DataFrame.\n",
      "Try using .loc[row_indexer,col_indexer] = value instead\n",
      "\n",
      "See the caveats in the documentation: https://pandas.pydata.org/pandas-docs/stable/user_guide/indexing.html#returning-a-view-versus-a-copy\n",
      "  df_criteria['index'] = df_criteria['uid'].apply(lambda x: video_ids[x])\n",
      "/tmp/ipykernel_59030/4239905091.py:10: SettingWithCopyWarning: \n",
      "A value is trying to be set on a copy of a slice from a DataFrame.\n",
      "Try using .loc[row_indexer,col_indexer] = value instead\n",
      "\n",
      "See the caveats in the documentation: https://pandas.pydata.org/pandas-docs/stable/user_guide/indexing.html#returning-a-view-versus-a-copy\n",
      "  df_criteria['index'] = df_criteria['uid'].apply(lambda x: video_ids[x])\n",
      "/tmp/ipykernel_59030/4239905091.py:10: SettingWithCopyWarning: \n",
      "A value is trying to be set on a copy of a slice from a DataFrame.\n",
      "Try using .loc[row_indexer,col_indexer] = value instead\n",
      "\n",
      "See the caveats in the documentation: https://pandas.pydata.org/pandas-docs/stable/user_guide/indexing.html#returning-a-view-versus-a-copy\n",
      "  df_criteria['index'] = df_criteria['uid'].apply(lambda x: video_ids[x])\n",
      "/tmp/ipykernel_59030/4239905091.py:10: SettingWithCopyWarning: \n",
      "A value is trying to be set on a copy of a slice from a DataFrame.\n",
      "Try using .loc[row_indexer,col_indexer] = value instead\n",
      "\n",
      "See the caveats in the documentation: https://pandas.pydata.org/pandas-docs/stable/user_guide/indexing.html#returning-a-view-versus-a-copy\n",
      "  df_criteria['index'] = df_criteria['uid'].apply(lambda x: video_ids[x])\n"
     ]
    }
   ],
   "source": [
    "more_than = 2\n",
    "for criterion in CRITERIA:\n",
    "    # get dict of video ids for the criterion\n",
    "    with open(f'./video_ids_{criterion}_{more_than}.pickle', 'rb') as handle:\n",
    "        video_ids = pickle.load(handle)  # Dict[video_id: str] = index in np array\n",
    "    video_ids_set = set(video_ids.keys())\n",
    "    df_criteria = df[df['uid'].isin(video_ids_set)]\n",
    "\n",
    "    # re-order according to video_ids index\n",
    "    df_criteria['index'] = df_criteria['uid'].apply(lambda x: video_ids[x])\n",
    "    df_criteria = df_criteria.sort_values(by='index')\n",
    "\n",
    "    # replace column scores for this criterion by the rank of the videos according to this criterion\n",
    "    df_criteria[criterion] = df_criteria[criterion].rank(method='dense', ascending=False).astype(int)\n",
    "\n",
    "    # export to x.npy\n",
    "    np.save(f'x_{criterion}_mt{more_than}.npy', df_criteria[['date', 'views', 'duration']].to_numpy())\n",
    "\n",
    "    # export y.npy\n",
    "    np.save(f'y_{criterion}_mt{more_than}.npy', df_criteria[criterion].to_numpy())\n"
   ],
   "metadata": {
    "collapsed": false
   }
  }
 ],
 "metadata": {
  "kernelspec": {
   "display_name": "Python 3",
   "language": "python",
   "name": "python3"
  },
  "language_info": {
   "codemirror_mode": {
    "name": "ipython",
    "version": 2
   },
   "file_extension": ".py",
   "mimetype": "text/x-python",
   "name": "python",
   "nbconvert_exporter": "python",
   "pygments_lexer": "ipython2",
   "version": "2.7.6"
  }
 },
 "nbformat": 4,
 "nbformat_minor": 0
}
