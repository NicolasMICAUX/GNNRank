{
 "cells": [
  {
   "cell_type": "code",
   "execution_count": 25,
   "metadata": {
    "collapsed": true
   },
   "outputs": [],
   "source": [
    "import os\n",
    "import requests\n",
    "import pandas as pd\n",
    "import numpy as np\n",
    "import pickle\n",
    "\n",
    "CRITERIA = [\n",
    "    \"largely_recommended\",\n",
    "    \"reliability\",\n",
    "    \"importance\",\n",
    "    \"engaging\",\n",
    "    \"pedagogy\",\n",
    "    \"layman_friendly\",\n",
    "    \"entertaining_relaxing\",\n",
    "    \"better_habits\",\n",
    "    \"diversity_inclusion\",\n",
    "    \"backfire_risk\",\n",
    "]\n",
    "\n",
    "def get_score(row, crit):\n",
    "    for item in row[\"criteria_scores\"]:\n",
    "        if item[\"criteria\"] == crit:\n",
    "            return item[\"score\"]\n",
    "\n",
    "true_scores_path = \"./true_scores.feather\"\n",
    "\n",
    "def api_get_tournesol_scores():\n",
    "    \"\"\"Get a dataframe with all videos from tournesol..\"\"\"\n",
    "    if os.path.exists(true_scores_path):\n",
    "        return pd.read_feather(true_scores_path)\n",
    "    else:\n",
    "        response = requests.get(\n",
    "            f\"https://api.tournesol.app/video/?limit=20000&unsafe=true\"\n",
    "        ).json()\n",
    "        df = pd.DataFrame.from_dict(response[\"results\"])\n",
    "\n",
    "        for crit in CRITERIA:\n",
    "            df[crit] = df.apply(lambda x: get_score(x, crit), axis=1)\n",
    "\n",
    "        # keep only columns [uid, publication_date, views, language,duration,largely_recommended,reliability,importance,engaging,pedagogy,layman_friendly,entertaining_relaxing,better_habits,diversity_inclusion,backfire_risk]\n",
    "        # i.e., drop ['name', 'description', 'uploader', 'video_id', rating_n_ratings,rating_n_contributors, criteria_scores]\n",
    "\n",
    "        df = df.drop(['name', 'description', 'uploader', 'video_id', 'rating_n_ratings', 'rating_n_contributors', 'criteria_scores'], axis=1)\n",
    "\n",
    "        df.to_feather(true_scores_path)\n",
    "        return df"
   ]
  },
  {
   "cell_type": "code",
   "execution_count": 26,
   "outputs": [],
   "source": [
    "df = api_get_tournesol_scores()"
   ],
   "metadata": {
    "collapsed": false
   }
  },
  {
   "cell_type": "code",
   "execution_count": 27,
   "outputs": [
    {
     "data": {
      "text/plain": "                  uid      publication_date       views language  duration  \\\n0      yt:WPPPFqsECz0  2019-12-08T13:30:01Z  14053105.0       en     601.0   \n1      yt:XhRbt3R41hs  2022-09-21T14:35:27Z      7387.0       fr     897.0   \n2      yt:F1Hq8eVOMHs  2021-11-30T15:01:34Z   7277893.0       en     728.0   \n3      yt:CHoXZO7WFDA  2022-09-09T16:00:15Z       906.0       fr    1351.0   \n4      yt:cebFWOlx848  2016-07-21T14:00:03Z   3558310.0       en     505.0   \n...               ...                   ...         ...      ...       ...   \n19606  yt:Qrbw7ippuD0            2022-01-01      4078.0       fr     461.0   \n19607  yt:_CSMVQXyjU4            2022-02-06      2442.0       en     116.0   \n19608  yt:-VdXi2LMPyE            2021-12-19     62743.0       fr     794.0   \n19609  yt:WzvnHbTH0v8            2020-09-08    914540.0       fr     675.0   \n19610  yt:AondCPrWkAk            2023-02-14      2290.0       fr     535.0   \n\n       tournesol_score  largely_recommended  reliability  importance  \\\n0            66.701176            66.701176    35.970920   59.795943   \n1            75.456470            75.456470    64.325034   67.152979   \n2            73.130258            73.130258    47.169886   71.973155   \n3            60.085803            60.085803    27.077277   57.981589   \n4            54.353129            54.353129    32.474433   48.056419   \n...                ...                  ...          ...         ...   \n19606       -58.647835           -58.647835   -60.127642  -47.304960   \n19607       -72.111964           -72.111964    15.595034  -71.013476   \n19608       -70.022193           -70.022193   -58.061254  -69.487782   \n19609       -58.029473           -58.029473   -62.468430  -52.826996   \n19610       -55.616277           -55.616277   -62.289825  -57.791014   \n\n        engaging   pedagogy  layman_friendly  entertaining_relaxing  \\\n0      20.566453  59.321214        73.192768              40.141001   \n1      34.519085  52.753667        41.522293               3.831615   \n2      26.669174  65.454968        71.308568              61.440627   \n3      59.007726  14.919222        39.300481              15.246405   \n4      36.660664  41.422048        55.370706              57.519469   \n...          ...        ...              ...                    ...   \n19606 -29.625536 -63.358527       -28.352092             -53.621938   \n19607 -71.872018 -61.107881       -64.946550             -58.393954   \n19608 -53.109897 -65.016206       -58.251880             -47.178260   \n19609 -59.885927 -64.478566       -48.061383             -55.069572   \n19610 -52.502642 -59.400799       -58.708802             -57.460418   \n\n       better_habits  diversity_inclusion  backfire_risk  \n0          75.161422            35.165539      56.291224  \n1          75.355569            57.935965       8.088080  \n2          79.391979            10.774976     -43.828059  \n3          50.907638            55.404859      44.785123  \n4          64.168029           -25.580968      44.967269  \n...              ...                  ...            ...  \n19606     -53.105238           -56.787566     -51.500229  \n19607     -68.187890           -63.848142     -13.396379  \n19608     -69.889333           -30.211972     -13.005777  \n19609     -57.099281           -44.136548     -58.824974  \n19610     -56.880305           -61.925131     -52.542597  \n\n[19611 rows x 16 columns]",
      "text/html": "<div>\n<style scoped>\n    .dataframe tbody tr th:only-of-type {\n        vertical-align: middle;\n    }\n\n    .dataframe tbody tr th {\n        vertical-align: top;\n    }\n\n    .dataframe thead th {\n        text-align: right;\n    }\n</style>\n<table border=\"1\" class=\"dataframe\">\n  <thead>\n    <tr style=\"text-align: right;\">\n      <th></th>\n      <th>uid</th>\n      <th>publication_date</th>\n      <th>views</th>\n      <th>language</th>\n      <th>duration</th>\n      <th>tournesol_score</th>\n      <th>largely_recommended</th>\n      <th>reliability</th>\n      <th>importance</th>\n      <th>engaging</th>\n      <th>pedagogy</th>\n      <th>layman_friendly</th>\n      <th>entertaining_relaxing</th>\n      <th>better_habits</th>\n      <th>diversity_inclusion</th>\n      <th>backfire_risk</th>\n    </tr>\n  </thead>\n  <tbody>\n    <tr>\n      <th>0</th>\n      <td>yt:WPPPFqsECz0</td>\n      <td>2019-12-08T13:30:01Z</td>\n      <td>14053105.0</td>\n      <td>en</td>\n      <td>601.0</td>\n      <td>66.701176</td>\n      <td>66.701176</td>\n      <td>35.970920</td>\n      <td>59.795943</td>\n      <td>20.566453</td>\n      <td>59.321214</td>\n      <td>73.192768</td>\n      <td>40.141001</td>\n      <td>75.161422</td>\n      <td>35.165539</td>\n      <td>56.291224</td>\n    </tr>\n    <tr>\n      <th>1</th>\n      <td>yt:XhRbt3R41hs</td>\n      <td>2022-09-21T14:35:27Z</td>\n      <td>7387.0</td>\n      <td>fr</td>\n      <td>897.0</td>\n      <td>75.456470</td>\n      <td>75.456470</td>\n      <td>64.325034</td>\n      <td>67.152979</td>\n      <td>34.519085</td>\n      <td>52.753667</td>\n      <td>41.522293</td>\n      <td>3.831615</td>\n      <td>75.355569</td>\n      <td>57.935965</td>\n      <td>8.088080</td>\n    </tr>\n    <tr>\n      <th>2</th>\n      <td>yt:F1Hq8eVOMHs</td>\n      <td>2021-11-30T15:01:34Z</td>\n      <td>7277893.0</td>\n      <td>en</td>\n      <td>728.0</td>\n      <td>73.130258</td>\n      <td>73.130258</td>\n      <td>47.169886</td>\n      <td>71.973155</td>\n      <td>26.669174</td>\n      <td>65.454968</td>\n      <td>71.308568</td>\n      <td>61.440627</td>\n      <td>79.391979</td>\n      <td>10.774976</td>\n      <td>-43.828059</td>\n    </tr>\n    <tr>\n      <th>3</th>\n      <td>yt:CHoXZO7WFDA</td>\n      <td>2022-09-09T16:00:15Z</td>\n      <td>906.0</td>\n      <td>fr</td>\n      <td>1351.0</td>\n      <td>60.085803</td>\n      <td>60.085803</td>\n      <td>27.077277</td>\n      <td>57.981589</td>\n      <td>59.007726</td>\n      <td>14.919222</td>\n      <td>39.300481</td>\n      <td>15.246405</td>\n      <td>50.907638</td>\n      <td>55.404859</td>\n      <td>44.785123</td>\n    </tr>\n    <tr>\n      <th>4</th>\n      <td>yt:cebFWOlx848</td>\n      <td>2016-07-21T14:00:03Z</td>\n      <td>3558310.0</td>\n      <td>en</td>\n      <td>505.0</td>\n      <td>54.353129</td>\n      <td>54.353129</td>\n      <td>32.474433</td>\n      <td>48.056419</td>\n      <td>36.660664</td>\n      <td>41.422048</td>\n      <td>55.370706</td>\n      <td>57.519469</td>\n      <td>64.168029</td>\n      <td>-25.580968</td>\n      <td>44.967269</td>\n    </tr>\n    <tr>\n      <th>...</th>\n      <td>...</td>\n      <td>...</td>\n      <td>...</td>\n      <td>...</td>\n      <td>...</td>\n      <td>...</td>\n      <td>...</td>\n      <td>...</td>\n      <td>...</td>\n      <td>...</td>\n      <td>...</td>\n      <td>...</td>\n      <td>...</td>\n      <td>...</td>\n      <td>...</td>\n      <td>...</td>\n    </tr>\n    <tr>\n      <th>19606</th>\n      <td>yt:Qrbw7ippuD0</td>\n      <td>2022-01-01</td>\n      <td>4078.0</td>\n      <td>fr</td>\n      <td>461.0</td>\n      <td>-58.647835</td>\n      <td>-58.647835</td>\n      <td>-60.127642</td>\n      <td>-47.304960</td>\n      <td>-29.625536</td>\n      <td>-63.358527</td>\n      <td>-28.352092</td>\n      <td>-53.621938</td>\n      <td>-53.105238</td>\n      <td>-56.787566</td>\n      <td>-51.500229</td>\n    </tr>\n    <tr>\n      <th>19607</th>\n      <td>yt:_CSMVQXyjU4</td>\n      <td>2022-02-06</td>\n      <td>2442.0</td>\n      <td>en</td>\n      <td>116.0</td>\n      <td>-72.111964</td>\n      <td>-72.111964</td>\n      <td>15.595034</td>\n      <td>-71.013476</td>\n      <td>-71.872018</td>\n      <td>-61.107881</td>\n      <td>-64.946550</td>\n      <td>-58.393954</td>\n      <td>-68.187890</td>\n      <td>-63.848142</td>\n      <td>-13.396379</td>\n    </tr>\n    <tr>\n      <th>19608</th>\n      <td>yt:-VdXi2LMPyE</td>\n      <td>2021-12-19</td>\n      <td>62743.0</td>\n      <td>fr</td>\n      <td>794.0</td>\n      <td>-70.022193</td>\n      <td>-70.022193</td>\n      <td>-58.061254</td>\n      <td>-69.487782</td>\n      <td>-53.109897</td>\n      <td>-65.016206</td>\n      <td>-58.251880</td>\n      <td>-47.178260</td>\n      <td>-69.889333</td>\n      <td>-30.211972</td>\n      <td>-13.005777</td>\n    </tr>\n    <tr>\n      <th>19609</th>\n      <td>yt:WzvnHbTH0v8</td>\n      <td>2020-09-08</td>\n      <td>914540.0</td>\n      <td>fr</td>\n      <td>675.0</td>\n      <td>-58.029473</td>\n      <td>-58.029473</td>\n      <td>-62.468430</td>\n      <td>-52.826996</td>\n      <td>-59.885927</td>\n      <td>-64.478566</td>\n      <td>-48.061383</td>\n      <td>-55.069572</td>\n      <td>-57.099281</td>\n      <td>-44.136548</td>\n      <td>-58.824974</td>\n    </tr>\n    <tr>\n      <th>19610</th>\n      <td>yt:AondCPrWkAk</td>\n      <td>2023-02-14</td>\n      <td>2290.0</td>\n      <td>fr</td>\n      <td>535.0</td>\n      <td>-55.616277</td>\n      <td>-55.616277</td>\n      <td>-62.289825</td>\n      <td>-57.791014</td>\n      <td>-52.502642</td>\n      <td>-59.400799</td>\n      <td>-58.708802</td>\n      <td>-57.460418</td>\n      <td>-56.880305</td>\n      <td>-61.925131</td>\n      <td>-52.542597</td>\n    </tr>\n  </tbody>\n</table>\n<p>19611 rows × 16 columns</p>\n</div>"
     },
     "execution_count": 27,
     "metadata": {},
     "output_type": "execute_result"
    }
   ],
   "source": [
    "df"
   ],
   "metadata": {
    "collapsed": false
   }
  },
  {
   "cell_type": "code",
   "execution_count": 28,
   "outputs": [],
   "source": [
    "# import numpy as np\n",
    "# from youtube_dl import YoutubeDL\n",
    "# from pandarallel import pandarallel\n",
    "#\n",
    "# metadata_path = \"./true_scores_metadata.feather\"\n",
    "# if os.path.isfile(metadata_path):\n",
    "#     df = pd.read_feather(metadata_path)\n",
    "# else:\n",
    "#     # pas la bonne librairie (trouver une librairie de multi-threading !) pcq ma tâche est IO-bound.\n",
    "#     pandarallel.initialize(nb_workers=20, progress_bar=True)\n",
    "#\n",
    "#     def convert_yt_id_to_url(yt_id):\n",
    "#         \"\"\"convert 'yt:WPPPFqsECz0' to 'https://www.youtube.com/watch?v=WPPPFqsECz0'\"\"\"\n",
    "#         if yt_id.startswith(\"yt:\"):\n",
    "#             return f\"https://www.youtube.com/watch?v={yt_id[3:]}\"\n",
    "#         else:\n",
    "#             raise ValueError(f\"{yt_id} is not a valid youtube id\")\n",
    "#\n",
    "#     def extract_info(uid, ydl):\n",
    "#         try:\n",
    "#             info_dict = ydl.extract_info(convert_yt_id_to_url(uid), download=False)\n",
    "#         except:\n",
    "#             print(f\"uid={uid}\")\n",
    "#             return '', [], np.nan\n",
    "#         return info_dict['categories'][0], info_dict['tags'], info_dict['like_count']\n",
    "#\n",
    "#     ydl_opts = {\n",
    "#         'quiet': True,\n",
    "#         'ignoreerrors': False,  # ABSURDE : POUR QUE LES ERREURS N'INTERROMPT PAS LE PROCESSUS, IL FAUT DIRE IGNORE_ERRORS = FALSE !?!?\n",
    "#     }\n",
    "#     with YoutubeDL(ydl_opts) as ydl:\n",
    "#         idx = df['category'].isna() & df['tags'].isna() if 'category' in df.columns else ~df['uid'].isna()\n",
    "#         results = df[idx].parallel_apply(lambda x: extract_info(x['uid'], ydl), axis=1)\n",
    "#         df.loc[idx, ['category']] = [r[0] for r in results]\n",
    "#         df.loc[idx, ['tags']] = [r[1] for r in results]\n",
    "#         df.loc[idx, ['like_count']] = [r[2] for r in results]\n",
    "#     df.to_feather(metadata_path)\n",
    "#\n",
    "# # todo : nb d'abonnés de la chaîne, nb de commentaires.\n",
    "# todo : this code no more working"
   ],
   "metadata": {
    "collapsed": false
   }
  },
  {
   "cell_type": "markdown",
   "source": [
    "# Features"
   ],
   "metadata": {
    "collapsed": false
   }
  },
  {
   "cell_type": "code",
   "execution_count": null,
   "outputs": [],
   "source": [
    "# convert date to nb of monthes since 1970\n",
    "df['date'] = pd.to_datetime(df['publication_date'].str[:10]).apply(lambda x: x - pd.to_datetime('1970-01-01')) / np.timedelta64(1, 'M')\n",
    "df['date'] = df['date'].astype(float)\n",
    "df = df.drop(columns=['publication_date'])\n",
    "df['uid'] = df['uid'].str[3:]"
   ],
   "metadata": {
    "collapsed": false
   }
  },
  {
   "cell_type": "code",
   "execution_count": 33,
   "outputs": [
    {
     "name": "stderr",
     "output_type": "stream",
     "text": [
      "/tmp/ipykernel_59030/4239905091.py:10: SettingWithCopyWarning: \n",
      "A value is trying to be set on a copy of a slice from a DataFrame.\n",
      "Try using .loc[row_indexer,col_indexer] = value instead\n",
      "\n",
      "See the caveats in the documentation: https://pandas.pydata.org/pandas-docs/stable/user_guide/indexing.html#returning-a-view-versus-a-copy\n",
      "  df_criteria['index'] = df_criteria['uid'].apply(lambda x: video_ids[x])\n",
      "/tmp/ipykernel_59030/4239905091.py:10: SettingWithCopyWarning: \n",
      "A value is trying to be set on a copy of a slice from a DataFrame.\n",
      "Try using .loc[row_indexer,col_indexer] = value instead\n",
      "\n",
      "See the caveats in the documentation: https://pandas.pydata.org/pandas-docs/stable/user_guide/indexing.html#returning-a-view-versus-a-copy\n",
      "  df_criteria['index'] = df_criteria['uid'].apply(lambda x: video_ids[x])\n",
      "/tmp/ipykernel_59030/4239905091.py:10: SettingWithCopyWarning: \n",
      "A value is trying to be set on a copy of a slice from a DataFrame.\n",
      "Try using .loc[row_indexer,col_indexer] = value instead\n",
      "\n",
      "See the caveats in the documentation: https://pandas.pydata.org/pandas-docs/stable/user_guide/indexing.html#returning-a-view-versus-a-copy\n",
      "  df_criteria['index'] = df_criteria['uid'].apply(lambda x: video_ids[x])\n",
      "/tmp/ipykernel_59030/4239905091.py:10: SettingWithCopyWarning: \n",
      "A value is trying to be set on a copy of a slice from a DataFrame.\n",
      "Try using .loc[row_indexer,col_indexer] = value instead\n",
      "\n",
      "See the caveats in the documentation: https://pandas.pydata.org/pandas-docs/stable/user_guide/indexing.html#returning-a-view-versus-a-copy\n",
      "  df_criteria['index'] = df_criteria['uid'].apply(lambda x: video_ids[x])\n",
      "/tmp/ipykernel_59030/4239905091.py:10: SettingWithCopyWarning: \n",
      "A value is trying to be set on a copy of a slice from a DataFrame.\n",
      "Try using .loc[row_indexer,col_indexer] = value instead\n",
      "\n",
      "See the caveats in the documentation: https://pandas.pydata.org/pandas-docs/stable/user_guide/indexing.html#returning-a-view-versus-a-copy\n",
      "  df_criteria['index'] = df_criteria['uid'].apply(lambda x: video_ids[x])\n",
      "/tmp/ipykernel_59030/4239905091.py:10: SettingWithCopyWarning: \n",
      "A value is trying to be set on a copy of a slice from a DataFrame.\n",
      "Try using .loc[row_indexer,col_indexer] = value instead\n",
      "\n",
      "See the caveats in the documentation: https://pandas.pydata.org/pandas-docs/stable/user_guide/indexing.html#returning-a-view-versus-a-copy\n",
      "  df_criteria['index'] = df_criteria['uid'].apply(lambda x: video_ids[x])\n",
      "/tmp/ipykernel_59030/4239905091.py:10: SettingWithCopyWarning: \n",
      "A value is trying to be set on a copy of a slice from a DataFrame.\n",
      "Try using .loc[row_indexer,col_indexer] = value instead\n",
      "\n",
      "See the caveats in the documentation: https://pandas.pydata.org/pandas-docs/stable/user_guide/indexing.html#returning-a-view-versus-a-copy\n",
      "  df_criteria['index'] = df_criteria['uid'].apply(lambda x: video_ids[x])\n",
      "/tmp/ipykernel_59030/4239905091.py:10: SettingWithCopyWarning: \n",
      "A value is trying to be set on a copy of a slice from a DataFrame.\n",
      "Try using .loc[row_indexer,col_indexer] = value instead\n",
      "\n",
      "See the caveats in the documentation: https://pandas.pydata.org/pandas-docs/stable/user_guide/indexing.html#returning-a-view-versus-a-copy\n",
      "  df_criteria['index'] = df_criteria['uid'].apply(lambda x: video_ids[x])\n",
      "/tmp/ipykernel_59030/4239905091.py:10: SettingWithCopyWarning: \n",
      "A value is trying to be set on a copy of a slice from a DataFrame.\n",
      "Try using .loc[row_indexer,col_indexer] = value instead\n",
      "\n",
      "See the caveats in the documentation: https://pandas.pydata.org/pandas-docs/stable/user_guide/indexing.html#returning-a-view-versus-a-copy\n",
      "  df_criteria['index'] = df_criteria['uid'].apply(lambda x: video_ids[x])\n",
      "/tmp/ipykernel_59030/4239905091.py:10: SettingWithCopyWarning: \n",
      "A value is trying to be set on a copy of a slice from a DataFrame.\n",
      "Try using .loc[row_indexer,col_indexer] = value instead\n",
      "\n",
      "See the caveats in the documentation: https://pandas.pydata.org/pandas-docs/stable/user_guide/indexing.html#returning-a-view-versus-a-copy\n",
      "  df_criteria['index'] = df_criteria['uid'].apply(lambda x: video_ids[x])\n"
     ]
    }
   ],
   "source": [
    "more_than = 2\n",
    "for criterion in CRITERIA:\n",
    "    # get dict of video ids for the criterion\n",
    "    with open(f'./video_ids_{criterion}_{more_than}.pickle', 'rb') as handle:\n",
    "        video_ids = pickle.load(handle)  # Dict[video_id: str] = index in np array\n",
    "    video_ids_set = set(video_ids.keys())\n",
    "    df_criteria = df[df['uid'].isin(video_ids_set)]\n",
    "\n",
    "    # re-order according to video_ids index\n",
    "    df_criteria['index'] = df_criteria['uid'].apply(lambda x: video_ids[x])\n",
    "    df_criteria = df_criteria.sort_values(by='index')\n",
    "\n",
    "    # replace column scores for this criterion by the rank of the videos according to this criterion\n",
    "    df_criteria[criterion] = df_criteria[criterion].rank(method='dense', ascending=False).astype(int)\n",
    "\n",
    "    # export to x.npy\n",
    "    np.save(f'x_{criterion}_mt{more_than}.npy', df_criteria[['date', 'views', 'duration']].to_numpy())\n",
    "\n",
    "    # export y.npy\n",
    "    np.save(f'y_{criterion}_mt{more_than}.npy', df_criteria[criterion].to_numpy())\n"
   ],
   "metadata": {
    "collapsed": false
   }
  },
  {
   "cell_type": "code",
   "execution_count": 31,
   "outputs": [
    {
     "data": {
      "text/plain": "'backfire_risk'"
     },
     "execution_count": 31,
     "metadata": {},
     "output_type": "execute_result"
    }
   ],
   "source": [
    "criterion"
   ],
   "metadata": {
    "collapsed": false
   }
  },
  {
   "cell_type": "code",
   "execution_count": 30,
   "outputs": [
    {
     "data": {
      "text/plain": "               uid      views language  duration  tournesol_score  \\\n16355  -1FvAEaE0fc  1723067.0       de     467.0       -21.132857   \n15642  -3Dn7coSFQc     2970.0       fr     150.0        -1.517643   \n16029  -4qVv1tzZDU   535630.0       fr     253.0       -20.820962   \n17887  -5_qq4hX0eQ    11028.0       fr     949.0       -44.566316   \n9366   -6q04I3xdaQ    25653.0       fr     943.0       -23.934877   \n...            ...        ...      ...       ...              ...   \n18268  zygtkJfNkJg   366541.0       fr    7405.0       -30.989888   \n18355  zyiBUZJDYmc   260115.0       fr    2511.0        -4.679709   \n14992  zysL_lkdtys  5772278.0       en     539.0        28.769200   \n16423  zyzlVdLChXM    14001.0       fr    2816.0       -23.425994   \n15990  zzRrXJRhjiw    33641.0       fr     116.0         3.798843   \n\n       largely_recommended  reliability  importance   engaging   pedagogy  \\\n16355           -21.132857   -25.958183  -20.739765 -23.739011 -17.145341   \n15642            -1.517643     6.152152   17.394409  34.420948 -26.939165   \n16029           -20.820962   -19.095467  -17.543920 -25.107167 -11.778914   \n17887           -44.566316    -0.458301  -47.509255 -49.833980  20.312486   \n9366            -23.934877   -34.970147   25.941889  28.296046 -32.810149   \n...                    ...          ...         ...        ...        ...   \n18268           -30.989888     1.338272  -39.797626 -32.320081 -50.162639   \n18355            -4.679709   -32.022317  -10.227579  -4.207110 -34.821470   \n14992            28.769200   -26.702920   20.188369 -23.536769 -24.584375   \n16423           -23.425994   -11.862752  -19.668288 -21.989009 -29.363019   \n15990             3.798843   -43.546462   30.134784 -13.215242 -45.504861   \n\n       layman_friendly  entertaining_relaxing  better_habits  \\\n16355        23.326377               1.483756      -3.290241   \n15642       -41.492335             -24.265193      -8.443612   \n16029       -18.182725              -3.347612     -20.062409   \n17887         7.990917              32.229806     -48.764870   \n9366         30.215488             -23.886093      26.465291   \n...                ...                    ...            ...   \n18268       -37.420809             -18.282531      -7.980385   \n18355       -31.006468             -24.849249     -21.998123   \n14992        -4.051361             -27.118440      12.781870   \n16423        10.554801               1.605010     -26.732743   \n15990        -1.450867             -38.987450      23.816146   \n\n       diversity_inclusion  backfire_risk        date  index  \n16355            12.775827         6147.0  606.895419      0  \n15642            -1.186827         6775.0  605.646933      1  \n16029            18.383015         1162.0  592.932093      2  \n17887           -27.751775         4647.0  626.378365      3  \n9366             34.713555         6321.0  627.725415      4  \n...                    ...            ...         ...    ...  \n18268            38.909652         4827.0  629.926693   7476  \n18355           -15.517603         5042.0  626.509785   7477  \n14992            -1.274921         4703.0  624.308507   7478  \n16423            21.463659         4140.0  633.409310   7479  \n15990             4.891401         4424.0  625.786977   7480  \n\n[7481 rows x 17 columns]",
      "text/html": "<div>\n<style scoped>\n    .dataframe tbody tr th:only-of-type {\n        vertical-align: middle;\n    }\n\n    .dataframe tbody tr th {\n        vertical-align: top;\n    }\n\n    .dataframe thead th {\n        text-align: right;\n    }\n</style>\n<table border=\"1\" class=\"dataframe\">\n  <thead>\n    <tr style=\"text-align: right;\">\n      <th></th>\n      <th>uid</th>\n      <th>views</th>\n      <th>language</th>\n      <th>duration</th>\n      <th>tournesol_score</th>\n      <th>largely_recommended</th>\n      <th>reliability</th>\n      <th>importance</th>\n      <th>engaging</th>\n      <th>pedagogy</th>\n      <th>layman_friendly</th>\n      <th>entertaining_relaxing</th>\n      <th>better_habits</th>\n      <th>diversity_inclusion</th>\n      <th>backfire_risk</th>\n      <th>date</th>\n      <th>index</th>\n    </tr>\n  </thead>\n  <tbody>\n    <tr>\n      <th>16355</th>\n      <td>-1FvAEaE0fc</td>\n      <td>1723067.0</td>\n      <td>de</td>\n      <td>467.0</td>\n      <td>-21.132857</td>\n      <td>-21.132857</td>\n      <td>-25.958183</td>\n      <td>-20.739765</td>\n      <td>-23.739011</td>\n      <td>-17.145341</td>\n      <td>23.326377</td>\n      <td>1.483756</td>\n      <td>-3.290241</td>\n      <td>12.775827</td>\n      <td>6147.0</td>\n      <td>606.895419</td>\n      <td>0</td>\n    </tr>\n    <tr>\n      <th>15642</th>\n      <td>-3Dn7coSFQc</td>\n      <td>2970.0</td>\n      <td>fr</td>\n      <td>150.0</td>\n      <td>-1.517643</td>\n      <td>-1.517643</td>\n      <td>6.152152</td>\n      <td>17.394409</td>\n      <td>34.420948</td>\n      <td>-26.939165</td>\n      <td>-41.492335</td>\n      <td>-24.265193</td>\n      <td>-8.443612</td>\n      <td>-1.186827</td>\n      <td>6775.0</td>\n      <td>605.646933</td>\n      <td>1</td>\n    </tr>\n    <tr>\n      <th>16029</th>\n      <td>-4qVv1tzZDU</td>\n      <td>535630.0</td>\n      <td>fr</td>\n      <td>253.0</td>\n      <td>-20.820962</td>\n      <td>-20.820962</td>\n      <td>-19.095467</td>\n      <td>-17.543920</td>\n      <td>-25.107167</td>\n      <td>-11.778914</td>\n      <td>-18.182725</td>\n      <td>-3.347612</td>\n      <td>-20.062409</td>\n      <td>18.383015</td>\n      <td>1162.0</td>\n      <td>592.932093</td>\n      <td>2</td>\n    </tr>\n    <tr>\n      <th>17887</th>\n      <td>-5_qq4hX0eQ</td>\n      <td>11028.0</td>\n      <td>fr</td>\n      <td>949.0</td>\n      <td>-44.566316</td>\n      <td>-44.566316</td>\n      <td>-0.458301</td>\n      <td>-47.509255</td>\n      <td>-49.833980</td>\n      <td>20.312486</td>\n      <td>7.990917</td>\n      <td>32.229806</td>\n      <td>-48.764870</td>\n      <td>-27.751775</td>\n      <td>4647.0</td>\n      <td>626.378365</td>\n      <td>3</td>\n    </tr>\n    <tr>\n      <th>9366</th>\n      <td>-6q04I3xdaQ</td>\n      <td>25653.0</td>\n      <td>fr</td>\n      <td>943.0</td>\n      <td>-23.934877</td>\n      <td>-23.934877</td>\n      <td>-34.970147</td>\n      <td>25.941889</td>\n      <td>28.296046</td>\n      <td>-32.810149</td>\n      <td>30.215488</td>\n      <td>-23.886093</td>\n      <td>26.465291</td>\n      <td>34.713555</td>\n      <td>6321.0</td>\n      <td>627.725415</td>\n      <td>4</td>\n    </tr>\n    <tr>\n      <th>...</th>\n      <td>...</td>\n      <td>...</td>\n      <td>...</td>\n      <td>...</td>\n      <td>...</td>\n      <td>...</td>\n      <td>...</td>\n      <td>...</td>\n      <td>...</td>\n      <td>...</td>\n      <td>...</td>\n      <td>...</td>\n      <td>...</td>\n      <td>...</td>\n      <td>...</td>\n      <td>...</td>\n      <td>...</td>\n    </tr>\n    <tr>\n      <th>18268</th>\n      <td>zygtkJfNkJg</td>\n      <td>366541.0</td>\n      <td>fr</td>\n      <td>7405.0</td>\n      <td>-30.989888</td>\n      <td>-30.989888</td>\n      <td>1.338272</td>\n      <td>-39.797626</td>\n      <td>-32.320081</td>\n      <td>-50.162639</td>\n      <td>-37.420809</td>\n      <td>-18.282531</td>\n      <td>-7.980385</td>\n      <td>38.909652</td>\n      <td>4827.0</td>\n      <td>629.926693</td>\n      <td>7476</td>\n    </tr>\n    <tr>\n      <th>18355</th>\n      <td>zyiBUZJDYmc</td>\n      <td>260115.0</td>\n      <td>fr</td>\n      <td>2511.0</td>\n      <td>-4.679709</td>\n      <td>-4.679709</td>\n      <td>-32.022317</td>\n      <td>-10.227579</td>\n      <td>-4.207110</td>\n      <td>-34.821470</td>\n      <td>-31.006468</td>\n      <td>-24.849249</td>\n      <td>-21.998123</td>\n      <td>-15.517603</td>\n      <td>5042.0</td>\n      <td>626.509785</td>\n      <td>7477</td>\n    </tr>\n    <tr>\n      <th>14992</th>\n      <td>zysL_lkdtys</td>\n      <td>5772278.0</td>\n      <td>en</td>\n      <td>539.0</td>\n      <td>28.769200</td>\n      <td>28.769200</td>\n      <td>-26.702920</td>\n      <td>20.188369</td>\n      <td>-23.536769</td>\n      <td>-24.584375</td>\n      <td>-4.051361</td>\n      <td>-27.118440</td>\n      <td>12.781870</td>\n      <td>-1.274921</td>\n      <td>4703.0</td>\n      <td>624.308507</td>\n      <td>7478</td>\n    </tr>\n    <tr>\n      <th>16423</th>\n      <td>zyzlVdLChXM</td>\n      <td>14001.0</td>\n      <td>fr</td>\n      <td>2816.0</td>\n      <td>-23.425994</td>\n      <td>-23.425994</td>\n      <td>-11.862752</td>\n      <td>-19.668288</td>\n      <td>-21.989009</td>\n      <td>-29.363019</td>\n      <td>10.554801</td>\n      <td>1.605010</td>\n      <td>-26.732743</td>\n      <td>21.463659</td>\n      <td>4140.0</td>\n      <td>633.409310</td>\n      <td>7479</td>\n    </tr>\n    <tr>\n      <th>15990</th>\n      <td>zzRrXJRhjiw</td>\n      <td>33641.0</td>\n      <td>fr</td>\n      <td>116.0</td>\n      <td>3.798843</td>\n      <td>3.798843</td>\n      <td>-43.546462</td>\n      <td>30.134784</td>\n      <td>-13.215242</td>\n      <td>-45.504861</td>\n      <td>-1.450867</td>\n      <td>-38.987450</td>\n      <td>23.816146</td>\n      <td>4.891401</td>\n      <td>4424.0</td>\n      <td>625.786977</td>\n      <td>7480</td>\n    </tr>\n  </tbody>\n</table>\n<p>7481 rows × 17 columns</p>\n</div>"
     },
     "execution_count": 30,
     "metadata": {},
     "output_type": "execute_result"
    }
   ],
   "source": [
    "df_criteria"
   ],
   "metadata": {
    "collapsed": false
   }
  },
  {
   "cell_type": "code",
   "execution_count": 32,
   "outputs": [
    {
     "data": {
      "text/plain": "{'-1FvAEaE0fc': 0,\n '-3Dn7coSFQc': 1,\n '-4qVv1tzZDU': 2,\n '-5_qq4hX0eQ': 3,\n '-6q04I3xdaQ': 4,\n '-79HGfWmH_w': 5,\n '-8Q2OojFPK0': 6,\n '-9Jv4aO9y70': 7,\n '-9xNrBQpFt4': 8,\n '-ARJjb6tZrc': 9,\n '-BdZPFzH2JY': 10,\n '-BnSRVqKZ6g': 11,\n '-CNyiSwzCIg': 12,\n '-DfX3_CO2bU': 13,\n '-FBwZtuJtMw': 14,\n '-FaWBtxJ37M': 15,\n '-GCCk6Qk0pQ': 16,\n '-GToXhPm2Zo': 17,\n '-G_nUBKrjjQ': 18,\n '-GjOKU3t2ng': 19,\n '-H-ERnb8H3M': 20,\n '-I_xQJYoUtk': 21,\n '-JAFb2bYJSs': 22,\n '-JRURYTfBXQ': 23,\n '-KEoDTe19gs': 24,\n '-LEg3TU9-kU': 25,\n '-LKVUarhtvE': 26,\n '-LUTdWQZY-Q': 27,\n '-MTRxRO5SRA': 28,\n '-O5kNPlUV7w': 29,\n '-Od0UgFojYY': 30,\n '-OqrZG-EBaQ': 31,\n '-PuSllvcdRc': 32,\n '-QRYwHrH3CU': 33,\n '-RAdShCdvh0': 34,\n '-RdOwhmqP5s': 35,\n '-SBNs8KuQlc': 36,\n '-SgP7rTSSWo': 37,\n '-TQsgm2tPW0': 38,\n '-TxzW4eklEU': 39,\n '-UDLorjyWg0': 40,\n '-UNjkHeLrhU': 41,\n '-VdXi2LMPyE': 42,\n '-VxR1UzdrQM': 43,\n '-WQ2QnLEEYM': 44,\n '-XKoel3M5lI': 45,\n '-XN3aZ3ZKWY': 46,\n '-YW072jxCv0': 47,\n '-YkpZ-_e4mk': 48,\n '-Z0S0Z8lUTg': 49,\n '-Z7fO7mAyq4': 50,\n '-ZEvj1fHO80': 51,\n '-ZymntQT-zI': 52,\n '-_OzymdJ03c': 53,\n '-aTLKQpEel4': 54,\n '-ab1RUIdmBw': 55,\n '-d0z7rp2rB4': 56,\n '-eVxw8o22E8': 57,\n '-eqdj63nEr4': 58,\n '-fvmLzvnWh4': 59,\n '-gL6snFrUe0': 60,\n '-ggaOOdadkU': 61,\n '-h24NSS6jB0': 62,\n '-hKEyyi0F_c': 63,\n '-iSXF2lraR0': 64,\n '-isSCfHrlTs': 65,\n '-iydATFGhoM': 66,\n '-jVRfH2ugg8': 67,\n '-jl7KY4UftE': 68,\n '-lNRa0o5cyU': 69,\n '-m0YaE8uKcg': 70,\n '-m3KLNuN8d0': 71,\n '-mf7ye5vCl0': 72,\n '-n-d1ApBTFw': 73,\n '-nkuLmzPcNI': 74,\n '-o1j3s13SK0': 75,\n '-p0RBKl8ue0': 76,\n '-p92CwIHgIA': 77,\n '-pvxKdvuwIw': 78,\n '-q7JDqZUxhM': 79,\n '-qMu60ecjvE': 80,\n '-qgreAUpPwM': 81,\n '-qjP4tbah34': 82,\n '-rqlBAHB90g': 83,\n '-smTTv6Cyws': 84,\n '-spBg20oXWU': 85,\n '-tJf1Jdy5rI': 86,\n '-tmnx5PKJpA': 87,\n '-to0yrLjg7A': 88,\n '-uYVnqOdr9s': 89,\n '-v0XiUQlRLw': 90,\n '-vo3np_yWfw': 91,\n '-wb8yB9hNX0': 92,\n '-wpHszfnJns': 93,\n '-xTaAHSFHUU': 94,\n '-xifWDwWvAA': 95,\n '0-6mXQ746KI': 96,\n '009AGoQfVxA': 97,\n '00acMGEfVlo': 98,\n '01FvYaBJdBs': 99,\n '01cOM7Ucx-I': 100,\n '02rHA_Ay13M': 101,\n '03J4Ml2TRfc': 102,\n '03NtiW-NXcI': 103,\n '03dTJ4nXkXw': 104,\n '03eImug62IU': 105,\n '03ext7Dahxo': 106,\n '03gfl-tgrG8': 107,\n '04MnmN_0b-I': 108,\n '04fgn3St1lg': 109,\n '058hRtaCWC0': 110,\n '05AOVxbJu_o': 111,\n '05RaR4OeYug': 112,\n '063Ayh_6EJg': 113,\n '06F_sgHfBY8': 114,\n '06S-fniEV6k': 115,\n '07-d9vEmGHU': 116,\n '07Gm32CoQpI': 117,\n '08jel5j7Ab4': 118,\n '094y1Z2wpJg': 119,\n '09Fgix9yqbk': 120,\n '0BQ23TukET0': 121,\n '0BudpN0-joM': 122,\n '0CmtDk-joT4': 123,\n '0D_lRyuprE8': 124,\n '0DlBuIGzmIU': 125,\n '0EBa0XRfJFA': 126,\n '0ECO7TgnuJI': 127,\n '0ET_Mjc_ZIA': 128,\n '0ETcLj5jBy4': 129,\n '0EcRwuGubRg': 130,\n '0Flsg_mzG-M': 131,\n '0G2quEFQ0E4': 132,\n '0GDdraChwqg': 133,\n '0GfqqaFtbgc': 134,\n '0ItMzG9c4GI': 135,\n '0JJ5oF6ASkg': 136,\n '0JPc8p42f98': 137,\n '0JgKWeU7cUY': 138,\n '0K5ypXyF3dY': 139,\n '0KQYNtPl7V4': 140,\n '0KddmTrxCnI': 141,\n '0Kx4Y9TVMGg': 142,\n '0LJwDzurnPs': 143,\n '0LYYxhkd8qY': 144,\n '0LYspgSXybw': 145,\n '0MBjm2uzN9c': 146,\n '0Mlj3QxJe4k': 147,\n '0NFFk32CJ8s': 148,\n '0NGBo3HUrn0': 149,\n '0NbyYOcIwAY': 150,\n '0NlnONylg9c': 151,\n '0OuCdhIVWwo': 152,\n '0QTNgKpV_K4': 153,\n '0Q_FJN44JUI': 154,\n '0QincFs0bgY': 155,\n '0SnClG2WBV8': 156,\n '0T9rpBPHSWc': 157,\n '0Uh7Z0o6XLY': 158,\n '0UlwuZRHX_o': 159,\n '0Uqf71muwWc': 160,\n '0VluoJGmoUI': 161,\n '0Vpm9e7Cdsk': 162,\n '0VujLG9atV8': 163,\n '0WfcgfGTMlY': 164,\n '0X6w2i6ko5E': 165,\n '0Y8zNvLBP9U': 166,\n '0YWaNL4KTS4': 167,\n '0Z6qDeDuyPs': 168,\n '0Z8nfEOJS6M': 169,\n '0ZE5NOhMtAg': 170,\n '0ZGbIKd0XrM': 171,\n '0ZrjotmFOkg': 172,\n '0aH3ZTTkGAs': 173,\n '0aZ2CtRCF-A': 174,\n '0blw7r3IPjw': 175,\n '0c70G4rQmcY': 176,\n '0cIY-DVJ9ks': 177,\n '0dT6jB2Dbmk': 178,\n '0dVpy6p8uO8': 179,\n '0dWgx3-_K8c': 180,\n '0e5bRbPCFHQ': 181,\n '0eGBaRBbV5g': 182,\n '0eq4raE722k': 183,\n '0fDJXmqdN-A': 184,\n '0gWOiqPAZDw': 185,\n '0h8lFOen-rQ': 186,\n '0harqTR72-Q': 187,\n '0hbg0qJs6Xw': 188,\n '0iaj5966HV4': 189,\n '0ig76yTfGdQ': 190,\n '0kahih8RT1k': 191,\n '0kjwOJ0hTpg': 192,\n '0kz5vEqdaSc': 193,\n '0lNuTSz6KVM': 194,\n '0mPnzJoetSI': 195,\n '0me3guauqOU': 196,\n '0oMsFlQk_m4': 197,\n '0oe32CrcYPM': 198,\n '0pQSWRdtrf8': 199,\n '0pl0KtpFHPE': 200,\n '0pxrI2qUPVE': 201,\n '0rJF8YxhKg4': 202,\n '0rYJSIiwAto': 203,\n '0reBHYw50mk': 204,\n '0sBcct0vctE': 205,\n '0sOkKmdyhq4': 206,\n '0sPxyll_Avo': 207,\n '0s_To29Y_zw': 208,\n '0siW7ZCuyLM': 209,\n '0tlx_JJkHWc': 210,\n '0txz-2vqevs': 211,\n '0uQqMxXoNVs': 212,\n '0ue-wqSGWUI': 213,\n '0unvBW91wY0': 214,\n '0vVu4BeLYHY': 215,\n '0vi_rBXX6nQ': 216,\n '0wAy0Kptq3c': 217,\n '0xZ21m15xUQ': 218,\n '0xsQQBRYbDU': 219,\n '0zubpHxQMUM': 220,\n '1-NxodiGPCU': 221,\n '1-VEB4NLGMM': 222,\n '1-sxFVP6dcg': 223,\n '10Q-9Hgy1j4': 224,\n '10h86CAt90Q': 225,\n '116UyaIwB8Y': 226,\n '11mThZpzcbo': 227,\n '11o2OCBdgIs': 228,\n '12-ytJOMRl0': 229,\n '12655hQHCsQ': 230,\n '12ddOpt7Hio': 231,\n '131d3J1Qfac': 232,\n '16Ci_2bN_zc': 233,\n '1702hNn98ck': 234,\n '181Nj060xMQ': 235,\n '18VM1xZQdXc': 236,\n '18aJUTd8vsE': 237,\n '19s8CRUVf3E': 238,\n '1A3503GHFEs': 239,\n '1ACGCCzXq0M': 240,\n '1Bn50keR6UY': 241,\n '1CG1j4Gyqdk': 242,\n '1CSeY10zbqo': 243,\n '1CeUu8j7xsQ': 244,\n '1CifyVPCZ10': 245,\n '1E6AmcdU6N0': 246,\n '1EPx9slOH1A': 247,\n '1ETOhkE3hHc': 248,\n '1FclCge2pNc': 249,\n '1FnywRxQooU': 250,\n '1FqXTCvDLeo': 251,\n '1FwgCRIS0Wg': 252,\n '1HFFxihgfzI': 253,\n '1IqonOQZFAk': 254,\n '1J7h3F-nKus': 255,\n '1JQE4YZS1Cg': 256,\n '1JWOM0SZeaE': 257,\n '1L6HB97lbrQ': 258,\n '1L8VFM8Ehpw': 259,\n '1LUMWS4Gmxw': 260,\n '1L_4FFU6M04': 261,\n '1MUcizMqVAc': 262,\n '1MUsNiddQHA': 263,\n '1MkrNVic7pw': 264,\n '1Mw5ADaHyFo': 265,\n '1NOGEzyyrRA': 266,\n '1Nx8HuZA3SQ': 267,\n '1OSlQkrJkRc': 268,\n '1P-929oSyjk': 269,\n '1P-HyzGvde4': 270,\n '1PGm8LslEb4': 271,\n '1PLdl6NDGDE': 272,\n '1Qn5M1JunPk': 273,\n '1RHsAUyFCAM': 274,\n '1RUZCg824VU': 275,\n '1TvuJ6lH3_c': 276,\n '1XOo1OJFAeQ': 277,\n '1XmhVgTr4Y0': 278,\n '1YiDpzD42Bg': 279,\n '1awxwKia7og': 280,\n '1ayY4pWe__E': 281,\n '1br90iNj7OM': 282,\n '1c1jZQ9Bkq0': 283,\n '1cIjhpIQ-zc': 284,\n '1cWhAo57FPc': 285,\n '1ddvKDLeZQo': 286,\n '1dgjIeR5DBY': 287,\n '1eo6EY81h50': 288,\n '1eyRsFHfcgU': 289,\n '1fQkVqno-uI': 290,\n '1fuIG7rhIXo': 291,\n '1fxw3nTZYlA': 292,\n '1gDm6X19ZLI': 293,\n '1giL_2OOT9s': 294,\n '1guwMcXwW9o': 295,\n '1hEALL9fa9o': 296,\n '1iGISskc-EI': 297,\n '1j2vsLOc98E': 298,\n '1jFeYXgarsM': 299,\n '1jKnTg4kDs4': 300,\n '1jehVf8uIEM': 301,\n '1jkIONNqBcg': 302,\n '1kCfV8XW1_8': 303,\n '1kYGbMK1oA4': 304,\n '1l9ozI0GDik': 305,\n '1lCOgFPtaZ4': 306,\n '1lrofY8E1NU': 307,\n '1maqU4iGmac': 308,\n '1ml-OLDV7Vw': 309,\n '1nKyAs7bifE': 310,\n '1nNzxKM-3Ew': 311,\n '1nYqrcYxNtI': 312,\n '1nbrg-KVSAQ': 313,\n '1nysR6H_avc': 314,\n '1onCF9PfiAo': 315,\n '1pTPuoGjQsI': 316,\n '1qQN2bPdw2s': 317,\n '1qaWnhwVA0E': 318,\n '1qpzSOttHLs': 319,\n '1sIph9VrmpM': 320,\n '1sbsp_pNGIo': 321,\n '1sl5KJ69qiA': 322,\n '1t6hoJNXugM': 323,\n '1tOx_Vh5diE': 324,\n '1tSqSMOyNFE': 325,\n '1tdbtRpfk-c': 326,\n '1tld4u-YTNw': 327,\n '1tmTy5zax4w': 328,\n '1ugdQfZtntI': 329,\n '1xY1VS5-rqQ': 330,\n '1xvF9iYh4yQ': 331,\n '1yKw4g7TZmg': 332,\n '1z9tFJSuHgo': 333,\n '1zHv3WeKtww': 334,\n '1zdWYaFbBt4': 335,\n '1zfUnx4VCCU': 336,\n '1zskDU0uDcI': 337,\n '2-NSPBkfOp8': 338,\n '2-cGksQf-w8': 339,\n '2-cwBm70MTY': 340,\n '20G-Z1RbwwI': 341,\n '20_XNrBkwWg': 342,\n '21PxERIMYQw': 343,\n '21l62l-xTE4': 344,\n '22JHYdMI5KE': 345,\n '22W5tRWbUVI': 346,\n '22jhsS1bnes': 347,\n '23SeblwtwBE': 348,\n '23lARozKv50': 349,\n '23tz9ddQpqY': 350,\n '24-xkC1W9Ag': 351,\n '25qp5QvRWgs': 352,\n '27tugXv-G94': 353,\n '28REiBKCLXI': 354,\n '28RXYI4jSaw': 355,\n '28UN70790Do': 356,\n '28_xT6aTPts': 357,\n '28uRv8L-LvM': 358,\n '29L3zN9j4rs': 359,\n '29QDGEJC1fg': 360,\n '29w4RyBjugo': 361,\n '2A7mblg5UKc': 362,\n '2A9PLW6BCx4': 363,\n '2AO6MCP0AzM': 364,\n '2Afk9KVEgpE': 365,\n '2AsoWS2t484': 366,\n '2BOoHMdXn_8': 367,\n '2BrVYeTywNI': 368,\n '2Cay7Qv1ZZw': 369,\n '2Cc4C0PS_uc': 370,\n '2CqApwhwcTc': 371,\n '2DOYvDWZWwo': 372,\n '2F79Lwo-_1Q': 373,\n '2FVwXaNWPQ0': 374,\n '2FZG3nH7zPE': 375,\n '2FeLKpQf9zM': 376,\n '2Gtp0ky2D9g': 377,\n '2JbRdZT83eQ': 378,\n '2KxJ6eTY9bA': 379,\n '2Mf7Bv0PzCs': 380,\n '2Ntp6BqhSng': 381,\n '2Nv4cgiIoWY': 382,\n '2O1QA1VoRMM': 383,\n '2OJ1wVIAcOM': 384,\n '2P4Pw1V_ou0': 385,\n '2QCUUnOGww4': 386,\n '2QTFkB-UxWM': 387,\n '2SZN7ZsQdtk': 388,\n '2SwUQHGt5Sw': 389,\n '2TSgU6Vjfqw': 390,\n '2U2SAAH1tKg': 391,\n '2VHwYpKU4fU': 392,\n '2Vrhk5OjBP8': 393,\n '2Vso3OguJ-A': 394,\n '2WWON9meZGs': 395,\n '2Wq6H8GMVm0': 396,\n '2X3_mNzdFc8': 397,\n '2XCQs6OFleg': 398,\n '2XD2LpiGzeY': 399,\n '2XLTxgwf6Gk': 400,\n '2XPtzAQxMPw': 401,\n '2XZr5f0bdec': 402,\n '2YjVkNfgD34': 403,\n '2Z9p_I3hhUc': 404,\n '2ZcgpGUSYtw': 405,\n '2__Dd_KXuuU': 406,\n '2_f17aC2LME': 407,\n '2_kaRuDNdno': 408,\n '2a-ecFhPFAc': 409,\n '2aDVtZH7WvU': 410,\n '2b7uMJkvS0o': 411,\n '2bfSVqQ0EQ0': 412,\n '2bvPVktK6fA': 413,\n '2c9PhpgUUcg': 414,\n '2cGCF4WXLIo': 415,\n '2cOMQG3c2i4': 416,\n '2crQgDOd28o': 417,\n '2cvY_yDwB14': 418,\n '2eOg5DoYuwU': 419,\n '2ethDz9KnLk': 420,\n '2fmdvr4evBE': 421,\n '2gFsOoKAHZg': 422,\n '2h4pq1vz-Fg': 423,\n '2hm9Q8GeW6U': 424,\n '2hnzcDF6Ido': 425,\n '2ij8NRLPhzI': 426,\n '2j21B0MeHS8': 427,\n '2jJhMyUmQaA': 428,\n '2k0wAqY0wFk': 429,\n '2k1YYqZ84D4': 430,\n '2kqvfoUUhA4': 431,\n '2mH107LOPeo': 432,\n '2nXcb6Inz58': 433,\n '2nvwpVoBgLQ': 434,\n '2oDsP5WKGuc': 435,\n '2oFARgqG0NA': 436,\n '2ohiGNnFTKI': 437,\n '2ohr6KpKJaQ': 438,\n '2q68Ylx-cP4': 439,\n '2qLstbRHzmk': 440,\n '2r2jQPHNF28': 441,\n '2r9Lpab9Fhc': 442,\n '2rK5TMkb9c4': 443,\n '2sgracmBZ98': 444,\n '2tSprtSObq8': 445,\n '2ty2J0s2W0c': 446,\n '2uiNFLSpib0': 447,\n '2v0vXN3pAkM': 448,\n '2w-AEMAU_EE': 449,\n '2wXjSyoWmeg': 450,\n '2x3fLKXLITQ': 451,\n '2x3scrfNPBU': 452,\n '2yMNpYcBnjA': 453,\n '2zZRFJ1oXHA': 454,\n '2zqTGGjOui8': 455,\n '3-KzTAdmMOw': 456,\n '3-YQDFNwIg4': 457,\n '3-lUwhMB1qw': 458,\n '30fJPIrj5sg': 459,\n '30go6ajaTtM': 460,\n '3105ScO53fo': 461,\n '311QHNzN_h4': 462,\n '3163y1bfB1I': 463,\n '31MKkKZr8ao': 464,\n '31p7TR1cWjs': 465,\n '32aGBl_pWuE': 466,\n '32vQj6pO-hc': 467,\n '33T1UoCtX-s': 468,\n '33YSWaR3kAQ': 469,\n '3437zrU5dO8': 470,\n '34wrlNPYnAs': 471,\n '35bVwi6ucQw': 472,\n '36GLf-n5WrY': 473,\n '36WpRwY2DYw': 474,\n '36m1o-tM05g': 475,\n '37M2Cv5RZsM': 476,\n '37oYeiYJGOM': 477,\n '396Zm7w2cNo': 478,\n '39agCkh7oFc': 479,\n '3AAq_LAKL24': 480,\n '3AIZLrNGowg': 481,\n '3AVmt1wVS2w': 482,\n '3AXupc7oE-g': 483,\n '3BKnytc-2Rk': 484,\n '3BQ2WZhgnhU': 485,\n '3Bax8ijH038': 486,\n '3CX6bj0qVkM': 487,\n '3CtAckdz9k4': 488,\n '3D5KCbcEsT8': 489,\n '3DF7U4HMGWI': 490,\n '3DOcQRl9ASc': 491,\n '3DgB6c639qo': 492,\n '3EXvswMtoeM': 493,\n '3FOrWMDL8CY': 494,\n '3FQ5lSitIFk': 495,\n '3FiO-Z5l1dU': 496,\n '3GZ2Hk1K3d8': 497,\n '3GqhApWmFtA': 498,\n '3HAnKQpUsy4': 499,\n '3ICfs-XMp0s': 500,\n '3IFr8Kkx0fA': 501,\n '3IT_rnV1LBw': 502,\n '3J6FuhYAvtA': 503,\n '3JLfmsg05ZY': 504,\n '3JY-0V2XNTk': 505,\n '3Jw3dvqOdvs': 506,\n '3K25VPdbAjU': 507,\n '3K3fy5eKeuM': 508,\n '3Kf8nydv6Ag': 509,\n '3Kzl2suBE2w': 510,\n '3LopI4YeC4I': 511,\n '3MHDDSekvcE': 512,\n '3MJJvXGuDag': 513,\n '3N3Bl5AA5QU': 514,\n '3NV4FEJfYw8': 515,\n '3NYa3jKaMek': 516,\n '3NsRK6qweKE': 517,\n '3Om9ssTm194': 518,\n '3OqQhtLwY9o': 519,\n '3PK2Wm7_HSI': 520,\n '3Q93Rw594KI': 521,\n '3QhLiNw1p14': 522,\n '3QqR3AQe-SU': 523,\n '3SK5I6461Ww': 524,\n '3SMBV0gHVKQ': 525,\n '3SxLhxDzTcU': 526,\n '3TYT1QfdfsM': 527,\n '3TZqfXOo2TQ': 528,\n '3UAOmMgl17s': 529,\n '3UoCBkp-CAg': 530,\n '3VtLh-IABuk': 531,\n '3WMuzhQXJoY': 532,\n '3Xct2cLcsWY': 533,\n '3YNku5FKWjw': 534,\n '3Z2249JGbf4': 535,\n '3ZT_Kb3E1xU': 536,\n '3Z_12UnCNRQ': 537,\n '3_0T73fX9VE': 538,\n '3abgR4t1wkw': 539,\n '3aoLV5i1feo': 540,\n '3bPPa5VQVi4': 541,\n '3bR9qaJh51A': 542,\n '3bTntGMnzfw': 543,\n '3bVGuXrd5mg': 544,\n '3bdLvGOHROI': 545,\n '3cDv3_h9n6s': 546,\n '3cb38Wv8Ahw': 547,\n '3d5XENMOQ_w': 548,\n '3ecIHetmYKA': 549,\n '3fJhTu-0zmo': 550,\n '3gyHKCDq1YA': 551,\n '3hCffvguLTQ': 552,\n '3hYuyFNKK4M': 553,\n '3h_6zy58acE': 554,\n '3iTTEiWLArI': 555,\n '3j56nUWxdWo': 556,\n '3jGy6bs7SQs': 557,\n '3kn0Wc3tShc': 558,\n '3l6teE-gjc4': 559,\n '3lM_KKUWRMo': 560,\n '3lrJYTsKdUM': 561,\n '3mJ5pdrwJBg': 562,\n '3mbBES5PyOk': 563,\n '3n3Hq7XSBjA': 564,\n '3nTGqt5D04E': 565,\n '3odS28gQmw4': 566,\n '3pEvn4P1vj0': 567,\n '3pFC1ZYcEi8': 568,\n '3q-7Tam2cuc': 569,\n '3qL8BxM7YSI': 570,\n '3qYFHmviBBw': 571,\n '3rNq8P1amP8': 572,\n '3roITeXVWuE': 573,\n '3s8-GtFt6f4': 574,\n '3t1LtLriqBI': 575,\n '3u-KOqGk5Xk': 576,\n '3w0hg69zKdk': 577,\n '3wrrmKo2IS8': 578,\n '3xGIc88aFp4': 579,\n '3zcCX7yyiz4': 580,\n '3ze81eCuko0': 581,\n '3znAl0QH1eE': 582,\n '4-6UBTZCxVA': 583,\n '400kntzXVKY': 584,\n '40ULoRiXWJQ': 585,\n '41wMbLb9M2Q': 586,\n '42-IuroPPyI': 587,\n '425-jGkoQRQ': 588,\n '42QuXLucH3Q': 589,\n '42TMjhsFf_4': 590,\n '42egx6Zk1bw': 591,\n '42iQKuQodW4': 592,\n '437q26DoVes': 593,\n '43PMwj5NQLA': 594,\n '43ZkY4WJh-A': 595,\n '43cCK4uEdes': 596,\n '44Vnvcsd4ME': 597,\n '46QRfChKDgg': 598,\n '46VINaPAqHM': 599,\n '47B3CMuI3pM': 600,\n '47agCNyxfOE': 601,\n '48uxhrd78N4': 602,\n '49_W7PFpbtA': 603,\n '4AWLcxTGZPA': 604,\n '4Ai_nu7wUek': 605,\n '4BZ006PPW_o': 606,\n '4BpX0MGBO5E': 607,\n '4CrkOcIyQfo': 608,\n '4E0dwFS72gk': 609,\n '4E7Phl_xBH4': 610,\n '4EWKAoKGAyg': 611,\n '4EyVFPubbpg': 612,\n '4GIE0UCNI-c': 613,\n '4GLZq6o4OiQ': 614,\n '4GWOdkhAnX4': 615,\n '4GXiiSymKxE': 616,\n '4GczBweSW68': 617,\n '4GsbtY5h37k': 618,\n '4H9jTQKmR3Q': 619,\n '4Hds4WFCcRY': 620,\n '4ImeOKgD_Dw': 621,\n '4JW7bU0n_jM': 622,\n '4K-Jx914NcQ': 623,\n '4KAGVshw_GE': 624,\n '4KDMxzGC2Ag': 625,\n '4KV2jLsdV4M': 626,\n '4L77Qg53Rjw': 627,\n '4LwYOYZyPzw': 628,\n '4M4NSJY5paE': 629,\n '4MtAC7U8Hv8': 630,\n '4NYYrfFH3XM': 631,\n '4OGWE8zU12w': 632,\n '4P9BxfnvHDs': 633,\n '4PoWAsBOsFs': 634,\n '4QRtzf4F-KU': 635,\n '4QeZwWZOvWU': 636,\n '4QgACw5Hms0': 637,\n '4QinkKkvFFw': 638,\n '4R7aMuv1nOg': 639,\n '4RTxJ_I9LtU': 640,\n '4RflQ5NghjE': 641,\n '4SMWQhaCrbY': 642,\n '4SWe3bFYcOA': 643,\n '4TFTWvCfaCM': 644,\n '4TMtguuOt9s': 645,\n '4TRrqN8HWl8': 646,\n '4TWf2jY9OIQ': 647,\n '4ToSpJ8kqlc': 648,\n '4WZpJm1tCaU': 649,\n '4XAD3za9pMw': 650,\n '4XPFGn7Pxa8': 651,\n '4Y1Cfa5VVNI': 652,\n '4Yoo_DX2Nt0': 653,\n '4Z80X09unE4': 654,\n '4ZQHuKweuNM': 655,\n '4_JJ6yb4EE4': 656,\n '4_Le9FOsO74': 657,\n '4_qJptwikRc': 658,\n '4aDCUq1wqmw': 659,\n '4aHjsSWjeVk': 660,\n '4aUODXeAM-k': 661,\n '4b33NTAuF5E': 662,\n '4bC4EQUsgF8': 663,\n '4bM4I1_B7E4': 664,\n '4c5wIUQlYqE': 665,\n '4dam3bmUFo0': 666,\n '4eHi-HKLBFo': 667,\n '4eSApe2hIx8': 668,\n '4eiuy-hEO18': 669,\n '4fT-AZeVn1g': 670,\n '4hHA-oqpNig': 671,\n '4kRY6vp99iY': 672,\n '4kfcsOhgzRA': 673,\n '4kxjtEAr7bk': 674,\n '4lQkQSmA8nA': 675,\n '4mX6TDwjtJc': 676,\n '4mrhdsS19Xk': 677,\n '4mxpn1EFj2I': 678,\n '4oajxnU2fFM': 679,\n '4pKjB2u4PWk': 680,\n '4rC49-j6yRI': 681,\n '4rz0WRCD5Q0': 682,\n '4sLWRScmfH0': 683,\n '4skfwSasAyo': 684,\n '4slE26R31eg': 685,\n '4tX_sFDdsz4': 686,\n '4u5I8GYB79Y': 687,\n '4upvesrv4vg': 688,\n '4wR9hWduhuQ': 689,\n '4wTADlDJRQs': 690,\n '4wUADfnCMdc': 691,\n '4wmylAORCx8': 692,\n '4xO5jM3r4yw': 693,\n '4yBSPdz3T3o': 694,\n '4ycuZqKuKa8': 695,\n '4ys9O8t8BaI': 696,\n '5-D87-RXmjA': 697,\n '509G4WOeZzM': 698,\n '5261f9uoeac': 699,\n '52ouHQYF78Q': 700,\n '53AOQQrK5Xw': 701,\n '544ol-ftnCA': 702,\n '54DcZK-ct6o': 703,\n '54XLXg4fYsc': 704,\n '54jbXAVy_Rw': 705,\n '55AOLLn48Z0': 706,\n '55L7w2Vwkuk': 707,\n '56nd5B5YDp0': 708,\n '57ywuk_xhb8': 709,\n '58O0WrATyiw': 710,\n '58zkZ0WeMVc': 711,\n '59KwdTUdnuI': 712,\n '5AN_t_p0D4Q': 713,\n '5AfCWxjOKEs': 714,\n '5BBnvWpo33M': 715,\n '5Clhl2ZdcGc': 716,\n '5DksMFEBocY': 717,\n '5DrSU72hOUQ': 718,\n '5E4uuPvJKmo': 719,\n '5HI4pSHEm1M': 720,\n '5HNmsBaVmZs': 721,\n '5Hyy1zRZPiQ': 722,\n '5IpAsztfBBA': 723,\n '5KEF0SmQp9A': 724,\n '5KxWg1fHeA8': 725,\n '5L5-h3n5Gb0': 726,\n '5LTTZOxLan8': 727,\n '5LYUq4Le3Q8': 728,\n '5LbCRx1UbWY': 729,\n '5Mfq5MWduQc': 730,\n '5MhmdM_hq8A': 731,\n '5Muq-u5NEMU': 732,\n '5N44LOHTw8M': 733,\n '5NAU5JRncNo': 734,\n '5NBQ2PBiobM': 735,\n '5Q21ei4KEB0': 736,\n '5Q4icIvy2g4': 737,\n '5QK_EGZsdP8': 738,\n '5R1xOJOFRzs': 739,\n '5RSIDwz2pok': 740,\n '5Rm7emO9oZM': 741,\n '5TTcbMv5tDc': 742,\n '5TbUxGZtwGI': 743,\n '5U4Fa5EyNzE': 744,\n '5UFTF5xwF7s': 745,\n '5VgZAyCm0z4': 746,\n '5Viy3Cu3DLk': 747,\n '5VpfE2EIWMw': 748,\n '5Wstm9iwkSA': 749,\n '5YO7Vg1ByA8': 750,\n '5YcvKvxWaCE': 751,\n '5Ym8q6jHOzQ': 752,\n '5YquWKsi0Q8': 753,\n '5ZObxRwkxDY': 754,\n '5aJm3lJ49FE': 755,\n '5avQanwHc3Q': 756,\n '5bsgf9YAYdo': 757,\n '5cPzNmtoZDU': 758,\n '5d33Y4ChY-I': 759,\n '5dH3PgTHy8c': 760,\n '5dS1D_X5xRg': 761,\n '5dw4u2A9F4g': 762,\n '5e1SKV6ZMF8': 763,\n '5eNLvF5xCbg': 764,\n '5eW6Eagr9XA': 765,\n '5gnlhmaM-dM': 766,\n '5hGu8Gqv56Q': 767,\n '5iABaxRWGxk': 768,\n '5iPH-br_eJQ': 769,\n '5jYlFZY_vUs': 770,\n '5k5IiYmLNIs': 771,\n '5kRXfVxKukU': 772,\n '5kdw2gTMcUM': 773,\n '5mMifKmslC4': 774,\n '5mRMbFVb0nQ': 775,\n '5noapufmNz8': 776,\n '5oEcxMfwJnw': 777,\n '5o_sv9xo3Gs': 778,\n '5oeM3oxmNhs': 779,\n '5otaBKsz7k4': 780,\n '5ovdoxnfFVc': 781,\n '5pHHkEM4i1c': 782,\n '5pNL7MlUpmI': 783,\n '5plXSS4IYAo': 784,\n '5q9U8GFSKvg': 785,\n '5qtC-tsQ-wE': 786,\n '5qwln9eUdeg': 787,\n '5rkztdJUZg4': 788,\n '5vQadVv8sKc': 789,\n '5v_Dl7i4Bcw': 790,\n '5vgK_e2tA-k': 791,\n '5w65u2TXYiw': 792,\n '5wK5E1NqQPQ': 793,\n '5xziAeW7l6w': 794,\n '5ysUySSNW3M': 795,\n '5yx_We_8w2c': 796,\n '5zOHSysMmH0': 797,\n '6-idzvtGGk0': 798,\n '60VWuid7U0c': 799,\n '60d4Sm1zkck': 800,\n '610auZn645w': 801,\n '61AN7Vf4RSs': 802,\n '61JoMMluJ8E': 803,\n '61hr7Plg73I': 804,\n '627EFCt6B2w': 805,\n '62TubVzpiOw': 806,\n '62ZQCRdD77s': 807,\n '62eJxPFMBUc': 808,\n '63_MJNZ3Ce8': 809,\n '63rT9ack-Ew': 810,\n '64EHipxEh9c': 811,\n '64xNugjI6jc': 812,\n '65U8_eayS3I': 813,\n '65W_ly5X0nU': 814,\n '661ugOS9QxM': 815,\n '66HgM5z0MBc': 816,\n '66cvCPk_9BM': 817,\n '67E_Z8eQFbM': 818,\n '67Yc8_Bszlk': 819,\n '67wFSNa6r7Y': 820,\n '68CdeZXFkVk': 821,\n '69TV0hbSRwY': 822,\n '69uRHtH3uC0': 823,\n '69w3mZOHEtU': 824,\n '6A0K8_QZZxU': 825,\n '6AJfhZDjrzc': 826,\n '6Af6b_wyiwI': 827,\n '6B7K7vtoan0': 828,\n '6BnoaLSu_HE': 829,\n '6C-10uUqanI': 830,\n '6C73ijGmKtg': 831,\n '6CRIka-fXFs': 832,\n '6DhERjciVVE': 833,\n '6E8VE6fZQoo': 834,\n '6EBm2vWxe4o': 835,\n '6ERXfZTFbFQ': 836,\n '6EtbRWiVN80': 837,\n '6F3qTi-McZI': 838,\n '6F7tlwmdjbY': 839,\n '6G5SiVJnJM4': 840,\n '6I0vLIgeytU': 841,\n '6IGVqsnxCE0': 842,\n '6Ia20-bi6YA': 843,\n '6IiADxxufQY': 844,\n '6JjRS4rz7A8': 845,\n '6Jlvk1gq3Hs': 846,\n '6LGb9TxUHLI': 847,\n '6N0dlorL0r8': 848,\n '6P67Nnztylc': 849,\n '6PHpYXBe3_4': 850,\n '6Pm0Mn0-jYU': 851,\n '6QFMSeMf6XM': 852,\n '6QuCW4FaA78': 853,\n '6REilAGNKGs': 854,\n '6Rl8XywFilk': 855,\n '6TApSIHkoe0': 856,\n '6TItCxh0fQU': 857,\n '6U9WBN0Sck8': 858,\n '6UlDUe4CfvA': 859,\n '6W3cqiR2C_M': 860,\n '6X4UEawXu-Q': 861,\n '6XqhBT6T-b8': 862,\n '6XsKXUuOyXg': 863,\n '6Y6nZAV6qO0': 864,\n '6YG8CsCE0WM': 865,\n '6YOoqATta8c': 866,\n '6YXttl7iHPo': 867,\n '6YtMf6JVHi4': 868,\n '6Z-k28fBDgw': 869,\n '6_N_n72so04': 870,\n '6_o8EwK-m7o': 871,\n '6ac2j7g0A9s': 872,\n '6apprUckGms': 873,\n '6cNeEumayJ0': 874,\n '6d1KCOKhbsw': 875,\n '6eL2Bq-U7GQ': 876,\n '6etTERFUlUI': 877,\n '6evV9YSiW9U': 878,\n '6eyNE7Gymgs': 879,\n '6fEEE9PEGL8': 880,\n '6fcWOivJ6bs': 881,\n '6gOozlRspF4': 882,\n '6gVSajjt_uE': 883,\n '6gbONovAl8A': 884,\n '6gj846981Ic': 885,\n '6gjMfVcKA_o': 886,\n '6gyLI_iw59o': 887,\n '6hmTzS-20E0': 888,\n '6hv2G5T2Mgk': 889,\n '6iO8m6WpF6o': 890,\n '6ipmsLt4JWM': 891,\n '6jK9bFWE--g': 892,\n '6jPeeLLkpNA': 893,\n '6jkN50X9gZc': 894,\n '6kg2yV_3B1Q': 895,\n '6khd1vMzS48': 896,\n '6kolTgj7uQc': 897,\n '6kqivnW1OBM': 898,\n '6l4WMnGol6w': 899,\n '6lFNZWgviyo': 900,\n '6lfM0z9cV4k': 901,\n '6mdj9I1yN5Q': 902,\n '6me7UiWyRP8': 903,\n '6mhp5NBNiCs': 904,\n '6nXk3846EX8': 905,\n '6nuBccQB4sk': 906,\n '6o2gNs_4iT4': 907,\n '6o38C-ultvw': 908,\n '6obKndWZ3jM': 909,\n '6p8zAbFKpW0': 910,\n '6pvIKfVZp_Y': 911,\n '6r4ZqtNvGrE': 912,\n '6s_zXFmWM6g': 913,\n '6tu0mIpX8nU': 914,\n '6vYCQaMNmiQ': 915,\n '6vasbjzv34M': 916,\n '6wB1qoVIbZM': 917,\n '6wVZqvczUwE': 918,\n '6x12V3-vDjY': 919,\n '6xqPKUx1WOI': 920,\n '6z71WZPoHUY': 921,\n '709YOzVSK3Q': 922,\n '70ApyQZreJM': 923,\n '70zZPcMZETE': 924,\n '719aHts3HDg': 925,\n '71XKkNiNJM4': 926,\n '71a63rMebUg': 927,\n '74WQgNa3OsQ': 928,\n '74qdrI1myhE': 929,\n '74sKTvkFpPE': 930,\n '74yfPjkDfhs': 931,\n '75bbNdlX2pA': 932,\n '75d_29QWELk': 933,\n '75tgTeJE050': 934,\n '75udjh6hkOs': 935,\n '76OjFqfmQ0Y': 936,\n '76sxACzHIEk': 937,\n '77yYDt7d5nM': 938,\n '79G5FwAhBDA': 939,\n '7ADZeuQ9hRw': 940,\n '7AktPjxLe8k': 941,\n '7BBKA6EU0x4': 942,\n '7BSrZCB8OsI': 943,\n '7DetZlbQgxA': 944,\n '7DtrOKM467k': 945,\n '7EDJWnGPxwQ': 946,\n '7Ea4lMRpDqE': 947,\n '7EyosIJk91o': 948,\n '7GiDgP4F1j8': 949,\n '7H-yTKWL6jU': 950,\n '7HHA-fvgoq8': 951,\n '7Hodm2VvJ-U': 952,\n '7IRVMY7nXq0': 953,\n '7JW2Bx3vm2A': 954,\n '7JfbCIDZUBs': 955,\n '7JkQ7SBsVrs': 956,\n '7K1mPMaIkM0': 957,\n '7K85UP1ycss': 958,\n '7KJbzgoBUX0': 959,\n '7KPVSBHgTm0': 960,\n '7KmAKVaO-Xc': 961,\n '7LDe5OJWgOU': 962,\n '7LHX_hMsFcA': 963,\n '7LiJihSqCeI': 964,\n '7LkM225-BoE': 965,\n '7M1laeBgEuM': 966,\n '7M3xB6Rn9jA': 967,\n '7Mb3_9sl8JQ': 968,\n '7MbY2ddpR-4': 969,\n '7N459O_Vd7I': 970,\n '7OLpKqTriio': 971,\n '7OOEjgDQzpg': 972,\n '7OPg-ksxZ4Y': 973,\n '7P1Q_odBprI': 974,\n '7Pq-S557XQU': 975,\n '7T6N0Ohm778': 976,\n '7TmcXYp8xu4': 977,\n '7U-0o2-nNjU': 978,\n '7Vy1Cg5O5Pc': 979,\n '7W1Y2nmOya0': 980,\n '7WGaMAb-ivs': 981,\n '7WRec6JA6Tw': 982,\n '7WdIsIxur-E': 983,\n '7X30PCcdK58': 984,\n '7Y1ALRMfmJ0': 985,\n '7YjgfhSuhgo': 986,\n '7Z8TyGKOLys': 987,\n '7ZbKEf6IQAg': 988,\n '7_NwNlx2-Ts': 989,\n '7_e0CA_nhaE': 990,\n '7_oDUiTGiEI': 991,\n '7aP-W6CzzI4': 992,\n '7bh3Z78e68Q': 993,\n '7dkDxmZPWD4': 994,\n '7dpFeXV_hqs': 995,\n '7emz4zZ226E': 996,\n '7en1aQCcbMI': 997,\n '7f7dm1TI8fY': 998,\n '7gPVkQNxC_s': 999,\n ...}"
     },
     "execution_count": 32,
     "metadata": {},
     "output_type": "execute_result"
    }
   ],
   "source": [
    "video_ids"
   ],
   "metadata": {
    "collapsed": false
   }
  }
 ],
 "metadata": {
  "kernelspec": {
   "display_name": "Python 3",
   "language": "python",
   "name": "python3"
  },
  "language_info": {
   "codemirror_mode": {
    "name": "ipython",
    "version": 2
   },
   "file_extension": ".py",
   "mimetype": "text/x-python",
   "name": "python",
   "nbconvert_exporter": "python",
   "pygments_lexer": "ipython2",
   "version": "2.7.6"
  }
 },
 "nbformat": 4,
 "nbformat_minor": 0
}
