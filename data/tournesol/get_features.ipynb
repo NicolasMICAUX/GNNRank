{
 "cells": [
  {
   "cell_type": "code",
   "execution_count": 1,
   "metadata": {
    "collapsed": true
   },
   "outputs": [],
   "source": [
    "import os\n",
    "import requests\n",
    "import pandas as pd\n",
    "\n",
    "CRITERIA = [\n",
    "    \"largely_recommended\",\n",
    "    \"reliability\",\n",
    "    \"importance\",\n",
    "    \"engaging\",\n",
    "    \"pedagogy\",\n",
    "    \"layman_friendly\",\n",
    "    \"entertaining_relaxing\",\n",
    "    \"better_habits\",\n",
    "    \"diversity_inclusion\",\n",
    "    \"backfire_risk\",\n",
    "]\n",
    "\n",
    "def get_score(row, crit):\n",
    "    for item in row[\"criteria_scores\"]:\n",
    "        if item[\"criteria\"] == crit:\n",
    "            return item[\"score\"]\n",
    "\n",
    "def api_get_tournesol_scores():\n",
    "    \"\"\"Get a dataframe with all videos from tournesol..\"\"\"\n",
    "    true_scores_path = \"./true_scores.feather\"\n",
    "    if os.path.exists(true_scores_path):\n",
    "        return pd.read_feather(true_scores_path)\n",
    "    else:\n",
    "        response = requests.get(\n",
    "            f\"https://api.tournesol.app/video/?limit=9999&unsafe=true\"\n",
    "        ).json()\n",
    "        df = pd.DataFrame.from_dict(response[\"results\"])\n",
    "\n",
    "        for crit in CRITERIA:\n",
    "            df[crit] = df.apply(lambda x: get_score(x, crit), axis=1)\n",
    "\n",
    "        # keep only columns [uid, publication_date, views, language,duration,largely_recommended,reliability,importance,engaging,pedagogy,layman_friendly,entertaining_relaxing,better_habits,diversity_inclusion,backfire_risk]\n",
    "        # i.e., drop ['name', 'description', 'uploader', 'video_id', rating_n_ratings,rating_n_contributors, criteria_scores]\n",
    "\n",
    "        df = df.drop(['name', 'description', 'uploader', 'video_id', 'rating_n_ratings', 'rating_n_contributors', 'criteria_scores'], axis=1)\n",
    "\n",
    "        df.to_feather(true_scores_path)\n",
    "        return df"
   ]
  },
  {
   "cell_type": "code",
   "execution_count": 2,
   "outputs": [],
   "source": [
    "df = api_get_tournesol_scores()"
   ],
   "metadata": {
    "collapsed": false
   }
  },
  {
   "cell_type": "code",
   "execution_count": 3,
   "outputs": [
    {
     "data": {
      "text/plain": "                 uid      publication_date       views language  duration  \\\n0     yt:WPPPFqsECz0  2019-12-08T13:30:01Z  14053105.0       en     601.0   \n1     yt:XhRbt3R41hs  2022-09-21T14:35:27Z      7387.0       fr     897.0   \n2     yt:F1Hq8eVOMHs  2021-11-30T15:01:34Z   7277893.0       en     728.0   \n3     yt:CHoXZO7WFDA  2022-09-09T16:00:15Z       906.0       fr    1351.0   \n4     yt:5eW6Eagr9XA  2022-08-02T16:51:13Z   8128333.0       en    1079.0   \n...              ...                   ...         ...      ...       ...   \n9994  yt:B4_TG5jv1jY            2022-05-08   1333843.0       fr     633.0   \n9995  yt:0fGIGSgRnPg  2023-01-23T17:30:00Z     15392.0       fr     694.0   \n9996  yt:GkU5W8aznQo            2016-05-04    708564.0       fr     405.0   \n9997  yt:GzFG0Cdh8D8            2021-04-19   5533523.0       en    1273.0   \n9998  yt:FfB2KmmHPjo            2022-07-02    250108.0       en     896.0   \n\n      tournesol_score  largely_recommended  reliability  importance  \\\n0           64.530014            64.530014    37.374056   54.912836   \n1           74.126637            74.126637    60.757514   65.313911   \n2           71.893912            71.893912    47.696768   68.740991   \n3           55.163593            55.163593    25.886208   53.962325   \n4           55.190966            55.190966    45.523548   34.094963   \n...               ...                  ...          ...         ...   \n9994        -0.437447            -0.437447    -0.442897   -4.457344   \n9995        -4.902161            -4.902161   -18.096523  -12.419257   \n9996         0.000000             0.000000     0.000000    2.244094   \n9997              NaN                  NaN    -2.454155   -2.579469   \n9998        -8.755129            -8.755129          NaN         NaN   \n\n       engaging   pedagogy  layman_friendly  entertaining_relaxing  \\\n0     13.074208  53.062916        69.817297              38.526232   \n1     35.098801  50.013407        41.956847               3.505430   \n2     23.289683  61.494861        66.457654              59.826584   \n3     56.735831  21.418215        42.698395              13.843014   \n4     13.985425  51.128767        52.516581              52.306238   \n...         ...        ...              ...                    ...   \n9994  -0.438145  -0.437086         0.000000               4.771152   \n9995   6.720593   6.841779         8.453078                    NaN   \n9996  -2.298223   0.000000        -4.057497              -4.648210   \n9997  -1.641094   0.139629        -0.278198              -1.087168   \n9998        NaN        NaN              NaN                    NaN   \n\n      better_habits  diversity_inclusion  backfire_risk  \n0         71.009608            30.390545      50.018398  \n1         73.329356            52.551105       9.933947  \n2         76.613237             2.344735     -36.895233  \n3         43.827616            52.637715      38.269454  \n4         36.173648            -2.770159      44.275093  \n...             ...                  ...            ...  \n9994      -3.439854            -0.444741      -3.410529  \n9995            NaN                  NaN       4.658793  \n9996      -2.296059             0.000000       2.308180  \n9997      -0.473947             0.868065      -1.248271  \n9998            NaN                  NaN            NaN  \n\n[9999 rows x 16 columns]",
      "text/html": "<div>\n<style scoped>\n    .dataframe tbody tr th:only-of-type {\n        vertical-align: middle;\n    }\n\n    .dataframe tbody tr th {\n        vertical-align: top;\n    }\n\n    .dataframe thead th {\n        text-align: right;\n    }\n</style>\n<table border=\"1\" class=\"dataframe\">\n  <thead>\n    <tr style=\"text-align: right;\">\n      <th></th>\n      <th>uid</th>\n      <th>publication_date</th>\n      <th>views</th>\n      <th>language</th>\n      <th>duration</th>\n      <th>tournesol_score</th>\n      <th>largely_recommended</th>\n      <th>reliability</th>\n      <th>importance</th>\n      <th>engaging</th>\n      <th>pedagogy</th>\n      <th>layman_friendly</th>\n      <th>entertaining_relaxing</th>\n      <th>better_habits</th>\n      <th>diversity_inclusion</th>\n      <th>backfire_risk</th>\n    </tr>\n  </thead>\n  <tbody>\n    <tr>\n      <th>0</th>\n      <td>yt:WPPPFqsECz0</td>\n      <td>2019-12-08T13:30:01Z</td>\n      <td>14053105.0</td>\n      <td>en</td>\n      <td>601.0</td>\n      <td>64.530014</td>\n      <td>64.530014</td>\n      <td>37.374056</td>\n      <td>54.912836</td>\n      <td>13.074208</td>\n      <td>53.062916</td>\n      <td>69.817297</td>\n      <td>38.526232</td>\n      <td>71.009608</td>\n      <td>30.390545</td>\n      <td>50.018398</td>\n    </tr>\n    <tr>\n      <th>1</th>\n      <td>yt:XhRbt3R41hs</td>\n      <td>2022-09-21T14:35:27Z</td>\n      <td>7387.0</td>\n      <td>fr</td>\n      <td>897.0</td>\n      <td>74.126637</td>\n      <td>74.126637</td>\n      <td>60.757514</td>\n      <td>65.313911</td>\n      <td>35.098801</td>\n      <td>50.013407</td>\n      <td>41.956847</td>\n      <td>3.505430</td>\n      <td>73.329356</td>\n      <td>52.551105</td>\n      <td>9.933947</td>\n    </tr>\n    <tr>\n      <th>2</th>\n      <td>yt:F1Hq8eVOMHs</td>\n      <td>2021-11-30T15:01:34Z</td>\n      <td>7277893.0</td>\n      <td>en</td>\n      <td>728.0</td>\n      <td>71.893912</td>\n      <td>71.893912</td>\n      <td>47.696768</td>\n      <td>68.740991</td>\n      <td>23.289683</td>\n      <td>61.494861</td>\n      <td>66.457654</td>\n      <td>59.826584</td>\n      <td>76.613237</td>\n      <td>2.344735</td>\n      <td>-36.895233</td>\n    </tr>\n    <tr>\n      <th>3</th>\n      <td>yt:CHoXZO7WFDA</td>\n      <td>2022-09-09T16:00:15Z</td>\n      <td>906.0</td>\n      <td>fr</td>\n      <td>1351.0</td>\n      <td>55.163593</td>\n      <td>55.163593</td>\n      <td>25.886208</td>\n      <td>53.962325</td>\n      <td>56.735831</td>\n      <td>21.418215</td>\n      <td>42.698395</td>\n      <td>13.843014</td>\n      <td>43.827616</td>\n      <td>52.637715</td>\n      <td>38.269454</td>\n    </tr>\n    <tr>\n      <th>4</th>\n      <td>yt:5eW6Eagr9XA</td>\n      <td>2022-08-02T16:51:13Z</td>\n      <td>8128333.0</td>\n      <td>en</td>\n      <td>1079.0</td>\n      <td>55.190966</td>\n      <td>55.190966</td>\n      <td>45.523548</td>\n      <td>34.094963</td>\n      <td>13.985425</td>\n      <td>51.128767</td>\n      <td>52.516581</td>\n      <td>52.306238</td>\n      <td>36.173648</td>\n      <td>-2.770159</td>\n      <td>44.275093</td>\n    </tr>\n    <tr>\n      <th>...</th>\n      <td>...</td>\n      <td>...</td>\n      <td>...</td>\n      <td>...</td>\n      <td>...</td>\n      <td>...</td>\n      <td>...</td>\n      <td>...</td>\n      <td>...</td>\n      <td>...</td>\n      <td>...</td>\n      <td>...</td>\n      <td>...</td>\n      <td>...</td>\n      <td>...</td>\n      <td>...</td>\n    </tr>\n    <tr>\n      <th>9994</th>\n      <td>yt:B4_TG5jv1jY</td>\n      <td>2022-05-08</td>\n      <td>1333843.0</td>\n      <td>fr</td>\n      <td>633.0</td>\n      <td>-0.437447</td>\n      <td>-0.437447</td>\n      <td>-0.442897</td>\n      <td>-4.457344</td>\n      <td>-0.438145</td>\n      <td>-0.437086</td>\n      <td>0.000000</td>\n      <td>4.771152</td>\n      <td>-3.439854</td>\n      <td>-0.444741</td>\n      <td>-3.410529</td>\n    </tr>\n    <tr>\n      <th>9995</th>\n      <td>yt:0fGIGSgRnPg</td>\n      <td>2023-01-23T17:30:00Z</td>\n      <td>15392.0</td>\n      <td>fr</td>\n      <td>694.0</td>\n      <td>-4.902161</td>\n      <td>-4.902161</td>\n      <td>-18.096523</td>\n      <td>-12.419257</td>\n      <td>6.720593</td>\n      <td>6.841779</td>\n      <td>8.453078</td>\n      <td>NaN</td>\n      <td>NaN</td>\n      <td>NaN</td>\n      <td>4.658793</td>\n    </tr>\n    <tr>\n      <th>9996</th>\n      <td>yt:GkU5W8aznQo</td>\n      <td>2016-05-04</td>\n      <td>708564.0</td>\n      <td>fr</td>\n      <td>405.0</td>\n      <td>0.000000</td>\n      <td>0.000000</td>\n      <td>0.000000</td>\n      <td>2.244094</td>\n      <td>-2.298223</td>\n      <td>0.000000</td>\n      <td>-4.057497</td>\n      <td>-4.648210</td>\n      <td>-2.296059</td>\n      <td>0.000000</td>\n      <td>2.308180</td>\n    </tr>\n    <tr>\n      <th>9997</th>\n      <td>yt:GzFG0Cdh8D8</td>\n      <td>2021-04-19</td>\n      <td>5533523.0</td>\n      <td>en</td>\n      <td>1273.0</td>\n      <td>NaN</td>\n      <td>NaN</td>\n      <td>-2.454155</td>\n      <td>-2.579469</td>\n      <td>-1.641094</td>\n      <td>0.139629</td>\n      <td>-0.278198</td>\n      <td>-1.087168</td>\n      <td>-0.473947</td>\n      <td>0.868065</td>\n      <td>-1.248271</td>\n    </tr>\n    <tr>\n      <th>9998</th>\n      <td>yt:FfB2KmmHPjo</td>\n      <td>2022-07-02</td>\n      <td>250108.0</td>\n      <td>en</td>\n      <td>896.0</td>\n      <td>-8.755129</td>\n      <td>-8.755129</td>\n      <td>NaN</td>\n      <td>NaN</td>\n      <td>NaN</td>\n      <td>NaN</td>\n      <td>NaN</td>\n      <td>NaN</td>\n      <td>NaN</td>\n      <td>NaN</td>\n      <td>NaN</td>\n    </tr>\n  </tbody>\n</table>\n<p>9999 rows × 16 columns</p>\n</div>"
     },
     "execution_count": 3,
     "metadata": {},
     "output_type": "execute_result"
    }
   ],
   "source": [
    "df"
   ],
   "metadata": {
    "collapsed": false
   }
  },
  {
   "cell_type": "code",
   "execution_count": null,
   "outputs": [],
   "source": [
    "import numpy as np\n",
    "from youtube_dl import YoutubeDL\n",
    "from pandarallel import pandarallel\n",
    "\n",
    "metadata_path = \"./true_scores_metadata.feather\"\n",
    "if os.path.isfile(metadata_path):\n",
    "    df = pd.read_feather(metadata_path)\n",
    "else:\n",
    "    # pas la bonne librairie (trouver une librairie de multi-threading !) pcq ma tâche est IO-bound.\n",
    "    pandarallel.initialize(nb_workers=20, progress_bar=True)\n",
    "\n",
    "    def convert_yt_id_to_url(yt_id):\n",
    "        \"\"\"convert 'yt:WPPPFqsECz0' to 'https://www.youtube.com/watch?v=WPPPFqsECz0'\"\"\"\n",
    "        if yt_id.startswith(\"yt:\"):\n",
    "            return f\"https://www.youtube.com/watch?v={yt_id[3:]}\"\n",
    "        else:\n",
    "            raise ValueError(f\"{yt_id} is not a valid youtube id\")\n",
    "\n",
    "    def extract_info(uid, ydl):\n",
    "        try:\n",
    "            info_dict = ydl.extract_info(convert_yt_id_to_url(uid), download=False)\n",
    "        except:\n",
    "            print(f\"uid={uid}\")\n",
    "            return '', [], np.nan\n",
    "        return info_dict['categories'][0], info_dict['tags'], info_dict['like_count']\n",
    "\n",
    "    ydl_opts = {\n",
    "        'quiet': True,\n",
    "        'ignoreerrors': False,  # ABSURDE : POUR QUE LES ERREURS N'INTERROMPT PAS LE PROCESSUS, IL FAUT DIRE IGNORE_ERRORS = FALSE !?!?\n",
    "    }\n",
    "    with YoutubeDL(ydl_opts) as ydl:\n",
    "        idx = df['category'].isna() & df['tags'].isna() if 'category' in df.columns else ~df['uid'].isna()\n",
    "        results = df[idx].parallel_apply(lambda x: extract_info(x['uid'], ydl), axis=1)\n",
    "        df.loc[idx, ['category']] = [r[0] for r in results]\n",
    "        df.loc[idx, ['tags']] = [r[1] for r in results]\n",
    "        df.loc[idx, ['like_count']] = [r[2] for r in results]\n",
    "    df.to_feather(metadata_path)\n",
    "\n",
    "# todo : nb d'abonnés de la chaîne, nb de commentaires."
   ],
   "metadata": {
    "collapsed": false,
    "pycharm": {
     "is_executing": true
    }
   }
  },
  {
   "cell_type": "code",
   "execution_count": null,
   "outputs": [],
   "source": [
    "# convert date to nb of monthes since 1970, add noise to the date (std = 1 month)\n",
    "df['date'] = (pd.to_datetime(df['publication_date']) - pd.to_datetime('1970-01-01')) / np.timedelta64(1, 'M') + np.random.normal(0, 1, len(df))\n",
    "df['date'] = df['date'].astype(float)\n",
    "data = df.drop(columns=['publication_date'])\n",
    "\n",
    "# Add noise to duration (std = 20 seconds) to avoid the channel always doing 10:00, ...\n",
    "data['duration'] = data['duration'] + np.random.normal(0, 1, len(data)) * 20\n",
    "\n",
    "# One-hot encoding of the channel, categories and tags, language, or project on a line, or embedding\n",
    "# categorical ⇒ continuous : https://towardsdatascience.com/categorical-embeddings-with-catboost-9f87ceda76a2\n",
    "# the less frequent values are encoded as 'other'\n",
    "\n",
    "# add noise to number of views, likes, ... to avoid overfitting if multiple epochs\n",
    "# data['views'] = data['views'] + np.random.normal(0, 1, len(data)) * 1000\n",
    "# data['like_count'] = data['like_count'] + np.random.normal(0, 1, len(data)) * 50\n",
    "# compute ratios/feature engineering BEFORE adding noise"
   ],
   "metadata": {
    "collapsed": false
   }
  }
 ],
 "metadata": {
  "kernelspec": {
   "display_name": "Python 3",
   "language": "python",
   "name": "python3"
  },
  "language_info": {
   "codemirror_mode": {
    "name": "ipython",
    "version": 2
   },
   "file_extension": ".py",
   "mimetype": "text/x-python",
   "name": "python",
   "nbconvert_exporter": "python",
   "pygments_lexer": "ipython2",
   "version": "2.7.6"
  }
 },
 "nbformat": 4,
 "nbformat_minor": 0
}
