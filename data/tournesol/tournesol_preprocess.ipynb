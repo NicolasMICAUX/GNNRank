{
 "cells": [
  {
   "cell_type": "code",
   "execution_count": 5,
   "metadata": {
    "collapsed": true
   },
   "outputs": [],
   "source": [
    "import pandas as pd\n",
    "import scipy.sparse as sp\n",
    "import pickle"
   ]
  },
  {
   "cell_type": "code",
   "execution_count": 6,
   "outputs": [],
   "source": [
    "df = pd.read_feather('./comparisons.feather')\n",
    "\n",
    "# keep only columns=['video_a', 'video_b', 'criteria', 'score']\n",
    "df = df[['video_a', 'video_b', 'criteria', 'score']]"
   ],
   "metadata": {
    "collapsed": false
   }
  },
  {
   "cell_type": "code",
   "execution_count": 7,
   "outputs": [],
   "source": [
    "# first, dump as feather (less memory)\n",
    "# read csv first\n",
    "# df.to_feather('GNNRank/data/tournesol/comparisons.feather')"
   ],
   "metadata": {
    "collapsed": false
   }
  },
  {
   "cell_type": "code",
   "execution_count": 8,
   "outputs": [],
   "source": [
    "more_than = 2\n",
    "\n",
    "for criteria in df['criteria'].unique():  # for each criteria\n",
    "    # keep only rows with this criteria\n",
    "    df_criteria = df[df['criteria'] == criteria]\n",
    "    # keep only columns=['video_a', 'video_b', 'score']\n",
    "    df_criteria = df_criteria[['video_a', 'video_b', 'score']]\n",
    "\n",
    "    # make sure video_a < video_b in terms of alphabetical order\n",
    "    df_criteria['video_a'], df_criteria['video_b'] = zip(*df_criteria.apply(\n",
    "        lambda x: (x['video_a'], x['video_b']) if x['video_a'] < x['video_b'] else (x['video_b'], x['video_a']),\n",
    "        axis=1))\n",
    "\n",
    "    if more_than > 0:\n",
    "        # count how many times a video appears (in video_a or video_b)\n",
    "        video_counts = pd.concat([df_criteria['video_a'].value_counts(), df_criteria['video_b'].value_counts()]).groupby(level=0).sum()\n",
    "\n",
    "        # create a new dataframe with only the scores from videos that appear more than once\n",
    "        df_criteria = df_criteria[df_criteria.apply(lambda row: video_counts[row['video_a']] >= more_than and video_counts[row['video_b']] >= more_than, axis=1)]\n",
    "\n",
    "    # first, create a list of all videos\n",
    "    videos = set(df_criteria['video_a'].unique()).union(set(df_criteria['video_b'].unique()))\n",
    "    videos = sorted(videos)\n",
    "    videos = {video: i for i, video in enumerate(videos)}\n",
    "    # save dictionnary using pickle\n",
    "    with open(f'./video_ids_{criteria}_{more_than}.pickle', 'wb') as handle:\n",
    "        pickle.dump(videos, handle, protocol=pickle.HIGHEST_PROTOCOL)\n",
    "\n",
    "    df_criteria['is_positive'] = df_criteria['score'] > 0\n",
    "    df_criteria = df_criteria.groupby(['video_a', 'video_b'])\n",
    "\n",
    "    # adj matrix should be symmetric\n",
    "    mean_scores = df_criteria.mean()['score'].reset_index()\n",
    "    # count how many positive score\n",
    "    count_scores = df_criteria.sum()['is_positive'].reset_index()\n",
    "\n",
    "    for agg_method, scores in zip(['mean', 'count'], [mean_scores, count_scores]):\n",
    "        # create an empty adjacency matrix (sparse)\n",
    "        adj = sp.lil_matrix((len(videos), len(videos)))\n",
    "        for (video_a, video_b, score) in scores.values:\n",
    "            # get index of video_a and video_b\n",
    "            video_a_idx = videos[video_a]\n",
    "            video_b_idx = videos[video_b]\n",
    "            # set the value of the adjacency matrix\n",
    "            adj[video_a_idx, video_b_idx] = score\n",
    "            adj[video_b_idx, video_a_idx] = -score\n",
    "\n",
    "        # save adjacency matrix as a sparse matrix\n",
    "        adj = adj.tocsr()\n",
    "        sp.save_npz(f'./adj_{criteria}_{agg_method}_mt{more_than}.npz', adj)"
   ],
   "metadata": {
    "collapsed": false
   }
  },
  {
   "cell_type": "code",
   "execution_count": 9,
   "outputs": [],
   "source": [
    "# df_criteria[(df_criteria['video_a'] == '-3Dn7coSFQc') & (df_criteria['video_b'] == 'KyeJTbFCSv0')]"
   ],
   "metadata": {
    "collapsed": false
   }
  }
 ],
 "metadata": {
  "kernelspec": {
   "display_name": "Python 3",
   "language": "python",
   "name": "python3"
  },
  "language_info": {
   "codemirror_mode": {
    "name": "ipython",
    "version": 2
   },
   "file_extension": ".py",
   "mimetype": "text/x-python",
   "name": "python",
   "nbconvert_exporter": "python",
   "pygments_lexer": "ipython2",
   "version": "2.7.6"
  }
 },
 "nbformat": 4,
 "nbformat_minor": 0
}
