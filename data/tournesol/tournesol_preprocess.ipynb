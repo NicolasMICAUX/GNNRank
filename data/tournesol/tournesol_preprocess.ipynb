{
 "cells": [
  {
   "cell_type": "code",
   "execution_count": 10,
   "metadata": {
    "collapsed": true
   },
   "outputs": [],
   "source": [
    "import pandas as pd\n",
    "import scipy.sparse as sp"
   ]
  },
  {
   "cell_type": "code",
   "execution_count": 17,
   "outputs": [],
   "source": [
    "df = pd.read_csv('GNNRank/data/tournesol/comparisons.csv')\n",
    "\n",
    "# keep only columns=['video_a', 'video_b', 'criteria', 'score']\n",
    "df = df[['video_a', 'video_b', 'criteria', 'score']]"
   ],
   "metadata": {
    "collapsed": false
   }
  },
  {
   "cell_type": "code",
   "execution_count": 12,
   "outputs": [],
   "source": [
    "# first, dump as feather (less memory)\n",
    "# df.to_feather('GNNRank/data/tournesol/comparisons.feather')"
   ],
   "metadata": {
    "collapsed": false
   }
  },
  {
   "cell_type": "code",
   "execution_count": 22,
   "outputs": [],
   "source": [
    "more_than = 2\n",
    "\n",
    "for criteria in df['criteria'].unique():  # for each criteria\n",
    "    # keep only rows with this criteria\n",
    "    df_criteria = df[df['criteria'] == criteria]\n",
    "    # keep only columns=['video_a', 'video_b', 'score']\n",
    "    df_criteria = df_criteria[['video_a', 'video_b', 'score']]\n",
    "\n",
    "    # make sure video_a < video_b in terms of alphabetical order\n",
    "    df_criteria['video_a'], df_criteria['video_b'] = zip(*df_criteria.apply(\n",
    "        lambda x: (x['video_a'], x['video_b']) if x['video_a'] < x['video_b'] else (x['video_b'], x['video_a']),\n",
    "        axis=1))\n",
    "\n",
    "    if more_than > 0:\n",
    "        # count how many times a video appears (in video_a or video_b)\n",
    "        video_counts = pd.concat([df_criteria['video_a'].value_counts(), df_criteria['video_b'].value_counts()]).groupby(level=0).sum()\n",
    "\n",
    "        # create a new dataframe with only the scores from videos that appear more than once\n",
    "        df_criteria = df_criteria[df_criteria.apply(lambda row: video_counts[row['video_a']] >= more_than and video_counts[row['video_b']] >= more_than, axis=1)]\n",
    "\n",
    "    # first, create a list of all videos\n",
    "    videos = set(df_criteria['video_a'].unique()).union(set(df_criteria['video_b'].unique()))\n",
    "    videos = sorted(videos)\n",
    "    videos = {video: i for i, video in enumerate(videos)}\n",
    "\n",
    "    df_criteria['is_positive'] = df_criteria['score'] > 0\n",
    "    df_criteria = df_criteria.groupby(['video_a', 'video_b'])\n",
    "\n",
    "    # adj matrix should be symmetric\n",
    "    mean_scores = df_criteria.mean()['score'].reset_index()\n",
    "    # count how many positive score\n",
    "    count_scores = df_criteria.sum()['is_positive'].reset_index()\n",
    "\n",
    "    for agg_method, scores in zip(['mean', 'count'], [mean_scores, count_scores]):\n",
    "        # create an empty adjacency matrix (sparse)\n",
    "        adj = sp.lil_matrix((len(videos), len(videos)))\n",
    "        for (video_a, video_b, score) in scores.values:\n",
    "            # get index of video_a and video_b\n",
    "            video_a_idx = videos[video_a]\n",
    "            video_b_idx = videos[video_b]\n",
    "            # set the value of the adjacency matrix\n",
    "            adj[video_a_idx, video_b_idx] = score\n",
    "            adj[video_b_idx, video_a_idx] = -score\n",
    "\n",
    "        # save adjacency matrix as a sparse matrix\n",
    "        adj = adj.tocsr()\n",
    "        sp.save_npz(f'GNNRank/data/tournesol/adj_{criteria}_{agg_method}_mt{more_than}.npz', adj)"
   ],
   "metadata": {
    "collapsed": false
   }
  },
  {
   "cell_type": "code",
   "execution_count": 18,
   "outputs": [
    {
     "data": {
      "text/plain": "            video_a      video_b  score\n131867  -3Dn7coSFQc  KyeJTbFCSv0      0\n183978  -3Dn7coSFQc  KyeJTbFCSv0      4\n362588  -3Dn7coSFQc  KyeJTbFCSv0      3",
      "text/html": "<div>\n<style scoped>\n    .dataframe tbody tr th:only-of-type {\n        vertical-align: middle;\n    }\n\n    .dataframe tbody tr th {\n        vertical-align: top;\n    }\n\n    .dataframe thead th {\n        text-align: right;\n    }\n</style>\n<table border=\"1\" class=\"dataframe\">\n  <thead>\n    <tr style=\"text-align: right;\">\n      <th></th>\n      <th>video_a</th>\n      <th>video_b</th>\n      <th>score</th>\n    </tr>\n  </thead>\n  <tbody>\n    <tr>\n      <th>131867</th>\n      <td>-3Dn7coSFQc</td>\n      <td>KyeJTbFCSv0</td>\n      <td>0</td>\n    </tr>\n    <tr>\n      <th>183978</th>\n      <td>-3Dn7coSFQc</td>\n      <td>KyeJTbFCSv0</td>\n      <td>4</td>\n    </tr>\n    <tr>\n      <th>362588</th>\n      <td>-3Dn7coSFQc</td>\n      <td>KyeJTbFCSv0</td>\n      <td>3</td>\n    </tr>\n  </tbody>\n</table>\n</div>"
     },
     "execution_count": 18,
     "metadata": {},
     "output_type": "execute_result"
    }
   ],
   "source": [
    "# df_criteria[(df_criteria['video_a'] == '-3Dn7coSFQc') & (df_criteria['video_b'] == 'KyeJTbFCSv0')]"
   ],
   "metadata": {
    "collapsed": false
   }
  }
 ],
 "metadata": {
  "kernelspec": {
   "display_name": "Python 3",
   "language": "python",
   "name": "python3"
  },
  "language_info": {
   "codemirror_mode": {
    "name": "ipython",
    "version": 2
   },
   "file_extension": ".py",
   "mimetype": "text/x-python",
   "name": "python",
   "nbconvert_exporter": "python",
   "pygments_lexer": "ipython2",
   "version": "2.7.6"
  }
 },
 "nbformat": 4,
 "nbformat_minor": 0
}
