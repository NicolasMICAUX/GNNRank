{
 "cells": [
  {
   "cell_type": "code",
   "execution_count": 2,
   "id": "ongoing-politics",
   "metadata": {},
   "outputs": [],
   "source": [
    "import numpy as np\n",
    "import scipy.sparse as sp\n",
    "import matplotlib.pyplot as plt\n",
    "import scipy.sparse.linalg\n",
    "import sklearn.cluster as sl\n",
    "import torch\n",
    "import matplotlib.pyplot as plt"
   ]
  },
  {
   "cell_type": "code",
   "execution_count": 3,
   "id": "available-genesis",
   "metadata": {},
   "outputs": [],
   "source": [
    "def sqrtinvdiag(M):\n",
    "    \"\"\"Inverts and square-roots a positive diagonal matrix.\n",
    "    Args:\n",
    "        M (csc matrix): matrix to invert\n",
    "    Returns:\n",
    "        scipy sparse matrix of inverted square-root of diagonal\n",
    "    \"\"\"\n",
    "\n",
    "    d = M.diagonal()\n",
    "    dd = [1 / max(np.sqrt(x), 1 / 999999999) for x in d]\n",
    "\n",
    "    return sp.dia_matrix((dd, [0]), shape=(len(d), len(d))).tocsc()"
   ]
  },
  {
   "cell_type": "code",
   "execution_count": 4,
   "id": "central-conservation",
   "metadata": {},
   "outputs": [
    {
     "data": {
      "text/plain": [
       "<1315x1315 sparse matrix of type '<class 'numpy.float64'>'\n",
       "\twith 1729225 stored elements in Compressed Sparse Row format>"
      ]
     },
     "execution_count": 4,
     "metadata": {},
     "output_type": "execute_result"
    }
   ],
   "source": [
    "adj = sp.load_npz('./adj.npz')\n",
    "adj"
   ]
  },
  {
   "cell_type": "code",
   "execution_count": 5,
   "id": "ordinary-attack",
   "metadata": {},
   "outputs": [
    {
     "name": "stdout",
     "output_type": "stream",
     "text": [
      "[ 3  0  1  5  7 11 15  4  9  6 14 20  8 12 13 19  2 23 22 18 27 39 17 16\n",
      " 10 45 37 31 32 28 34 41 24 29 58 26 30 56 53 79 25 69 35 61 21 52 71 89\n",
      " 70 47 38 48 92 62 50 49 87 42 81 75 80 67 51 55 64 97 95 77 66 40 74 63\n",
      " 94 93 33 88 98 68 96 83 43 72 82 57 60 46 76 84 73 36 91 59 44 65 85 90\n",
      " 54 86 78]\n",
      "[5.87816828e-02 5.06118684e-02 1.77900751e-03 6.64620519e-02\n",
      " 7.22495203e-03 2.31450895e-02 3.85134024e-03 1.47235379e-02\n",
      " 2.55381124e-03 6.25398048e-03 1.10066893e-03 1.06894705e-02\n",
      " 2.37177758e-03 2.16411313e-03 3.47862757e-03 7.44664666e-03\n",
      " 1.10191816e-03 1.26551470e-03 1.55587277e-03 1.94785578e-03\n",
      " 3.01493737e-03 4.04056948e-04 1.55969760e-03 1.62064613e-03\n",
      " 7.27380674e-04 4.98877270e-04 5.93025878e-04 1.45184793e-03\n",
      " 7.98754942e-04 6.82438945e-04 5.48058914e-04 9.08347106e-04\n",
      " 8.20353355e-04 1.57086694e-04 7.74994803e-04 4.49083540e-04\n",
      " 8.45828660e-05 9.79430487e-04 3.31634339e-04 1.39748877e-03\n",
      " 1.90138874e-04 7.62308779e-04 2.70787248e-04 1.43097795e-04\n",
      " 7.36156222e-05 9.84743497e-04 9.47481165e-05 3.32582353e-04\n",
      " 3.15105234e-04 2.78004438e-04 2.83782174e-04 2.45026704e-04\n",
      " 3.91170860e-04 5.26887741e-04 5.47360725e-05 2.44128028e-04\n",
      " 5.36440382e-04 1.19257546e-04 6.12043303e-04 7.49763099e-05\n",
      " 1.15359464e-04 4.05566542e-04 2.84465480e-04 1.88308070e-04\n",
      " 2.29352592e-04 7.18269849e-05 1.92217682e-04 2.50687139e-04\n",
      " 1.49008091e-04 4.64631540e-04 3.50739799e-04 3.91004151e-04\n",
      " 1.30656272e-04 8.52424657e-05 1.88733013e-04 2.58396643e-04\n",
      " 9.18698428e-05 1.98795911e-04 2.97141404e-05 5.14203909e-04\n",
      " 2.53278573e-04 2.62485023e-04 1.22482093e-04 1.43482265e-04\n",
      " 9.13379257e-05 6.49087480e-05 4.81089738e-05 2.75662041e-04\n",
      " 1.50275009e-04 3.60378771e-04 5.69698354e-05 7.90938172e-05\n",
      " 2.95340435e-04 1.65694144e-04 1.72368432e-04 2.13829002e-04\n",
      " 1.45799265e-04 2.16868288e-04 1.49645773e-04]\n"
     ]
    },
    {
     "data": {
      "image/png": "[encoded data removed]",
      "text/plain": [
       "<Figure size 432x288 with 1 Axes>"
      ]
     },
     "metadata": {
      "needs_background": "light"
     },
     "output_type": "display_data"
    }
   ],
   "source": [
    "A = adj.tocsc()\n",
    "D_out = sp.diags(A.transpose().sum(\n",
    "    axis=0).tolist(), [0]).tocsc()\n",
    "D_in = sp.diags(A.sum(axis=0).tolist(), [0]).tocsc()\n",
    "Dbar = (D_in + D_out)\n",
    "d = sqrtinvdiag(Dbar)\n",
    "normA = d * A * d\n",
    "size = A.shape[0]\n",
    "H = (A-A.transpose()) * 1j\n",
    "H_abs = np.abs(H)\n",
    "D_abs_inv = sp.diags(1/np.array(H_abs.sum(1))[:, 0])\n",
    "D_abs_inv.data[np.isinf(D_abs_inv.data)] = 0.0\n",
    "H_rw = D_abs_inv.dot(H)\n",
    "_, s, _ = sp.linalg.svds(H_rw, 100)\n",
    "eigens = s[list(np.arange(99,-1,-1))]\n",
    "eigengaps = eigens[:-1] - eigens[1:]\n",
    "print(np.argsort(-eigengaps))\n",
    "print(eigengaps)\n",
    "plt.plot(eigens)\n",
    "plt.show()\n",
    "# choose K = 20"
   ]
  },
  {
   "cell_type": "code",
   "execution_count": 9,
   "id": "sudden-venezuela",
   "metadata": {},
   "outputs": [
    {
     "data": {
      "image/png": "[encoded data removed]",
      "text/plain": [
       "<Figure size 288x288 with 1 Axes>"
      ]
     },
     "metadata": {
      "needs_background": "light"
     },
     "output_type": "display_data"
    },
    {
     "data": {
      "text/plain": [
       "5"
      ]
     },
     "execution_count": 9,
     "metadata": {},
     "output_type": "execute_result"
    }
   ],
   "source": [
    "num_clusters = 20\n",
    "u, s, vt = sp.linalg.svds(H_rw, num_clusters)\n",
    "features_SVD = np.concatenate((np.real(u), np.imag(u)), axis=1)\n",
    "labels = sl.KMeans(n_clusters=num_clusters).fit_predict(features_SVD)\n",
    "# A = torch.FloatTensor(A.toarray())\n",
    "P = torch.zeros(labels.shape[0], num_clusters).to(A.device)\n",
    "for k in range(num_clusters):\n",
    "    P[labels == k, k] = 1\n",
    "flow_mat = np.ones([num_clusters, num_clusters])*0.5\n",
    "for k in range(num_clusters-1):\n",
    "    for l in range(k+1, num_clusters):\n",
    "        w_kl = torch.matmul(P[:, k], torch.matmul(A, P[:, l])).item()\n",
    "        w_lk = torch.matmul(P[:, l], torch.matmul(A, P[:, k])).item()\n",
    "        if (w_kl + w_lk) > 0:\n",
    "            flow_mat[k, l] = w_kl/(w_kl + w_lk)\n",
    "            flow_mat[l, k] = w_lk/(w_kl + w_lk)\n",
    "plt.matshow(flow_mat)\n",
    "plt.show()\n",
    "np.sum(flow_mat>0.7)"
   ]
  },
  {
   "cell_type": "code",
   "execution_count": null,
   "id": "final-numbers",
   "metadata": {},
   "outputs": [],
   "source": []
  }
 ],
 "metadata": {
  "kernelspec": {
   "display_name": "Python 3",
   "language": "python",
   "name": "python3"
  },
  "language_info": {
   "codemirror_mode": {
    "name": "ipython",
    "version": 3
   },
   "file_extension": ".py",
   "mimetype": "text/x-python",
   "name": "python",
   "nbconvert_exporter": "python",
   "pygments_lexer": "ipython3",
   "version": "3.6.13"
  }
 },
 "nbformat": 4,
 "nbformat_minor": 5
}
