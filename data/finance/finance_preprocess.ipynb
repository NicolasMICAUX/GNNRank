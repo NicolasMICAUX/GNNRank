{
 "cells": [
  {
   "cell_type": "code",
   "execution_count": 1,
   "id": "floppy-emission",
   "metadata": {},
   "outputs": [],
   "source": [
    "import pandas as pd\n",
    "import numpy as np\n",
    "import networkx as nx\n",
    "import scipy.sparse as sp\n",
    "from stellargraph import StellarDiGraph"
   ]
  },
  {
   "cell_type": "code",
   "execution_count": 2,
   "id": "everyday-hypothetical",
   "metadata": {},
   "outputs": [],
   "source": [
    "data = pd.read_csv('./finance')"
   ]
  },
  {
   "cell_type": "code",
   "execution_count": 3,
   "id": "complicated-marsh",
   "metadata": {},
   "outputs": [
    {
     "data": {
      "text/html": [
       "<div>\n",
       "<style scoped>\n",
       "    .dataframe tbody tr th:only-of-type {\n",
       "        vertical-align: middle;\n",
       "    }\n",
       "\n",
       "    .dataframe tbody tr th {\n",
       "        vertical-align: top;\n",
       "    }\n",
       "\n",
       "    .dataframe thead th {\n",
       "        text-align: right;\n",
       "    }\n",
       "</style>\n",
       "<table border=\"1\" class=\"dataframe\">\n",
       "  <thead>\n",
       "    <tr style=\"text-align: right;\">\n",
       "      <th></th>\n",
       "      <th>Unnamed: 0</th>\n",
       "      <th>LHS</th>\n",
       "      <th>RHS</th>\n",
       "      <th>alpha</th>\n",
       "      <th>beta</th>\n",
       "      <th>beta.se</th>\n",
       "      <th>beta.tv</th>\n",
       "      <th>beta.pv</th>\n",
       "      <th>sig</th>\n",
       "      <th>R2</th>\n",
       "      <th>F.fv</th>\n",
       "      <th>F.pv</th>\n",
       "    </tr>\n",
       "  </thead>\n",
       "  <tbody>\n",
       "    <tr>\n",
       "      <th>0</th>\n",
       "      <td>1</td>\n",
       "      <td>SPY</td>\n",
       "      <td>SPY</td>\n",
       "      <td>0.000283</td>\n",
       "      <td>0.000068</td>\n",
       "      <td>0.031671</td>\n",
       "      <td>0.002162</td>\n",
       "      <td>0.998276</td>\n",
       "      <td>0.008583</td>\n",
       "      <td>4.687225e-09</td>\n",
       "      <td>0.000005</td>\n",
       "      <td>0.998276</td>\n",
       "    </tr>\n",
       "    <tr>\n",
       "      <th>1</th>\n",
       "      <td>2</td>\n",
       "      <td>IWM</td>\n",
       "      <td>SPY</td>\n",
       "      <td>0.000181</td>\n",
       "      <td>0.025545</td>\n",
       "      <td>0.037986</td>\n",
       "      <td>0.672491</td>\n",
       "      <td>0.501427</td>\n",
       "      <td>0.010295</td>\n",
       "      <td>4.533995e-04</td>\n",
       "      <td>0.452244</td>\n",
       "      <td>0.501427</td>\n",
       "    </tr>\n",
       "    <tr>\n",
       "      <th>2</th>\n",
       "      <td>3</td>\n",
       "      <td>EEM</td>\n",
       "      <td>SPY</td>\n",
       "      <td>0.000107</td>\n",
       "      <td>-0.072623</td>\n",
       "      <td>0.045579</td>\n",
       "      <td>-1.593354</td>\n",
       "      <td>0.111398</td>\n",
       "      <td>0.012353</td>\n",
       "      <td>2.539949e-03</td>\n",
       "      <td>2.538778</td>\n",
       "      <td>0.111398</td>\n",
       "    </tr>\n",
       "    <tr>\n",
       "      <th>3</th>\n",
       "      <td>4</td>\n",
       "      <td>TLT</td>\n",
       "      <td>SPY</td>\n",
       "      <td>0.000003</td>\n",
       "      <td>0.070517</td>\n",
       "      <td>0.028030</td>\n",
       "      <td>2.515801</td>\n",
       "      <td>0.012032</td>\n",
       "      <td>0.007597</td>\n",
       "      <td>6.308252e-03</td>\n",
       "      <td>6.329253</td>\n",
       "      <td>0.012032</td>\n",
       "    </tr>\n",
       "    <tr>\n",
       "      <th>4</th>\n",
       "      <td>5</td>\n",
       "      <td>USO</td>\n",
       "      <td>SPY</td>\n",
       "      <td>-0.000601</td>\n",
       "      <td>-0.058770</td>\n",
       "      <td>0.082619</td>\n",
       "      <td>-0.711340</td>\n",
       "      <td>0.477040</td>\n",
       "      <td>0.022391</td>\n",
       "      <td>5.072698e-04</td>\n",
       "      <td>0.506005</td>\n",
       "      <td>0.477040</td>\n",
       "    </tr>\n",
       "    <tr>\n",
       "      <th>...</th>\n",
       "      <td>...</td>\n",
       "      <td>...</td>\n",
       "      <td>...</td>\n",
       "      <td>...</td>\n",
       "      <td>...</td>\n",
       "      <td>...</td>\n",
       "      <td>...</td>\n",
       "      <td>...</td>\n",
       "      <td>...</td>\n",
       "      <td>...</td>\n",
       "      <td>...</td>\n",
       "      <td>...</td>\n",
       "    </tr>\n",
       "    <tr>\n",
       "      <th>2155019</th>\n",
       "      <td>2155020</td>\n",
       "      <td>ZBRA</td>\n",
       "      <td>ZTS</td>\n",
       "      <td>0.000666</td>\n",
       "      <td>0.010023</td>\n",
       "      <td>0.053994</td>\n",
       "      <td>0.185630</td>\n",
       "      <td>0.852772</td>\n",
       "      <td>0.024869</td>\n",
       "      <td>3.456110e-05</td>\n",
       "      <td>0.034459</td>\n",
       "      <td>0.852772</td>\n",
       "    </tr>\n",
       "    <tr>\n",
       "      <th>2155020</th>\n",
       "      <td>2155021</td>\n",
       "      <td>ZEUS</td>\n",
       "      <td>ZTS</td>\n",
       "      <td>-0.000031</td>\n",
       "      <td>-0.036226</td>\n",
       "      <td>0.079997</td>\n",
       "      <td>-0.452844</td>\n",
       "      <td>0.650760</td>\n",
       "      <td>0.036845</td>\n",
       "      <td>2.056423e-04</td>\n",
       "      <td>0.205067</td>\n",
       "      <td>0.650760</td>\n",
       "    </tr>\n",
       "    <tr>\n",
       "      <th>2155021</th>\n",
       "      <td>2155022</td>\n",
       "      <td>ZION</td>\n",
       "      <td>ZTS</td>\n",
       "      <td>0.000489</td>\n",
       "      <td>0.008854</td>\n",
       "      <td>0.037528</td>\n",
       "      <td>0.235938</td>\n",
       "      <td>0.813529</td>\n",
       "      <td>0.017285</td>\n",
       "      <td>5.583113e-05</td>\n",
       "      <td>0.055667</td>\n",
       "      <td>0.813529</td>\n",
       "    </tr>\n",
       "    <tr>\n",
       "      <th>2155022</th>\n",
       "      <td>2155023</td>\n",
       "      <td>ZIXI</td>\n",
       "      <td>ZTS</td>\n",
       "      <td>0.000488</td>\n",
       "      <td>0.012105</td>\n",
       "      <td>0.050074</td>\n",
       "      <td>0.241739</td>\n",
       "      <td>0.809032</td>\n",
       "      <td>0.023063</td>\n",
       "      <td>5.860999e-05</td>\n",
       "      <td>0.058438</td>\n",
       "      <td>0.809032</td>\n",
       "    </tr>\n",
       "    <tr>\n",
       "      <th>2155023</th>\n",
       "      <td>2155024</td>\n",
       "      <td>ZTS</td>\n",
       "      <td>ZTS</td>\n",
       "      <td>0.000752</td>\n",
       "      <td>-0.091236</td>\n",
       "      <td>0.031548</td>\n",
       "      <td>-2.891938</td>\n",
       "      <td>0.003912</td>\n",
       "      <td>0.014531</td>\n",
       "      <td>8.318691e-03</td>\n",
       "      <td>8.363307</td>\n",
       "      <td>0.003912</td>\n",
       "    </tr>\n",
       "  </tbody>\n",
       "</table>\n",
       "<p>2155024 rows × 12 columns</p>\n",
       "</div>"
      ],
      "text/plain": [
       "         Unnamed: 0   LHS  RHS     alpha      beta   beta.se   beta.tv  \\\n",
       "0                 1   SPY  SPY  0.000283  0.000068  0.031671  0.002162   \n",
       "1                 2   IWM  SPY  0.000181  0.025545  0.037986  0.672491   \n",
       "2                 3   EEM  SPY  0.000107 -0.072623  0.045579 -1.593354   \n",
       "3                 4   TLT  SPY  0.000003  0.070517  0.028030  2.515801   \n",
       "4                 5   USO  SPY -0.000601 -0.058770  0.082619 -0.711340   \n",
       "...             ...   ...  ...       ...       ...       ...       ...   \n",
       "2155019     2155020  ZBRA  ZTS  0.000666  0.010023  0.053994  0.185630   \n",
       "2155020     2155021  ZEUS  ZTS -0.000031 -0.036226  0.079997 -0.452844   \n",
       "2155021     2155022  ZION  ZTS  0.000489  0.008854  0.037528  0.235938   \n",
       "2155022     2155023  ZIXI  ZTS  0.000488  0.012105  0.050074  0.241739   \n",
       "2155023     2155024   ZTS  ZTS  0.000752 -0.091236  0.031548 -2.891938   \n",
       "\n",
       "          beta.pv       sig            R2      F.fv      F.pv  \n",
       "0        0.998276  0.008583  4.687225e-09  0.000005  0.998276  \n",
       "1        0.501427  0.010295  4.533995e-04  0.452244  0.501427  \n",
       "2        0.111398  0.012353  2.539949e-03  2.538778  0.111398  \n",
       "3        0.012032  0.007597  6.308252e-03  6.329253  0.012032  \n",
       "4        0.477040  0.022391  5.072698e-04  0.506005  0.477040  \n",
       "...           ...       ...           ...       ...       ...  \n",
       "2155019  0.852772  0.024869  3.456110e-05  0.034459  0.852772  \n",
       "2155020  0.650760  0.036845  2.056423e-04  0.205067  0.650760  \n",
       "2155021  0.813529  0.017285  5.583113e-05  0.055667  0.813529  \n",
       "2155022  0.809032  0.023063  5.860999e-05  0.058438  0.809032  \n",
       "2155023  0.003912  0.014531  8.318691e-03  8.363307  0.003912  \n",
       "\n",
       "[2155024 rows x 12 columns]"
      ]
     },
     "execution_count": 3,
     "metadata": {},
     "output_type": "execute_result"
    }
   ],
   "source": [
    "data"
   ]
  },
  {
   "cell_type": "code",
   "execution_count": 4,
   "id": "radical-walter",
   "metadata": {},
   "outputs": [],
   "source": [
    "data = data.dropna(subset=['beta.tv'])"
   ]
  },
  {
   "cell_type": "code",
   "execution_count": 5,
   "id": "purple-garlic",
   "metadata": {},
   "outputs": [
    {
     "name": "stderr",
     "output_type": "stream",
     "text": [
      "/data/localhost/yhe/miniconda3/envs/pytorch/lib/python3.6/site-packages/ipykernel_launcher.py:1: SettingWithCopyWarning: \n",
      "A value is trying to be set on a copy of a slice from a DataFrame.\n",
      "Try using .loc[row_indexer,col_indexer] = value instead\n",
      "\n",
      "See the caveats in the documentation: https://pandas.pydata.org/pandas-docs/stable/user_guide/indexing.html#returning-a-view-versus-a-copy\n",
      "  \"\"\"Entry point for launching an IPython kernel.\n"
     ]
    }
   ],
   "source": [
    "data['beta.tv'] = np.abs(data['beta.tv'])"
   ]
  },
  {
   "cell_type": "code",
   "execution_count": 6,
   "id": "floppy-classroom",
   "metadata": {},
   "outputs": [],
   "source": [
    "data[['LHS', 'RHS', 'beta.tv']].to_csv('./finance_data.csv')"
   ]
  },
  {
   "cell_type": "code",
   "execution_count": 7,
   "id": "southeast-handbook",
   "metadata": {},
   "outputs": [],
   "source": [
    "np.save('./finance_data.npy',data[['LHS', 'RHS', 'beta.tv']].values)"
   ]
  },
  {
   "cell_type": "code",
   "execution_count": 8,
   "id": "neutral-investing",
   "metadata": {},
   "outputs": [],
   "source": [
    "df = data[['LHS', 'RHS', 'beta.tv']]"
   ]
  },
  {
   "cell_type": "code",
   "execution_count": 9,
   "id": "younger-composer",
   "metadata": {},
   "outputs": [],
   "source": [
    "df.columns = ['source', 'target', 'weight']"
   ]
  },
  {
   "cell_type": "code",
   "execution_count": 10,
   "id": "lesser-genealogy",
   "metadata": {},
   "outputs": [],
   "source": [
    "graph = StellarDiGraph(edges=df)"
   ]
  },
  {
   "cell_type": "code",
   "execution_count": 11,
   "id": "specific-stock",
   "metadata": {},
   "outputs": [
    {
     "name": "stdout",
     "output_type": "stream",
     "text": [
      "StellarDiGraph: Directed multigraph\n",
      " Nodes: 1315, Edges: 1729225\n",
      "\n",
      " Node types:\n",
      "  default: [1315]\n",
      "    Features: none\n",
      "    Edge types: default-default->default\n",
      "\n",
      " Edge types:\n",
      "    default-default->default: [1729225]\n",
      "        Weights: range=[1.01553e-06, 19.947], mean=0.866805, std=0.670048\n",
      "        Features: none\n"
     ]
    }
   ],
   "source": [
    "print(graph.info())"
   ]
  },
  {
   "cell_type": "code",
   "execution_count": 12,
   "id": "swedish-relaxation",
   "metadata": {},
   "outputs": [],
   "source": [
    "adj = graph.to_adjacency_matrix(weighted=True)"
   ]
  },
  {
   "cell_type": "code",
   "execution_count": 13,
   "id": "streaming-hampton",
   "metadata": {},
   "outputs": [
    {
     "data": {
      "text/plain": [
       "<1315x1315 sparse matrix of type '<class 'numpy.float64'>'\n",
       "\twith 1729225 stored elements in Compressed Sparse Row format>"
      ]
     },
     "execution_count": 13,
     "metadata": {},
     "output_type": "execute_result"
    }
   ],
   "source": [
    "adj"
   ]
  },
  {
   "cell_type": "code",
   "execution_count": 14,
   "id": "caring-beads",
   "metadata": {},
   "outputs": [],
   "source": [
    "sp.save_npz('./adj', adj)"
   ]
  },
  {
   "cell_type": "code",
   "execution_count": 15,
   "id": "charming-relevance",
   "metadata": {},
   "outputs": [
    {
     "data": {
      "text/plain": [
       "<1315x1315 sparse matrix of type '<class 'numpy.float64'>'\n",
       "\twith 1727910 stored elements in Compressed Sparse Row format>"
      ]
     },
     "execution_count": 15,
     "metadata": {},
     "output_type": "execute_result"
    }
   ],
   "source": [
    "adj-adj.transpose()"
   ]
  },
  {
   "cell_type": "code",
   "execution_count": 16,
   "id": "embedded-relationship",
   "metadata": {},
   "outputs": [
    {
     "data": {
      "text/plain": [
       "19.947014282563103"
      ]
     },
     "execution_count": 16,
     "metadata": {},
     "output_type": "execute_result"
    }
   ],
   "source": [
    "adj.max()"
   ]
  },
  {
   "cell_type": "code",
   "execution_count": 17,
   "id": "desperate-animation",
   "metadata": {},
   "outputs": [
    {
     "data": {
      "text/plain": [
       "1.01553424675965e-06"
      ]
     },
     "execution_count": 17,
     "metadata": {},
     "output_type": "execute_result"
    }
   ],
   "source": [
    "adj.min()"
   ]
  },
  {
   "cell_type": "code",
   "execution_count": 18,
   "id": "female-conservative",
   "metadata": {},
   "outputs": [
    {
     "data": {
      "text/html": [
       "<div>\n",
       "<style scoped>\n",
       "    .dataframe tbody tr th:only-of-type {\n",
       "        vertical-align: middle;\n",
       "    }\n",
       "\n",
       "    .dataframe tbody tr th {\n",
       "        vertical-align: top;\n",
       "    }\n",
       "\n",
       "    .dataframe thead th {\n",
       "        text-align: right;\n",
       "    }\n",
       "</style>\n",
       "<table border=\"1\" class=\"dataframe\">\n",
       "  <thead>\n",
       "    <tr style=\"text-align: right;\">\n",
       "      <th></th>\n",
       "      <th>source</th>\n",
       "      <th>target</th>\n",
       "      <th>weight</th>\n",
       "    </tr>\n",
       "  </thead>\n",
       "  <tbody>\n",
       "    <tr>\n",
       "      <th>0</th>\n",
       "      <td>SPY</td>\n",
       "      <td>SPY</td>\n",
       "      <td>0.002162</td>\n",
       "    </tr>\n",
       "    <tr>\n",
       "      <th>1</th>\n",
       "      <td>IWM</td>\n",
       "      <td>SPY</td>\n",
       "      <td>0.672491</td>\n",
       "    </tr>\n",
       "    <tr>\n",
       "      <th>2</th>\n",
       "      <td>EEM</td>\n",
       "      <td>SPY</td>\n",
       "      <td>1.593354</td>\n",
       "    </tr>\n",
       "    <tr>\n",
       "      <th>3</th>\n",
       "      <td>TLT</td>\n",
       "      <td>SPY</td>\n",
       "      <td>2.515801</td>\n",
       "    </tr>\n",
       "    <tr>\n",
       "      <th>4</th>\n",
       "      <td>USO</td>\n",
       "      <td>SPY</td>\n",
       "      <td>0.711340</td>\n",
       "    </tr>\n",
       "    <tr>\n",
       "      <th>...</th>\n",
       "      <td>...</td>\n",
       "      <td>...</td>\n",
       "      <td>...</td>\n",
       "    </tr>\n",
       "    <tr>\n",
       "      <th>2155019</th>\n",
       "      <td>ZBRA</td>\n",
       "      <td>ZTS</td>\n",
       "      <td>0.185630</td>\n",
       "    </tr>\n",
       "    <tr>\n",
       "      <th>2155020</th>\n",
       "      <td>ZEUS</td>\n",
       "      <td>ZTS</td>\n",
       "      <td>0.452844</td>\n",
       "    </tr>\n",
       "    <tr>\n",
       "      <th>2155021</th>\n",
       "      <td>ZION</td>\n",
       "      <td>ZTS</td>\n",
       "      <td>0.235938</td>\n",
       "    </tr>\n",
       "    <tr>\n",
       "      <th>2155022</th>\n",
       "      <td>ZIXI</td>\n",
       "      <td>ZTS</td>\n",
       "      <td>0.241739</td>\n",
       "    </tr>\n",
       "    <tr>\n",
       "      <th>2155023</th>\n",
       "      <td>ZTS</td>\n",
       "      <td>ZTS</td>\n",
       "      <td>2.891938</td>\n",
       "    </tr>\n",
       "  </tbody>\n",
       "</table>\n",
       "<p>1729225 rows × 3 columns</p>\n",
       "</div>"
      ],
      "text/plain": [
       "        source target    weight\n",
       "0          SPY    SPY  0.002162\n",
       "1          IWM    SPY  0.672491\n",
       "2          EEM    SPY  1.593354\n",
       "3          TLT    SPY  2.515801\n",
       "4          USO    SPY  0.711340\n",
       "...        ...    ...       ...\n",
       "2155019   ZBRA    ZTS  0.185630\n",
       "2155020   ZEUS    ZTS  0.452844\n",
       "2155021   ZION    ZTS  0.235938\n",
       "2155022   ZIXI    ZTS  0.241739\n",
       "2155023    ZTS    ZTS  2.891938\n",
       "\n",
       "[1729225 rows x 3 columns]"
      ]
     },
     "execution_count": 18,
     "metadata": {},
     "output_type": "execute_result"
    }
   ],
   "source": [
    "df"
   ]
  },
  {
   "cell_type": "code",
   "execution_count": 19,
   "id": "digital-bridal",
   "metadata": {},
   "outputs": [],
   "source": [
    "node_list = list(graph.nodes())"
   ]
  },
  {
   "cell_type": "code",
   "execution_count": 20,
   "id": "conscious-rider",
   "metadata": {},
   "outputs": [],
   "source": [
    "np.save('./node_list', node_list)"
   ]
  },
  {
   "cell_type": "code",
   "execution_count": null,
   "id": "hundred-colorado",
   "metadata": {},
   "outputs": [],
   "source": []
  }
 ],
 "metadata": {
  "kernelspec": {
   "display_name": "Python 3",
   "language": "python",
   "name": "python3"
  },
  "language_info": {
   "codemirror_mode": {
    "name": "ipython",
    "version": 3
   },
   "file_extension": ".py",
   "mimetype": "text/x-python",
   "name": "python",
   "nbconvert_exporter": "python",
   "pygments_lexer": "ipython3",
   "version": "3.6.13"
  }
 },
 "nbformat": 4,
 "nbformat_minor": 5
}
