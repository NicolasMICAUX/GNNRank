{
 "cells": [
  {
   "cell_type": "code",
   "execution_count": 1,
   "id": "blind-raise",
   "metadata": {},
   "outputs": [],
   "source": [
    "import numpy as np\n",
    "import scipy.sparse as sp\n",
    "import matplotlib.pyplot as plt\n",
    "import scipy.sparse.linalg\n",
    "import sklearn.cluster as sl\n",
    "import torch\n",
    "import matplotlib.pyplot as plt"
   ]
  },
  {
   "cell_type": "code",
   "execution_count": 2,
   "id": "hawaiian-survey",
   "metadata": {},
   "outputs": [],
   "source": [
    "def sqrtinvdiag(M):\n",
    "    \"\"\"Inverts and square-roots a positive diagonal matrix.\n",
    "    Args:\n",
    "        M (csc matrix): matrix to invert\n",
    "    Returns:\n",
    "        scipy sparse matrix of inverted square-root of diagonal\n",
    "    \"\"\"\n",
    "\n",
    "    d = M.diagonal()\n",
    "    dd = [1 / max(np.sqrt(x), 1 / 999999999) for x in d]\n",
    "\n",
    "    return sp.dia_matrix((dd, [0]), shape=(len(d), len(d))).tocsc()"
   ]
  },
  {
   "cell_type": "code",
   "execution_count": 3,
   "id": "multiple-alabama",
   "metadata": {},
   "outputs": [
    {
     "data": {
      "text/plain": [
       "<113x113 sparse matrix of type '<class 'numpy.int64'>'\n",
       "\twith 1787 stored elements in Compressed Sparse Row format>"
      ]
     },
     "execution_count": 3,
     "metadata": {},
     "output_type": "execute_result"
    }
   ],
   "source": [
    "adj = sp.load_npz('./Business/Business_FM_Full_adj.npz')\n",
    "adj"
   ]
  },
  {
   "cell_type": "code",
   "execution_count": 4,
   "id": "comprehensive-group",
   "metadata": {},
   "outputs": [
    {
     "name": "stdout",
     "output_type": "stream",
     "text": [
      "[ 0  1  2  4  5 14  3  6 10 16 21 24  8 12  7  9 33 23 30 26 22 48 59 15\n",
      " 36 17 11 43 71 66 20 29 25 18 45 34 27 40 13 35 37 91 41 54 50 44 94 87\n",
      " 32 55 79 42 62 81 19 67 52 49 83 53 98 85 46 78 39 57 38 84 61 76 70 56\n",
      " 75 31 96 77 51 73 88 92 74 64 72 93 68 86 69 60 97 65 58 47 90 63 82 28\n",
      " 95 89 80]\n",
      "[9.54991362e-01 1.04386070e-01 1.00424572e-01 1.53252012e-02\n",
      " 4.52120509e-02 2.77973711e-02 1.29998773e-02 1.02718023e-02\n",
      " 1.06430830e-02 9.51001151e-03 1.28292838e-02 6.02516512e-03\n",
      " 1.06252398e-02 3.95273971e-03 1.62249919e-02 6.80121810e-03\n",
      " 1.25666533e-02 6.10631078e-03 4.64636331e-03 2.79859535e-03\n",
      " 5.58969184e-03 1.11789695e-02 7.77645545e-03 8.65372626e-03\n",
      " 1.11190778e-02 5.09507371e-03 8.07318815e-03 4.07609207e-03\n",
      " 7.22188014e-04 5.40615917e-03 8.44161507e-03 1.72551864e-03\n",
      " 3.16068369e-03 8.82714162e-03 4.28844832e-03 3.79694017e-03\n",
      " 6.19789261e-03 3.78103085e-03 2.31474891e-03 2.48233838e-03\n",
      " 3.97966529e-03 3.69998435e-03 3.03829646e-03 5.93758939e-03\n",
      " 3.36587881e-03 4.47955473e-03 2.61812557e-03 9.47396913e-04\n",
      " 7.75348345e-03 2.74638796e-03 3.56480342e-03 1.65215146e-03\n",
      " 2.74904732e-03 2.66626893e-03 3.60275729e-03 3.11192338e-03\n",
      " 1.93056675e-03 2.34308468e-03 9.97049481e-04 7.13564979e-03\n",
      " 1.23646386e-03 2.23204859e-03 2.87142250e-03 8.74963141e-04\n",
      " 1.44730375e-03 1.14296269e-03 5.85654753e-03 2.75720516e-03\n",
      " 1.31993647e-03 1.31131999e-03 2.21044870e-03 5.87736830e-03\n",
      " 1.40741950e-03 1.59575222e-03 1.47181690e-03 1.83083121e-03\n",
      " 2.22504387e-03 1.65676216e-03 2.56333272e-03 3.07372953e-03\n",
      " 4.31851823e-04 2.81710424e-03 8.31285384e-04 2.68795991e-03\n",
      " 2.24117172e-03 2.62162005e-03 1.31407492e-03 3.23504584e-03\n",
      " 1.55584269e-03 4.33053381e-04 8.84324027e-04 3.73436138e-03\n",
      " 1.52373311e-03 1.35876007e-03 3.33584555e-03 4.85351338e-04\n",
      " 1.66615188e-03 1.14745365e-03 2.63777615e-03]\n"
     ]
    },
    {
     "data": {
      "image/png": "[encoded data removed]",
      "text/plain": [
       "<Figure size 432x288 with 1 Axes>"
      ]
     },
     "metadata": {
      "needs_background": "light"
     },
     "output_type": "display_data"
    }
   ],
   "source": [
    "A = adj.tocsc()\n",
    "D_out = sp.diags(A.transpose().sum(\n",
    "    axis=0).tolist(), [0]).tocsc()\n",
    "D_in = sp.diags(A.sum(axis=0).tolist(), [0]).tocsc()\n",
    "Dbar = (D_in + D_out)\n",
    "d = sqrtinvdiag(Dbar)\n",
    "normA = d * A * d\n",
    "size = A.shape[0]\n",
    "H = (A-A.transpose()) * 1j\n",
    "H_abs = np.abs(H)\n",
    "D_abs_inv = sp.diags(1/np.array(H_abs.sum(1))[:, 0])\n",
    "D_abs_inv.data[np.isinf(D_abs_inv.data)] = 0.0\n",
    "H_rw = D_abs_inv.dot(H)\n",
    "_, s, _ = sp.linalg.svds(H_rw, 100)\n",
    "eigens = s[list(np.arange(99,-1,-1))]\n",
    "eigengaps = eigens[:-1] - eigens[1:]\n",
    "print(np.argsort(-eigengaps))\n",
    "print(eigengaps)\n",
    "plt.plot(eigens)\n",
    "plt.show()\n",
    "# choose K = 5"
   ]
  },
  {
   "cell_type": "code",
   "execution_count": 5,
   "id": "fitted-dimension",
   "metadata": {},
   "outputs": [
    {
     "data": {
      "image/png": "[encoded data removed]",
      "text/plain": [
       "<Figure size 288x288 with 1 Axes>"
      ]
     },
     "metadata": {
      "needs_background": "light"
     },
     "output_type": "display_data"
    },
    {
     "data": {
      "text/plain": [
       "6"
      ]
     },
     "execution_count": 5,
     "metadata": {},
     "output_type": "execute_result"
    }
   ],
   "source": [
    "num_clusters = 5\n",
    "u, s, vt = sp.linalg.svds(H_rw, num_clusters)\n",
    "features_SVD = np.concatenate((np.real(u), np.imag(u)), axis=1)\n",
    "labels = sl.KMeans(n_clusters=num_clusters).fit_predict(features_SVD)\n",
    "A = torch.FloatTensor(A.toarray())\n",
    "P = torch.zeros(labels.shape[0], num_clusters).to(A.device)\n",
    "for k in range(num_clusters):\n",
    "    P[labels == k, k] = 1\n",
    "flow_mat = np.ones([num_clusters, num_clusters])*0.5\n",
    "for k in range(num_clusters-1):\n",
    "    for l in range(k+1, num_clusters):\n",
    "        w_kl = torch.matmul(P[:, k], torch.matmul(A, P[:, l])).item()\n",
    "        w_lk = torch.matmul(P[:, l], torch.matmul(A, P[:, k])).item()\n",
    "        if (w_kl + w_lk) > 0:\n",
    "            flow_mat[k, l] = w_kl/(w_kl + w_lk)\n",
    "            flow_mat[l, k] = w_lk/(w_kl + w_lk)\n",
    "plt.matshow(flow_mat)\n",
    "plt.show()\n",
    "np.sum(flow_mat>0.9)"
   ]
  },
  {
   "cell_type": "code",
   "execution_count": 6,
   "id": "italic-leadership",
   "metadata": {},
   "outputs": [
    {
     "data": {
      "text/plain": [
       "<206x206 sparse matrix of type '<class 'numpy.int64'>'\n",
       "\twith 1407 stored elements in Compressed Sparse Row format>"
      ]
     },
     "execution_count": 6,
     "metadata": {},
     "output_type": "execute_result"
    }
   ],
   "source": [
    "adj = sp.load_npz('./ComputerScience/ComputerScience_FM_Full_adj.npz')\n",
    "adj"
   ]
  },
  {
   "cell_type": "code",
   "execution_count": 7,
   "id": "simplified-confusion",
   "metadata": {},
   "outputs": [
    {
     "name": "stdout",
     "output_type": "stream",
     "text": [
      "[ 0  1  3  8  9 10  7 16 12 26 21 18 30 23 19 27 32 45 17 40 58 52 13 47\n",
      " 35 43 14 41 25 71 86 37 15 29 60 49 36 69 62 22 48 56 24  5 65 95  2 64\n",
      " 44 67 75 50 89 34 78 31 42 91 72 74 94 98 79 84 39 77 53 51 63 59 81 92\n",
      " 68 33 87 93 80 83 70 82 73 97 28 54 88 76 38 61 46  4 85  6 20 55 90 11\n",
      " 66 57 96]\n",
      "[1.25509429e+00 3.85703789e-01 5.63006818e-03 1.39945220e-01\n",
      " 1.76239800e-03 5.98548006e-03 1.64894639e-03 4.38120746e-02\n",
      " 6.68399981e-02 6.22923130e-02 4.51137640e-02 5.57930829e-04\n",
      " 2.51149808e-02 1.14024302e-02 9.98741040e-03 7.60193874e-03\n",
      " 3.07037861e-02 1.33440624e-02 1.69353125e-02 1.58696069e-02\n",
      " 1.59651836e-03 1.91726447e-02 6.64311972e-03 1.61513618e-02\n",
      " 6.00858234e-03 9.09275514e-03 2.36279864e-02 1.50458080e-02\n",
      " 2.37807210e-03 7.51106545e-03 1.62727473e-02 4.85161167e-03\n",
      " 1.46903253e-02 3.61044920e-03 5.01854048e-03 1.09461312e-02\n",
      " 7.34316914e-03 8.32196587e-03 2.13614869e-03 4.04449686e-03\n",
      " 1.29674712e-02 9.28917714e-03 4.67125009e-03 1.00295160e-02\n",
      " 5.56898290e-03 1.45632660e-02 1.81535032e-03 1.10313167e-02\n",
      " 6.33295931e-03 7.37160842e-03 5.33820410e-03 3.84835936e-03\n",
      " 1.16935649e-02 3.99210068e-03 2.36895242e-03 1.58938561e-03\n",
      " 6.02003849e-03 4.26640010e-04 1.25496133e-02 3.73006683e-03\n",
      " 7.43374796e-03 1.86108972e-03 6.66164851e-03 3.80649387e-03\n",
      " 5.62741883e-03 5.71442188e-03 5.52598624e-04 5.47304240e-03\n",
      " 3.61198055e-03 7.02226774e-03 2.73196549e-03 8.90908674e-03\n",
      " 4.48742903e-03 2.57444591e-03 4.35088052e-03 5.40983819e-03\n",
      " 2.28536448e-03 4.02969677e-03 4.93957025e-03 4.21426839e-03\n",
      " 2.92900077e-03 3.71450378e-03 2.72527744e-03 2.77410475e-03\n",
      " 4.21041286e-03 1.66484774e-03 8.47761911e-03 3.40731114e-03\n",
      " 2.36180565e-03 5.11371397e-03 1.42327794e-03 4.49824640e-03\n",
      " 3.66172204e-03 3.24434165e-03 4.34899207e-03 5.66721273e-03\n",
      " 3.84038800e-04 2.47291663e-03 4.31812416e-03]\n"
     ]
    },
    {
     "data": {
      "image/png": "[encoded data removed]",
      "text/plain": [
       "<Figure size 432x288 with 1 Axes>"
      ]
     },
     "metadata": {
      "needs_background": "light"
     },
     "output_type": "display_data"
    }
   ],
   "source": [
    "A = adj.tocsc()\n",
    "D_out = sp.diags(A.transpose().sum(\n",
    "    axis=0).tolist(), [0]).tocsc()\n",
    "D_in = sp.diags(A.sum(axis=0).tolist(), [0]).tocsc()\n",
    "Dbar = (D_in + D_out)\n",
    "d = sqrtinvdiag(Dbar)\n",
    "normA = d * A * d\n",
    "size = A.shape[0]\n",
    "H = (A-A.transpose()) * 1j\n",
    "H_abs = np.abs(H)\n",
    "D_abs_inv = sp.diags(1/np.array(H_abs.sum(1))[:, 0])\n",
    "D_abs_inv.data[np.isinf(D_abs_inv.data)] = 0.0\n",
    "H_rw = D_abs_inv.dot(H)\n",
    "_, s, _ = sp.linalg.svds(H_rw, 100)\n",
    "eigens = s[list(np.arange(99,-1,-1))]\n",
    "eigengaps = eigens[:-1] - eigens[1:]\n",
    "print(np.argsort(-eigengaps))\n",
    "print(eigengaps)\n",
    "plt.plot(eigens)\n",
    "plt.show()\n",
    "# choose K = 9"
   ]
  },
  {
   "cell_type": "code",
   "execution_count": 8,
   "id": "typical-bangkok",
   "metadata": {},
   "outputs": [
    {
     "data": {
      "image/png": "[encoded data removed]",
      "text/plain": [
       "<Figure size 288x288 with 1 Axes>"
      ]
     },
     "metadata": {
      "needs_background": "light"
     },
     "output_type": "display_data"
    },
    {
     "data": {
      "text/plain": [
       "8"
      ]
     },
     "execution_count": 8,
     "metadata": {},
     "output_type": "execute_result"
    }
   ],
   "source": [
    "num_clusters = 9\n",
    "u, s, vt = sp.linalg.svds(H_rw, num_clusters)\n",
    "features_SVD = np.concatenate((np.real(u), np.imag(u)), axis=1)\n",
    "labels = sl.KMeans(n_clusters=num_clusters).fit_predict(features_SVD)\n",
    "A = torch.FloatTensor(A.toarray())\n",
    "P = torch.zeros(labels.shape[0], num_clusters).to(A.device)\n",
    "for k in range(num_clusters):\n",
    "    P[labels == k, k] = 1\n",
    "flow_mat = np.ones([num_clusters, num_clusters])*0.5\n",
    "for k in range(num_clusters-1):\n",
    "    for l in range(k+1, num_clusters):\n",
    "        w_kl = torch.matmul(P[:, k], torch.matmul(A, P[:, l])).item()\n",
    "        w_lk = torch.matmul(P[:, l], torch.matmul(A, P[:, k])).item()\n",
    "        if (w_kl + w_lk) > 0:\n",
    "            flow_mat[k, l] = w_kl/(w_kl + w_lk)\n",
    "            flow_mat[l, k] = w_lk/(w_kl + w_lk)\n",
    "plt.matshow(flow_mat)\n",
    "plt.show()\n",
    "np.sum(flow_mat>0.9)"
   ]
  },
  {
   "cell_type": "code",
   "execution_count": 9,
   "id": "meaningful-sacrifice",
   "metadata": {},
   "outputs": [
    {
     "data": {
      "text/plain": [
       "<145x145 sparse matrix of type '<class 'numpy.int64'>'\n",
       "\twith 1204 stored elements in Compressed Sparse Row format>"
      ]
     },
     "execution_count": 9,
     "metadata": {},
     "output_type": "execute_result"
    }
   ],
   "source": [
    "adj = sp.load_npz('./History/History_FM_Full_adj.npz')\n",
    "adj"
   ]
  },
  {
   "cell_type": "code",
   "execution_count": 10,
   "id": "regulation-reader",
   "metadata": {},
   "outputs": [
    {
     "name": "stdout",
     "output_type": "stream",
     "text": [
      "[ 0  1  3  2 11  5 15 13 16  4 17  6 25  9  8 10 19 28 21 30  7 20 23 42\n",
      " 50 24 33 46 35 32 67 31 18 27 12 44 40 59 74 14 62 38 53 58 60 93 64 39\n",
      " 26 68 87 55 56 66 77 48 34 54 47 51 88 52 80 22 75 65 84 61 97 83 41 81\n",
      " 57 63 43 90 79 70 76 96 72 45 94 37 49 36 86 73 89 29 91 98 82 71 92 95\n",
      " 85 69 78]\n",
      "[7.60160347e-01 1.62874038e-01 8.26628615e-02 9.16216157e-02\n",
      " 2.54231795e-02 5.60144150e-02 2.21564390e-02 1.37929988e-02\n",
      " 1.84867841e-02 1.96589958e-02 1.81385577e-02 6.93552577e-02\n",
      " 7.25385793e-03 2.77236862e-02 5.39503466e-03 2.79923176e-02\n",
      " 2.67950298e-02 2.39365218e-02 8.37301826e-03 1.76879069e-02\n",
      " 1.36200656e-02 1.47113399e-02 3.20378145e-03 1.26588254e-02\n",
      " 1.04236915e-02 2.12066236e-02 4.46445936e-03 7.71201538e-03\n",
      " 1.71851322e-02 1.27143385e-03 1.38480033e-02 8.43300896e-03\n",
      " 8.59181569e-03 9.80237893e-03 3.77798673e-03 8.88651852e-03\n",
      " 1.67555825e-03 1.76640414e-03 5.31331789e-03 4.46695713e-03\n",
      " 6.24534453e-03 2.87748472e-03 1.26159292e-02 2.71593808e-03\n",
      " 6.24692908e-03 1.78792972e-03 9.37626941e-03 3.57972406e-03\n",
      " 3.88031754e-03 1.72331596e-03 1.05947615e-02 3.53074572e-03\n",
      " 3.32015501e-03 5.25735372e-03 3.70183105e-03 4.13626022e-03\n",
      " 3.92954926e-03 2.84468583e-03 5.24415874e-03 5.78120821e-03\n",
      " 5.22079037e-03 2.96726564e-03 5.36302847e-03 2.73613474e-03\n",
      " 4.99854286e-03 3.02866628e-03 3.90664203e-03 8.47019863e-03\n",
      " 4.44368557e-03 7.47702502e-04 2.37672737e-03 9.66113720e-04\n",
      " 2.05515611e-03 1.41993736e-03 5.45461663e-03 3.17732458e-03\n",
      " 2.33894625e-03 3.89504227e-03 7.13056699e-04 2.45804970e-03\n",
      " 3.25260137e-03 2.86035650e-03 1.05543190e-03 2.88987991e-03\n",
      " 3.01891652e-03 7.71556293e-04 1.52077713e-03 4.26602444e-03\n",
      " 3.33247621e-03 1.29439297e-03 2.49998388e-03 1.21893928e-03\n",
      " 8.45601786e-04 5.02069709e-03 1.77049600e-03 8.40776132e-04\n",
      " 2.10991268e-03 2.90799447e-03 1.16269214e-03]\n"
     ]
    },
    {
     "data": {
      "image/png": "[encoded data removed]",
      "text/plain": [
       "<Figure size 432x288 with 1 Axes>"
      ]
     },
     "metadata": {
      "needs_background": "light"
     },
     "output_type": "display_data"
    }
   ],
   "source": [
    "A = adj.tocsc()\n",
    "D_out = sp.diags(A.transpose().sum(\n",
    "    axis=0).tolist(), [0]).tocsc()\n",
    "D_in = sp.diags(A.sum(axis=0).tolist(), [0]).tocsc()\n",
    "Dbar = (D_in + D_out)\n",
    "d = sqrtinvdiag(Dbar)\n",
    "normA = d * A * d\n",
    "size = A.shape[0]\n",
    "H = (A-A.transpose()) * 1j\n",
    "H_abs = np.abs(H)\n",
    "D_abs_inv = sp.diags(1/np.array(H_abs.sum(1))[:, 0])\n",
    "D_abs_inv.data[np.isinf(D_abs_inv.data)] = 0.0\n",
    "H_rw = D_abs_inv.dot(H)\n",
    "_, s, _ = sp.linalg.svds(H_rw, 100)\n",
    "eigens = s[list(np.arange(99,-1,-1))]\n",
    "eigengaps = eigens[:-1] - eigens[1:]\n",
    "print(np.argsort(-eigengaps))\n",
    "print(eigengaps)\n",
    "plt.plot(eigens)\n",
    "plt.show()\n",
    "# choose K = 12"
   ]
  },
  {
   "cell_type": "code",
   "execution_count": 11,
   "id": "important-ultimate",
   "metadata": {},
   "outputs": [
    {
     "data": {
      "image/png": "[encoded data removed]",
      "text/plain": [
       "<Figure size 288x288 with 1 Axes>"
      ]
     },
     "metadata": {
      "needs_background": "light"
     },
     "output_type": "display_data"
    },
    {
     "data": {
      "text/plain": [
       "22"
      ]
     },
     "execution_count": 11,
     "metadata": {},
     "output_type": "execute_result"
    }
   ],
   "source": [
    "num_clusters = 12\n",
    "u, s, vt = sp.linalg.svds(H_rw, num_clusters)\n",
    "features_SVD = np.concatenate((np.real(u), np.imag(u)), axis=1)\n",
    "labels = sl.KMeans(n_clusters=num_clusters).fit_predict(features_SVD)\n",
    "A = torch.FloatTensor(A.toarray())\n",
    "P = torch.zeros(labels.shape[0], num_clusters).to(A.device)\n",
    "for k in range(num_clusters):\n",
    "    P[labels == k, k] = 1\n",
    "flow_mat = np.ones([num_clusters, num_clusters])*0.5\n",
    "for k in range(num_clusters-1):\n",
    "    for l in range(k+1, num_clusters):\n",
    "        w_kl = torch.matmul(P[:, k], torch.matmul(A, P[:, l])).item()\n",
    "        w_lk = torch.matmul(P[:, l], torch.matmul(A, P[:, k])).item()\n",
    "        if (w_kl + w_lk) > 0:\n",
    "            flow_mat[k, l] = w_kl/(w_kl + w_lk)\n",
    "            flow_mat[l, k] = w_lk/(w_kl + w_lk)\n",
    "plt.matshow(flow_mat)\n",
    "plt.show()\n",
    "np.sum(flow_mat>0.9)"
   ]
  },
  {
   "cell_type": "code",
   "execution_count": null,
   "id": "outer-shelf",
   "metadata": {},
   "outputs": [],
   "source": []
  }
 ],
 "metadata": {
  "kernelspec": {
   "display_name": "Python 3",
   "language": "python",
   "name": "python3"
  },
  "language_info": {
   "codemirror_mode": {
    "name": "ipython",
    "version": 3
   },
   "file_extension": ".py",
   "mimetype": "text/x-python",
   "name": "python",
   "nbconvert_exporter": "python",
   "pygments_lexer": "ipython3",
   "version": "3.6.13"
  }
 },
 "nbformat": 4,
 "nbformat_minor": 5
}
