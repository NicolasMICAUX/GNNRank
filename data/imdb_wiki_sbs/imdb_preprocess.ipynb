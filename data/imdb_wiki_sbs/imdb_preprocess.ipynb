{
 "cells": [
  {
   "cell_type": "code",
   "execution_count": 1,
   "metadata": {
    "collapsed": true
   },
   "outputs": [],
   "source": [
    "import pandas as pd\n",
    "import scipy.sparse as sp\n",
    "from tqdm import tqdm\n",
    "import numpy as np"
   ]
  },
  {
   "cell_type": "code",
   "execution_count": 2,
   "outputs": [],
   "source": [
    "df = pd.read_csv('crowd_labels.csv')\n",
    "df = df[['left', 'right', 'label']]"
   ],
   "metadata": {
    "collapsed": false
   }
  },
  {
   "cell_type": "markdown",
   "source": [
    "## Adjacency matrix"
   ],
   "metadata": {
    "collapsed": false
   }
  },
  {
   "cell_type": "code",
   "execution_count": 3,
   "outputs": [],
   "source": [
    "# get all unique values in df['left'] and df['right']\n",
    "persons = list(set(df['left'].unique().tolist() + df['right'].unique().tolist()))"
   ],
   "metadata": {
    "collapsed": false
   }
  },
  {
   "cell_type": "code",
   "execution_count": 4,
   "outputs": [
    {
     "name": "stderr",
     "output_type": "stream",
     "text": [
      "250249it [01:19, 3158.50it/s]\n"
     ]
    }
   ],
   "source": [
    "adj = sp.lil_matrix((len(persons), len(persons)))\n",
    "\n",
    "for row in tqdm(df.itertuples()):\n",
    "    label = (row.label == row.left)  # 1 if left is older, 0 if right is older\n",
    "    label = 2 * label - 1\n",
    "    idx_left = persons.index(row.left)\n",
    "    idx_right = persons.index(row.right)\n",
    "    adj[idx_left, idx_right] = label\n",
    "    # adj[idx_right, idx_left] = -label\n",
    "\n",
    "# save adjacency matrix as a sparse matrix\n",
    "adj = adj.tocsr()\n",
    "sp.save_npz(f'./adj.npz', adj)"
   ],
   "metadata": {
    "collapsed": false
   }
  },
  {
   "cell_type": "code",
   "execution_count": 5,
   "outputs": [
    {
     "data": {
      "text/plain": "<9150x9150 sparse matrix of type '<class 'numpy.float64'>'\n\twith 250249 stored elements in Compressed Sparse Row format>"
     },
     "execution_count": 5,
     "metadata": {},
     "output_type": "execute_result"
    }
   ],
   "source": [
    "adj"
   ],
   "metadata": {
    "collapsed": false
   }
  },
  {
   "cell_type": "markdown",
   "source": [
    "## Ground truth"
   ],
   "metadata": {
    "collapsed": false
   }
  },
  {
   "cell_type": "code",
   "execution_count": 6,
   "outputs": [],
   "source": [
    "gt = pd.read_csv('gt.csv')"
   ],
   "metadata": {
    "collapsed": false
   }
  },
  {
   "cell_type": "code",
   "execution_count": 7,
   "outputs": [
    {
     "name": "stderr",
     "output_type": "stream",
     "text": [
      "9150it [00:01, 7025.69it/s]\n"
     ]
    }
   ],
   "source": [
    "y = np.zeros(len(persons))\n",
    "for row in tqdm(gt.itertuples()):\n",
    "    idx = persons.index(row.label)\n",
    "    y[idx] = row.score\n",
    "# save as `y.npy`\n",
    "np.save('./y.npy', y)"
   ],
   "metadata": {
    "collapsed": false
   }
  }
 ],
 "metadata": {
  "kernelspec": {
   "display_name": "Python 3",
   "language": "python",
   "name": "python3"
  },
  "language_info": {
   "codemirror_mode": {
    "name": "ipython",
    "version": 2
   },
   "file_extension": ".py",
   "mimetype": "text/x-python",
   "name": "python",
   "nbconvert_exporter": "python",
   "pygments_lexer": "ipython2",
   "version": "2.7.6"
  }
 },
 "nbformat": 4,
 "nbformat_minor": 0
}
